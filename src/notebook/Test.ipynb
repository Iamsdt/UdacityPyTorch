{
  "nbformat": 4,
  "nbformat_minor": 0,
  "metadata": {
    "colab": {
      "name": "Test.ipynb",
      "version": "0.3.2",
      "provenance": [],
      "include_colab_link": true
    },
    "kernelspec": {
      "name": "python3",
      "display_name": "Python 3"
    },
    "accelerator": "GPU"
  },
  "cells": [
    {
      "cell_type": "markdown",
      "metadata": {
        "id": "view-in-github",
        "colab_type": "text"
      },
      "source": [
        "<a href=\"https://colab.research.google.com/github/Iamsdt/UdacityPyTorch/blob/master/src/notebook/Test.ipynb\" target=\"_parent\"><img src=\"https://colab.research.google.com/assets/colab-badge.svg\" alt=\"Open In Colab\"/></a>"
      ]
    },
    {
      "metadata": {
        "id": "VdUnh0QdudIf",
        "colab_type": "code",
        "colab": {}
      },
      "cell_type": "code",
      "source": [
        "import torch\n",
        "import torch.nn as nn\n",
        "import torch.nn.functional as F\n",
        "\n",
        "class Network(nn.Module):\n",
        "  \n",
        "  def __init__(self):\n",
        "    super(Network, self).__init__()\n",
        "    # number of hidden nodes in each layer (512)\n",
        "    hidden_1 = 512\n",
        "    hidden_2 = 512\n",
        "    # linear layer (784 -> hidden_1)\n",
        "    self.fc1 = nn.Linear(28 * 28, hidden_1)\n",
        "    # linear layer (n_hidden -> hidden_2)\n",
        "    self.fc2 = nn.Linear(hidden_1, hidden_2)\n",
        "    # linear layer (n_hidden -> 10)\n",
        "    self.fc3 = nn.Linear(hidden_2, 10)\n",
        "    # dropout layer (p=0.2)\n",
        "    # dropout prevents overfitting of data\n",
        "    self.dropout = nn.Dropout(0.2)\n",
        "    \n",
        "    \n",
        "  def forward(self,x):\n",
        "    x = x.view(-1,784) # 28*28\n",
        "    # add hidden layer, with relu activation function\n",
        "    x = F.relu(self.fc1(x))\n",
        "    # add dropout layer\n",
        "    x = self.dropout(x)\n",
        "    # add hidden layer, with relu activation function\n",
        "    x = F.relu(self.fc2(x))\n",
        "    # add dropout layer\n",
        "    x = self.dropout(x)\n",
        "    # add output layer\n",
        "    x = self.fc3(x)\n",
        "    return x"
      ],
      "execution_count": 0,
      "outputs": []
    },
    {
      "metadata": {
        "id": "n7v6wvvvunHq",
        "colab_type": "code",
        "colab": {
          "base_uri": "https://localhost:8080/",
          "height": 119
        },
        "outputId": "bf46aac8-4473-4964-8d74-e3a83708c534"
      },
      "cell_type": "code",
      "source": [
        "model = Network()\n",
        "device = torch.device(\"cuda\" if torch.cuda.is_available() else \"cpu\")\n",
        "model.to(device)"
      ],
      "execution_count": 2,
      "outputs": [
        {
          "output_type": "execute_result",
          "data": {
            "text/plain": [
              "Network(\n",
              "  (fc1): Linear(in_features=784, out_features=512, bias=True)\n",
              "  (fc2): Linear(in_features=512, out_features=512, bias=True)\n",
              "  (fc3): Linear(in_features=512, out_features=10, bias=True)\n",
              "  (dropout): Dropout(p=0.2)\n",
              ")"
            ]
          },
          "metadata": {
            "tags": []
          },
          "execution_count": 2
        }
      ]
    },
    {
      "metadata": {
        "id": "7iZYwyqzuw4e",
        "colab_type": "code",
        "colab": {
          "base_uri": "https://localhost:8080/",
          "height": 119
        },
        "outputId": "b075dce5-dee6-4061-d7e6-b96f9120894d"
      },
      "cell_type": "code",
      "source": [
        "model.load_state_dict(torch.load(\"numModel98Valid.pt\",map_location={'cuda:0': 'cpu'}))\n",
        "print(model)"
      ],
      "execution_count": 3,
      "outputs": [
        {
          "output_type": "stream",
          "text": [
            "Network(\n",
            "  (fc1): Linear(in_features=784, out_features=512, bias=True)\n",
            "  (fc2): Linear(in_features=512, out_features=512, bias=True)\n",
            "  (fc3): Linear(in_features=512, out_features=10, bias=True)\n",
            "  (dropout): Dropout(p=0.2)\n",
            ")\n"
          ],
          "name": "stdout"
        }
      ]
    },
    {
      "metadata": {
        "id": "RhsM5aBru2Mu",
        "colab_type": "code",
        "colab": {}
      },
      "cell_type": "code",
      "source": [
        "from torchvision import datasets, transforms\n",
        "# number of subprocesses to use for data loading\n",
        "num_workers = 0\n",
        "# how many samples per batch to load\n",
        "batch_size = 64\n",
        "\n",
        "# convert data to torch.FloatTensor\n",
        "transform = transforms.ToTensor()\n",
        "\n",
        "#data set\n",
        "test_data = datasets.MNIST(root=\"data\",train=False,download=True,transform=transform)\n",
        "test_loader = torch.utils.data.DataLoader(test_data, batch_size=batch_size, num_workers=num_workers)"
      ],
      "execution_count": 0,
      "outputs": []
    },
    {
      "metadata": {
        "id": "5MYtbUlJvAuQ",
        "colab_type": "code",
        "colab": {
          "base_uri": "https://localhost:8080/",
          "height": 255
        },
        "outputId": "fef03db8-f4ac-474b-b477-77a33f08e993"
      },
      "cell_type": "code",
      "source": [
        "import numpy as np\n",
        "# Gpu\n",
        "device = torch.device(\"cuda\" if torch.cuda.is_available() else \"cpu\")\n",
        "#move tensor to default device\n",
        "model.to(device)\n",
        "\n",
        "# specify loss function (categorical cross-entropy)\n",
        "criterion = nn.CrossEntropyLoss()\n",
        "\n",
        "# specify optimizer (stochastic gradient descent) and learning rate = 0.01\n",
        "optimizer = torch.optim.Adam(model.parameters(), lr=0.001)\n",
        "\n",
        "# initialize lists to monitor test loss and accuracy\n",
        "test_loss = 0.0\n",
        "class_correct = list(0. for i in range(10))\n",
        "class_total = list(0. for i in range(10))\n",
        "\n",
        "with torch.no_grad():\n",
        "    model.eval() # prep model for evaluation\n",
        "    for data, target in test_loader:\n",
        "      # Move input and label tensors to the default device\n",
        "      data, target = data.to(device), target.to(device)\n",
        "      # forward pass: compute predicted outputs by passing inputs to the model\n",
        "      output = model(data)\n",
        "      # calculate the loss\n",
        "      loss = criterion(output, target)\n",
        "      # update test loss \n",
        "      test_loss += loss.item()*data.size(0)\n",
        "      # convert output probabilities to predicted class\n",
        "      _, pred = torch.max(output, 1)\n",
        "      # compare predictions to true label\n",
        "      correct = np.squeeze(pred.eq(target.data.view_as(pred)))\n",
        "      # calculate test accuracy for each object class\n",
        "      for i in range(16):\n",
        "        label = target.data[i]\n",
        "        class_correct[label] += correct[i].item()\n",
        "        class_total[label] += 1\n",
        "\n",
        "    # calculate and print avg test loss\n",
        "    test_loss = test_loss/len(test_loader.dataset)\n",
        "    print('Test Loss: {:.6f}\\n'.format(test_loss))\n",
        "\n",
        "    for i in range(10):\n",
        "        if class_total[i] > 0:\n",
        "            print('Test Accuracy of %5s: %2d%% (%2d/%2d)' % (\n",
        "              str(i), 100 * class_correct[i] / class_total[i],\n",
        "                np.sum(class_correct[i]), np.sum(class_total[i])))\n",
        "        else:\n",
        "            print('Test Accuracy of %5s: N/A (no training examples)' % (classes[i]))\n",
        "\n",
        "print('\\nTest Accuracy (Overall): %2d%% (%2d/%2d)' % (\n",
        "    100. * np.sum(class_correct) / np.sum(class_total),\n",
        "    np.sum(class_correct), np.sum(class_total)))"
      ],
      "execution_count": 5,
      "outputs": [
        {
          "output_type": "stream",
          "text": [
            "Test Loss: 0.077629\n",
            "\n",
            "Test Accuracy of     0: 98% (238/241)\n",
            "Test Accuracy of     1: 98% (285/288)\n",
            "Test Accuracy of     2: 98% (259/263)\n",
            "Test Accuracy of     3: 98% (258/261)\n",
            "Test Accuracy of     4: 97% (263/270)\n",
            "Test Accuracy of     5: 97% (210/216)\n",
            "Test Accuracy of     6: 98% (219/223)\n",
            "Test Accuracy of     7: 98% (259/263)\n",
            "Test Accuracy of     8: 98% (220/223)\n",
            "Test Accuracy of     9: 98% (259/264)\n",
            "\n",
            "Test Accuracy (Overall): 98% (2470/2512)\n"
          ],
          "name": "stdout"
        }
      ]
    }
  ]
}