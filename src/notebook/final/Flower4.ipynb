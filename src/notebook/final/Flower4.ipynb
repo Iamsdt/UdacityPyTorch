{
  "nbformat": 4,
  "nbformat_minor": 0,
  "metadata": {
    "colab": {
      "name": "Flower4.ipynb",
      "version": "0.3.2",
      "provenance": [],
      "include_colab_link": true
    },
    "kernelspec": {
      "name": "python3",
      "display_name": "Python 3"
    },
    "accelerator": "GPU"
  },
  "cells": [
    {
      "cell_type": "markdown",
      "metadata": {
        "id": "view-in-github",
        "colab_type": "text"
      },
      "source": [
        "<a href=\"https://colab.research.google.com/github/Iamsdt/UdacityPyTorch/blob/master/src/notebook/final/Flower4.ipynb\" target=\"_parent\"><img src=\"https://colab.research.google.com/assets/colab-badge.svg\" alt=\"Open In Colab\"/></a>"
      ]
    },
    {
      "metadata": {
        "id": "aRu2_ELl_7-6",
        "colab_type": "code",
        "outputId": "04e5aeb4-aa9c-4fd0-bd58-b19205e03bc5",
        "colab": {
          "base_uri": "https://localhost:8080/",
          "height": 54
        }
      },
      "cell_type": "code",
      "source": [
        "# http://pytorch.org/\n",
        "from os.path import exists\n",
        "from wheel.pep425tags import get_abbr_impl, get_impl_ver, get_abi_tag\n",
        "platform = '{}{}-{}'.format(get_abbr_impl(), get_impl_ver(), get_abi_tag())\n",
        "cuda_output = !ldconfig -p|grep cudart.so|sed -e 's/.*\\.\\([0-9]*\\)\\.\\([0-9]*\\)$/cu\\1\\2/'\n",
        "accelerator = cuda_output[0] if exists('/dev/nvidia0') else 'cpu'\n",
        "\n",
        "!pip install -q http://download.pytorch.org/whl/{accelerator}/torch-0.4.1-{platform}-linux_x86_64.whl torchvision\n",
        "\n",
        "import torch"
      ],
      "execution_count": 1,
      "outputs": [
        {
          "output_type": "stream",
          "text": [
            "tcmalloc: large alloc 1073750016 bytes == 0x58c0a000 @  0x7ff7d12bb2a4 0x591a07 0x5b5d56 0x502e9a 0x506859 0x502209 0x502f3d 0x506859 0x504c28 0x502540 0x502f3d 0x506859 0x504c28 0x502540 0x502f3d 0x506859 0x504c28 0x502540 0x502f3d 0x507641 0x502209 0x502f3d 0x506859 0x504c28 0x502540 0x502f3d 0x507641 0x504c28 0x502540 0x502f3d 0x507641\n"
          ],
          "name": "stdout"
        }
      ]
    },
    {
      "metadata": {
        "id": "Kwel9YNUAA3V",
        "colab_type": "code",
        "outputId": "b19dfafe-d80f-4ad5-fd19-bd51fb28ab6e",
        "colab": {
          "base_uri": "https://localhost:8080/",
          "height": 34
        }
      },
      "cell_type": "code",
      "source": [
        "# Load data\n",
        "!wget -cq https://github.com/udacity/pytorch_challenge/raw/master/cat_to_name.json\n",
        "\n",
        "!wget -cq https://s3.amazonaws.com/content.udacity-data.com/courses/nd188/flower_data.zip\n",
        "\n",
        "!unzip -qq flower_data.zip\n",
        "\n",
        "print(\"Data loaded\")"
      ],
      "execution_count": 2,
      "outputs": [
        {
          "output_type": "stream",
          "text": [
            "Data loaded\n"
          ],
          "name": "stdout"
        }
      ]
    },
    {
      "metadata": {
        "id": "Kcy1bFgwADM5",
        "colab_type": "code",
        "outputId": "928f87f6-c2cc-4ab3-c49e-a8d539d9c9cd",
        "colab": {
          "base_uri": "https://localhost:8080/",
          "height": 204
        }
      },
      "cell_type": "code",
      "source": [
        "# Load train class\n",
        "!wget -c https://raw.githubusercontent.com/Iamsdt/UdacityPyTorch/master/src/notebook/Train.py\n",
        "\n",
        "import Train"
      ],
      "execution_count": 3,
      "outputs": [
        {
          "output_type": "stream",
          "text": [
            "--2018-12-27 13:04:22--  https://raw.githubusercontent.com/Iamsdt/UdacityPyTorch/master/src/notebook/Train.py\n",
            "Resolving raw.githubusercontent.com (raw.githubusercontent.com)... 151.101.0.133, 151.101.64.133, 151.101.128.133, ...\n",
            "Connecting to raw.githubusercontent.com (raw.githubusercontent.com)|151.101.0.133|:443... connected.\n",
            "HTTP request sent, awaiting response... 200 OK\n",
            "Length: 13107 (13K) [text/plain]\n",
            "Saving to: ‘Train.py’\n",
            "\n",
            "\rTrain.py              0%[                    ]       0  --.-KB/s               \rTrain.py            100%[===================>]  12.80K  --.-KB/s    in 0.005s  \n",
            "\n",
            "2018-12-27 13:04:22 (2.66 MB/s) - ‘Train.py’ saved [13107/13107]\n",
            "\n"
          ],
          "name": "stdout"
        }
      ]
    },
    {
      "metadata": {
        "id": "D0ELxwegAFlO",
        "colab_type": "code",
        "outputId": "f6fbf3fa-7f47-4e0b-f7ca-c6c25c65c518",
        "colab": {
          "base_uri": "https://localhost:8080/",
          "height": 68
        }
      },
      "cell_type": "code",
      "source": [
        "import Train\n",
        "\n",
        "# create train and test loader\n",
        "data_dir = 'flower_data'\n",
        "\n",
        "from torchvision import datasets, transforms\n",
        "\n",
        "# number of subprocesses to use for data loading\n",
        "num_workers = 4\n",
        "# how many samples per batch to load\n",
        "batch_size = 32\n",
        "# percentage of training set to use as validation\n",
        "valid_size = 0.2\n",
        "\n",
        "# convert data to torch.FloatTensor\n",
        "transform_train = transforms.Compose([\n",
        "        transforms.RandomResizedCrop(224),\n",
        "        transforms.RandomHorizontalFlip(),\n",
        "        transforms.RandomRotation(10),\n",
        "        transforms.ToTensor(),\n",
        "        transforms.Normalize([0.485, 0.456, 0.406], [0.229, 0.224, 0.225])\n",
        "    ])\n",
        "\n",
        "transform_valid = transforms.Compose([\n",
        "        transforms.Resize(256),\n",
        "        transforms.CenterCrop(224),\n",
        "        transforms.ToTensor(),\n",
        "        transforms.Normalize([0.485, 0.456, 0.406], [0.229, 0.224, 0.225])\n",
        "    ])\n",
        "\n",
        "test_transforms = transforms.Compose([\n",
        "    transforms.Resize(256),\n",
        "    transforms.CenterCrop(224),\n",
        "    transforms.ToTensor(),\n",
        "    transforms.Normalize([0.485, 0.456, 0.406], [0.229, 0.224, 0.225])\n",
        "    ])\n",
        "\n",
        "# ceate data loader\n",
        "train_loader, valid_loader, test_loader = Train.prepare_loader(data_dir,transform_train,transform_valid,test_transforms)"
      ],
      "execution_count": 1,
      "outputs": [
        {
          "output_type": "stream",
          "text": [
            "Train size:6552\n",
            "Valid size:6552\n",
            "Test size:818\n"
          ],
          "name": "stdout"
        }
      ]
    },
    {
      "metadata": {
        "id": "2Dly_GIPAGOT",
        "colab_type": "code",
        "outputId": "7f04e475-91bb-45ba-abbb-28fb4eb5c05e",
        "colab": {
          "base_uri": "https://localhost:8080/",
          "height": 71
        }
      },
      "cell_type": "code",
      "source": [
        "from torchvision import models\n",
        "# load a pretrained model\n",
        "model = models.densenet161(pretrained = True)"
      ],
      "execution_count": 2,
      "outputs": [
        {
          "output_type": "stream",
          "text": [
            "/usr/local/lib/python3.6/dist-packages/torchvision/models/densenet.py:212: UserWarning: nn.init.kaiming_normal is now deprecated in favor of nn.init.kaiming_normal_.\n",
            "  nn.init.kaiming_normal(m.weight.data)\n"
          ],
          "name": "stderr"
        }
      ]
    },
    {
      "metadata": {
        "id": "cA0Ff8ZrTQm9",
        "colab_type": "code",
        "outputId": "18342455-88bb-46b5-9559-4959e84bb19b",
        "colab": {
          "base_uri": "https://localhost:8080/",
          "height": 34
        }
      },
      "cell_type": "code",
      "source": [
        "from torch import nn\n",
        "print(model.classifier)\n",
        "#num_ftrs = model.classifier.in_features\n",
        "#print(num_ftrs)\n",
        "#model.classifier = nn.Linear(num_ftrs, 102)\n",
        "#print(model.classifier)"
      ],
      "execution_count": 3,
      "outputs": [
        {
          "output_type": "stream",
          "text": [
            "Linear(in_features=2208, out_features=1000, bias=True)\n"
          ],
          "name": "stdout"
        }
      ]
    },
    {
      "metadata": {
        "id": "PnIdZh1EAHtr",
        "colab_type": "code",
        "outputId": "10a1a9f3-53bf-47e5-d990-34c5dea923ca",
        "colab": {
          "base_uri": "https://localhost:8080/",
          "height": 187
        }
      },
      "cell_type": "code",
      "source": [
        "from collections import OrderedDict\n",
        "from torch import nn\n",
        "\n",
        "# create a simple classifier\n",
        "# 83\n",
        "classifier = nn.Sequential(OrderedDict([\n",
        "                ('fc1', nn.Linear(2208, 1560)),\n",
        "                ('fc2', nn.Linear(1560, 1024)),\n",
        "                ('fc3', nn.Linear(1024, 786)),\n",
        "                ('fc4', nn.Linear(786, 512)),\n",
        "                ('relu', nn.ReLU()),\n",
        "                ('dropout',nn.Dropout(p=0.2)),\n",
        "                ('fc5', nn.Linear(512, 102)),\n",
        "                #('fc5', nn.Linear(500, 102)),\n",
        "                ('output', nn.LogSoftmax(dim=1))\n",
        "                ]))\n",
        "\n",
        "# replace the classifer\n",
        "model.classifier = classifier\n",
        "# check the classifier\n",
        "print(model.classifier)"
      ],
      "execution_count": 4,
      "outputs": [
        {
          "output_type": "stream",
          "text": [
            "Sequential(\n",
            "  (fc1): Linear(in_features=2208, out_features=1560, bias=True)\n",
            "  (fc2): Linear(in_features=1560, out_features=1024, bias=True)\n",
            "  (fc3): Linear(in_features=1024, out_features=786, bias=True)\n",
            "  (fc4): Linear(in_features=786, out_features=512, bias=True)\n",
            "  (relu): ReLU()\n",
            "  (dropout): Dropout(p=0.2)\n",
            "  (fc5): Linear(in_features=512, out_features=102, bias=True)\n",
            "  (output): LogSoftmax()\n",
            ")\n"
          ],
          "name": "stdout"
        }
      ]
    },
    {
      "metadata": {
        "id": "espl8mY-AJOK",
        "colab_type": "code",
        "colab": {}
      },
      "cell_type": "code",
      "source": [
        "import torch\n",
        "from torch import optim\n",
        "from torch.optim import lr_scheduler\n",
        "# set cretrion and optimizer\n",
        "criterion = nn.CrossEntropyLoss()\n",
        "# Observe that all parameters are being optimized\n",
        "optimizer = optim.SGD(model.parameters(), lr=0.01, momentum=0.9)\n",
        "\n",
        "#optimizer = optim.Adadelta(model.parameters(), lr=0.01)\n",
        "scheduler = lr_scheduler.StepLR(optimizer, step_size=2, gamma=0.1)\n",
        "\n",
        "#move tensor to default device\n",
        "device = torch.device(\"cuda\" if torch.cuda.is_available() else \"cpu\")\n",
        "model.to(device)"
      ],
      "execution_count": 0,
      "outputs": []
    },
    {
      "metadata": {
        "id": "8SSsXJ-9AWXF",
        "colab_type": "code",
        "outputId": "0c3e4f24-8b49-403b-fbba-5603437c1e84",
        "colab": {
          "base_uri": "https://localhost:8080/",
          "height": 34
        }
      },
      "cell_type": "code",
      "source": [
        "# Freeze the parameter\n",
        "model = Train.freeze_parameters(model)\n",
        "#for _, param in model.named_parameters():\n",
        "#  param.requires_grad = False\n",
        "print(\"Parameter Freezed\")"
      ],
      "execution_count": 0,
      "outputs": [
        {
          "output_type": "stream",
          "text": [
            "Parameter Freezed\n"
          ],
          "name": "stdout"
        }
      ]
    },
    {
      "metadata": {
        "id": "Av5xnmB4GhI4",
        "colab_type": "code",
        "outputId": "63860e95-86b8-4e9a-b270-4f401a1d0b3b",
        "colab": {
          "base_uri": "https://localhost:8080/",
          "height": 139
        }
      },
      "cell_type": "code",
      "source": [
        "!pip uninstall -y Pillow\n",
        "!pip install Pillow==5.3.0"
      ],
      "execution_count": 12,
      "outputs": [
        {
          "output_type": "stream",
          "text": [
            "Uninstalling Pillow-5.3.0:\n",
            "  Successfully uninstalled Pillow-5.3.0\n",
            "Collecting Pillow==5.3.0\n",
            "  Using cached https://files.pythonhosted.org/packages/62/94/5430ebaa83f91cc7a9f687ff5238e26164a779cca2ef9903232268b0a318/Pillow-5.3.0-cp36-cp36m-manylinux1_x86_64.whl\n",
            "Installing collected packages: Pillow\n",
            "Successfully installed Pillow-5.3.0\n"
          ],
          "name": "stdout"
        }
      ]
    },
    {
      "metadata": {
        "id": "p_mkjeqyPpgq",
        "colab_type": "code",
        "colab": {
          "base_uri": "https://localhost:8080/",
          "height": 122
        },
        "outputId": "2eadf66f-2aea-4811-f56a-bb7b4abbffe5"
      },
      "cell_type": "code",
      "source": [
        "from google.colab import drive\n",
        "drive.mount('/content/gdrive')"
      ],
      "execution_count": 9,
      "outputs": [
        {
          "output_type": "stream",
          "text": [
            "Go to this URL in a browser: https://accounts.google.com/o/oauth2/auth?client_id=947318989803-6bn6qk8qdgf4n4g3pfee6491hc0brc4i.apps.googleusercontent.com&redirect_uri=urn%3Aietf%3Awg%3Aoauth%3A2.0%3Aoob&scope=email%20https%3A%2F%2Fwww.googleapis.com%2Fauth%2Fdocs.test%20https%3A%2F%2Fwww.googleapis.com%2Fauth%2Fdrive%20https%3A%2F%2Fwww.googleapis.com%2Fauth%2Fdrive.photos.readonly%20https%3A%2F%2Fwww.googleapis.com%2Fauth%2Fpeopleapi.readonly&response_type=code\n",
            "\n",
            "Enter your authorization code:\n",
            "··········\n",
            "Mounted at /content/gdrive\n"
          ],
          "name": "stdout"
        }
      ]
    },
    {
      "metadata": {
        "id": "87XJqcFMPt38",
        "colab_type": "code",
        "colab": {
          "base_uri": "https://localhost:8080/",
          "height": 34
        },
        "outputId": "dcfffb45-e2d1-47f2-ab3b-88423d2c8201"
      },
      "cell_type": "code",
      "source": [
        "model_save_name = 'flower4_27_1a_93.pt'\n",
        "path = F\"/content/gdrive/My Drive/model/{model_save_name}\"\n",
        "model.load_state_dict(torch.load(path))\n",
        "print(\"Model loaded\")"
      ],
      "execution_count": 6,
      "outputs": [
        {
          "output_type": "stream",
          "text": [
            "Model loaded\n"
          ],
          "name": "stdout"
        }
      ]
    },
    {
      "metadata": {
        "id": "zSrhGktuAKuZ",
        "colab_type": "code",
        "outputId": "2a64d424-9262-4cfb-a67d-c1956cf64b3b",
        "colab": {
          "base_uri": "https://localhost:8080/",
          "height": 459
        }
      },
      "cell_type": "code",
      "source": [
        "# Train model\n",
        "epochs = 5\n",
        "model, train_loss,valid_loss = Train.train_model(\n",
        "    model,train_loader,valid_loader, epochs, optimizer,scheduler, criterion)"
      ],
      "execution_count": 0,
      "outputs": [
        {
          "output_type": "stream",
          "text": [
            "Epoch: 1/5\n",
            "\t\tGoing for validation\n",
            "\tTrain loss:1.221859.. \tValid Loss:0.168148.. \tAccuracy: 77.4046\n",
            "\tValidation loss decreased (inf --> 0.168148).  Saving model ...\n",
            "\tEpoch:1 completed in 4m 28s\n",
            "Epoch: 2/5\n",
            "\t\tGoing for validation\n",
            "\tTrain loss:1.029103.. \tValid Loss:0.129079.. \tAccuracy: 81.0687\n",
            "\tValidation loss decreased (0.168148 --> 0.129079).  Saving model ...\n",
            "\tEpoch:2 completed in 4m 27s\n",
            "Epoch: 3/5\n",
            "\t\tGoing for validation\n",
            "\tTrain loss:0.543967.. \tValid Loss:0.049215.. \tAccuracy: 92.3664\n",
            "\tValidation loss decreased (0.129079 --> 0.049215).  Saving model ...\n",
            "\tEpoch:3 completed in 4m 25s\n",
            "Epoch: 4/5\n",
            "\t\tGoing for validation\n",
            "\tTrain loss:0.455482.. \tValid Loss:0.045878.. \tAccuracy: 92.5954\n",
            "\tValidation loss decreased (0.049215 --> 0.045878).  Saving model ...\n",
            "\tEpoch:4 completed in 4m 25s\n",
            "Epoch: 5/5\n",
            "\t\tGoing for validation\n",
            "\tTrain loss:0.413273.. \tValid Loss:0.044018.. \tAccuracy: 93.5115\n",
            "\tValidation loss decreased (0.045878 --> 0.044018).  Saving model ...\n",
            "\tEpoch:5 completed in 4m 25s\n",
            "Training completed in 22m 10s\n"
          ],
          "name": "stdout"
        }
      ]
    },
    {
      "metadata": {
        "id": "ypNEiWr9w7-5",
        "colab_type": "code",
        "colab": {}
      },
      "cell_type": "code",
      "source": [
        "model.load_state_dict(torch.load(\"model.pt\"))"
      ],
      "execution_count": 0,
      "outputs": []
    },
    {
      "metadata": {
        "id": "Kqyourr6xIW_",
        "colab_type": "code",
        "colab": {}
      },
      "cell_type": "code",
      "source": [
        "torch.save(model.state_dict(), \"model93.pt\")"
      ],
      "execution_count": 0,
      "outputs": []
    },
    {
      "metadata": {
        "id": "VJdyK-qbEzh6",
        "colab_type": "code",
        "outputId": "193d129e-72e9-4eb7-d2b4-ee6384ca938f",
        "colab": {
          "base_uri": "https://localhost:8080/",
          "height": 282
        }
      },
      "cell_type": "code",
      "source": [
        "#Check for overfitting\n",
        "\n",
        "import matplotlib.pyplot as plt\n",
        "%matplotlib inline\n",
        "%config InlineBackend.figure_format = 'retina'\n",
        "\n",
        "plt.plot(train_loss, label = \"taining loss\")\n",
        "plt.plot(valid_loss, label = \"validation loss\")\n",
        "plt.legend(frameon = False)"
      ],
      "execution_count": 0,
      "outputs": [
        {
          "output_type": "execute_result",
          "data": {
            "text/plain": [
              "<matplotlib.legend.Legend at 0x7f98e03903c8>"
            ]
          },
          "metadata": {
            "tags": []
          },
          "execution_count": 32
        },
        {
          "output_type": "display_data",
          "data": {
            "image/png": "[encoded data removed]",
            "text/plain": [
              "<matplotlib.figure.Figure at 0x7f98e17e7438>"
            ]
          },
          "metadata": {
            "tags": [],
            "image/png": {
              "width": 372,
              "height": 248
            }
          }
        }
      ]
    },
    {
      "metadata": {
        "id": "N6DHxLI7O24c",
        "colab_type": "code",
        "outputId": "004f70fc-57f8-403b-e763-fe6c7bf6a28e",
        "colab": {
          "base_uri": "https://localhost:8080/",
          "height": 51
        }
      },
      "cell_type": "code",
      "source": [
        "!ls /content/gdrive/My Drive/model"
      ],
      "execution_count": 0,
      "outputs": [
        {
          "output_type": "stream",
          "text": [
            "ls: cannot access '/content/gdrive/My': No such file or directory\n",
            "ls: cannot access 'Drive/model': No such file or directory\n"
          ],
          "name": "stdout"
        }
      ]
    },
    {
      "metadata": {
        "id": "yA_Dn2uJO6f3",
        "colab_type": "code",
        "colab": {}
      },
      "cell_type": "code",
      "source": [
        "# type day_time_pm_percentage\n",
        "model_save_name = 'flower4_27_1a_93.pt'\n",
        "path = F\"/content/gdrive/My Drive/model/{model_save_name}\" \n",
        "torch.save(model.state_dict(), path)"
      ],
      "execution_count": 0,
      "outputs": []
    },
    {
      "metadata": {
        "id": "aslpDJO1Ab1P",
        "colab_type": "code",
        "outputId": "56745a98-c981-4442-e6f0-19daf07f78d2",
        "colab": {
          "base_uri": "https://localhost:8080/",
          "height": 34
        }
      },
      "cell_type": "code",
      "source": [
        "# Unfreeze the parameter\n",
        "model = Train.unfreeze(model)\n",
        "#for _, param in model.named_parameters():\n",
        "#  param.requires_grad = True\n",
        "\n",
        "print(\"Parameter unfreezed\")"
      ],
      "execution_count": 0,
      "outputs": [
        {
          "output_type": "stream",
          "text": [
            "Parameter unfreezed\n"
          ],
          "name": "stdout"
        }
      ]
    },
    {
      "metadata": {
        "id": "1sNZx6w7Dk7q",
        "colab_type": "code",
        "outputId": "b2001eec-baf8-4388-991d-30ce9653cfbc",
        "colab": {
          "base_uri": "https://localhost:8080/",
          "height": 255
        }
      },
      "cell_type": "code",
      "source": [
        "# Test accuracy top 10 classs\n",
        "Train.calculate_top_accuracy(model, test_loader, criterion)"
      ],
      "execution_count": 7,
      "outputs": [
        {
          "output_type": "stream",
          "text": [
            "Test Loss: 0.013903\n",
            "\n",
            "Test Accuracy of     0: 100% ( 3/ 3)\n",
            "Test Accuracy of     1: 100% ( 3/ 3)\n",
            "Test Accuracy of     2: 75% ( 3/ 4)\n",
            "Test Accuracy of     3: 100% ( 2/ 2)\n",
            "Test Accuracy of     4: 100% ( 4/ 4)\n",
            "Test Accuracy of     5: 66% ( 2/ 3)\n",
            "Test Accuracy of     6: 100% ( 2/ 2)\n",
            "Test Accuracy of     7: 100% ( 4/ 4)\n",
            "Test Accuracy of     8:  0% ( 0/ 1)\n",
            "Test Accuracy of     9: 100% ( 4/ 4)\n",
            "\n",
            "Test Accuracy (Overall): 91% (377/410)\n"
          ],
          "name": "stdout"
        }
      ]
    },
    {
      "metadata": {
        "id": "yhuDsB71D01s",
        "colab_type": "code",
        "outputId": "2840da9a-188a-47ba-bc4c-bc4577ac7c40",
        "colab": {
          "base_uri": "https://localhost:8080/",
          "height": 493
        }
      },
      "cell_type": "code",
      "source": [
        "# Test total accuracy\n",
        "Train.calc_accuracy(model,testset_path=\"flower_data/valid\",batch_size=batch_size)"
      ],
      "execution_count": 8,
      "outputs": [
        {
          "output_type": "stream",
          "text": [
            "Batch accuracy (Size 32): 0.8125\n",
            "Batch accuracy (Size 32): 0.9375\n",
            "Batch accuracy (Size 32): 0.96875\n",
            "Batch accuracy (Size 32): 0.90625\n",
            "Batch accuracy (Size 32): 0.90625\n",
            "Batch accuracy (Size 32): 0.96875\n",
            "Batch accuracy (Size 32): 0.90625\n",
            "Batch accuracy (Size 32): 0.96875\n",
            "Batch accuracy (Size 32): 0.84375\n",
            "Batch accuracy (Size 32): 1.0\n",
            "Batch accuracy (Size 32): 0.9375\n",
            "Batch accuracy (Size 32): 0.84375\n",
            "Batch accuracy (Size 32): 0.96875\n",
            "Batch accuracy (Size 32): 0.9375\n",
            "Batch accuracy (Size 32): 0.96875\n",
            "Batch accuracy (Size 32): 0.96875\n",
            "Batch accuracy (Size 32): 0.875\n",
            "Batch accuracy (Size 32): 0.90625\n",
            "Batch accuracy (Size 32): 0.90625\n",
            "Batch accuracy (Size 32): 0.90625\n",
            "Batch accuracy (Size 32): 0.96875\n",
            "Batch accuracy (Size 32): 0.96875\n",
            "Batch accuracy (Size 32): 0.9375\n",
            "Batch accuracy (Size 32): 0.9375\n",
            "Batch accuracy (Size 32): 0.9375\n",
            "Batch accuracy (Size 32): 0.8333333134651184\n",
            "Mean accuracy: 0.9238782525062561\n"
          ],
          "name": "stdout"
        },
        {
          "output_type": "execute_result",
          "data": {
            "text/plain": [
              "0.92387825"
            ]
          },
          "metadata": {
            "tags": []
          },
          "execution_count": 8
        }
      ]
    },
    {
      "metadata": {
        "id": "SE55dc8iEM80",
        "colab_type": "code",
        "outputId": "f15ccd62-85db-4c10-d0fb-704402661bb0",
        "colab": {
          "base_uri": "https://localhost:8080/",
          "height": 629
        }
      },
      "cell_type": "code",
      "source": [
        "# Test with google data set\n",
        "Train.calc_accuracy(model,use_google_testset=True,batch_size=batch_size)"
      ],
      "execution_count": 9,
      "outputs": [
        {
          "output_type": "stream",
          "text": [
            "Downloading the dataset from: https://www.dropbox.com/s/3zmf1kq58o909rq/google_test_data.zip?dl=1\n"
          ],
          "name": "stdout"
        },
        {
          "output_type": "stream",
          "text": [
            "100.0% 292610048 / 292604296\n"
          ],
          "name": "stderr"
        },
        {
          "output_type": "stream",
          "text": [
            "Batch accuracy (Size 32): 0.625\n",
            "Batch accuracy (Size 32): 0.5625\n",
            "Batch accuracy (Size 32): 0.53125\n",
            "Batch accuracy (Size 32): 0.53125\n",
            "Batch accuracy (Size 32): 0.59375\n",
            "Batch accuracy (Size 32): 0.5625\n",
            "Batch accuracy (Size 32): 0.59375\n",
            "Batch accuracy (Size 32): 0.59375\n",
            "Batch accuracy (Size 32): 0.59375\n",
            "Batch accuracy (Size 32): 0.4375\n",
            "Batch accuracy (Size 32): 0.40625\n",
            "Batch accuracy (Size 32): 0.71875\n",
            "Batch accuracy (Size 32): 0.6875\n",
            "Batch accuracy (Size 32): 0.53125\n",
            "Batch accuracy (Size 32): 0.46875\n",
            "Batch accuracy (Size 32): 0.5\n",
            "Batch accuracy (Size 32): 0.5\n",
            "Batch accuracy (Size 32): 0.46875\n",
            "Batch accuracy (Size 32): 0.59375\n",
            "Batch accuracy (Size 32): 0.4375\n",
            "Batch accuracy (Size 32): 0.4375\n",
            "Batch accuracy (Size 32): 0.5\n",
            "Batch accuracy (Size 32): 0.5\n",
            "Batch accuracy (Size 32): 0.53125\n",
            "Batch accuracy (Size 32): 0.40625\n",
            "Batch accuracy (Size 32): 0.59375\n",
            "Batch accuracy (Size 32): 0.5\n",
            "Batch accuracy (Size 32): 0.59375\n",
            "Batch accuracy (Size 32): 0.5625\n",
            "Batch accuracy (Size 32): 0.59375\n",
            "Batch accuracy (Size 32): 0.4375\n",
            "Batch accuracy (Size 32): 0.5714285969734192\n",
            "Mean accuracy: 0.5364118218421936\n"
          ],
          "name": "stdout"
        },
        {
          "output_type": "execute_result",
          "data": {
            "text/plain": [
              "0.5364118"
            ]
          },
          "metadata": {
            "tags": []
          },
          "execution_count": 9
        }
      ]
    },
    {
      "metadata": {
        "id": "BoYFSexOEZKw",
        "colab_type": "code",
        "colab": {}
      },
      "cell_type": "code",
      "source": [
        "cat_to_name = Train.get_cat_name()"
      ],
      "execution_count": 0,
      "outputs": []
    },
    {
      "metadata": {
        "id": "9uvlPYG3P1ux",
        "colab_type": "code",
        "colab": {}
      },
      "cell_type": "code",
      "source": [
        "# visualize data"
      ],
      "execution_count": 0,
      "outputs": []
    }
  ]
}