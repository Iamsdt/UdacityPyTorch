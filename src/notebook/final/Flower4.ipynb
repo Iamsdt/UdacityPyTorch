{
  "nbformat": 4,
  "nbformat_minor": 0,
  "metadata": {
    "colab": {
      "name": "Flower4.ipynb",
      "version": "0.3.2",
      "provenance": [],
      "include_colab_link": true
    },
    "kernelspec": {
      "name": "python3",
      "display_name": "Python 3"
    },
    "accelerator": "GPU"
  },
  "cells": [
    {
      "cell_type": "markdown",
      "metadata": {
        "id": "view-in-github",
        "colab_type": "text"
      },
      "source": [
        "<a href=\"https://colab.research.google.com/github/Iamsdt/UdacityPyTorch/blob/master/src/notebook/final/Flower4.ipynb\" target=\"_parent\"><img src=\"https://colab.research.google.com/assets/colab-badge.svg\" alt=\"Open In Colab\"/></a>"
      ]
    },
    {
      "metadata": {
        "id": "aRu2_ELl_7-6",
        "colab_type": "code",
        "colab": {}
      },
      "cell_type": "code",
      "source": [
        "# http://pytorch.org/\n",
        "from os.path import exists\n",
        "from wheel.pep425tags import get_abbr_impl, get_impl_ver, get_abi_tag\n",
        "platform = '{}{}-{}'.format(get_abbr_impl(), get_impl_ver(), get_abi_tag())\n",
        "cuda_output = !ldconfig -p|grep cudart.so|sed -e 's/.*\\.\\([0-9]*\\)\\.\\([0-9]*\\)$/cu\\1\\2/'\n",
        "accelerator = cuda_output[0] if exists('/dev/nvidia0') else 'cpu'\n",
        "\n",
        "!pip install -q http://download.pytorch.org/whl/{accelerator}/torch-0.4.1-{platform}-linux_x86_64.whl torchvision\n",
        "\n",
        "import torch"
      ],
      "execution_count": 0,
      "outputs": []
    },
    {
      "metadata": {
        "id": "Kwel9YNUAA3V",
        "colab_type": "code",
        "colab": {
          "base_uri": "https://localhost:8080/",
          "height": 34
        },
        "outputId": "b8ecf2ff-76d4-40ee-858e-84772a2a2730"
      },
      "cell_type": "code",
      "source": [
        "# Load data\n",
        "!wget -cq https://github.com/udacity/pytorch_challenge/raw/master/cat_to_name.json\n",
        "\n",
        "!wget -cq https://s3.amazonaws.com/content.udacity-data.com/courses/nd188/flower_data.zip\n",
        "\n",
        "!unzip -qq flower_data.zip\n",
        "\n",
        "print(\"Data loaded\")"
      ],
      "execution_count": 2,
      "outputs": [
        {
          "output_type": "stream",
          "text": [
            "Data loaded\n"
          ],
          "name": "stdout"
        }
      ]
    },
    {
      "metadata": {
        "id": "Kcy1bFgwADM5",
        "colab_type": "code",
        "colab": {
          "base_uri": "https://localhost:8080/",
          "height": 134
        },
        "outputId": "d8acffbe-03e6-47a7-9dfd-4674c575620b"
      },
      "cell_type": "code",
      "source": [
        "# Load train class\n",
        "!wget -c https://raw.githubusercontent.com/Iamsdt/UdacityPyTorch/master/src/notebook/Train.py\n",
        "\n",
        "import Train"
      ],
      "execution_count": 2,
      "outputs": [
        {
          "output_type": "stream",
          "text": [
            "--2018-12-26 08:05:39--  https://raw.githubusercontent.com/Iamsdt/UdacityPyTorch/master/src/notebook/Train.py\n",
            "Resolving raw.githubusercontent.com (raw.githubusercontent.com)... 151.101.0.133, 151.101.64.133, 151.101.128.133, ...\n",
            "Connecting to raw.githubusercontent.com (raw.githubusercontent.com)|151.101.0.133|:443... connected.\n",
            "HTTP request sent, awaiting response... 416 Range Not Satisfiable\n",
            "\n",
            "    The file is already fully retrieved; nothing to do.\n",
            "\n"
          ],
          "name": "stdout"
        }
      ]
    },
    {
      "metadata": {
        "id": "D0ELxwegAFlO",
        "colab_type": "code",
        "colab": {
          "base_uri": "https://localhost:8080/",
          "height": 67
        },
        "outputId": "cad3ca0e-893d-4ff0-c611-b37b2cc9e47a"
      },
      "cell_type": "code",
      "source": [
        "import Train\n",
        "\n",
        "# create train and test loader\n",
        "data_dir = 'flower_data'\n",
        "\n",
        "from torchvision import datasets, transforms\n",
        "\n",
        "# number of subprocesses to use for data loading\n",
        "num_workers = 4\n",
        "# how many samples per batch to load\n",
        "batch_size = 20\n",
        "# percentage of training set to use as validation\n",
        "valid_size = 0.2\n",
        "\n",
        "# convert data to torch.FloatTensor\n",
        "transform_train = transforms.Compose([\n",
        "        transforms.RandomResizedCrop(224),\n",
        "        transforms.RandomHorizontalFlip(),\n",
        "        transforms.RandomRotation(10),\n",
        "        transforms.ToTensor(),\n",
        "        transforms.Normalize([0.485, 0.456, 0.406], [0.229, 0.224, 0.225])\n",
        "    ])\n",
        "\n",
        "transform_valid = transforms.Compose([\n",
        "        transforms.Resize(256),\n",
        "        transforms.CenterCrop(224),\n",
        "        transforms.ToTensor(),\n",
        "        transforms.Normalize([0.485, 0.456, 0.406], [0.229, 0.224, 0.225])\n",
        "    ])\n",
        "\n",
        "test_transforms = transforms.Compose([\n",
        "    transforms.Resize(256),\n",
        "    transforms.CenterCrop(224),\n",
        "    transforms.ToTensor(),\n",
        "    transforms.Normalize([0.485, 0.456, 0.406], [0.229, 0.224, 0.225])\n",
        "    ])\n",
        "\n",
        "# ceate data loader\n",
        "train_loader, valid_loader, test_loader = Train.prepare_loader(data_dir,transform_train,transform_valid,test_transforms)"
      ],
      "execution_count": 11,
      "outputs": [
        {
          "output_type": "stream",
          "text": [
            "Train size:6552\n",
            "Valid size:6552\n",
            "Test size:818\n"
          ],
          "name": "stdout"
        }
      ]
    },
    {
      "metadata": {
        "id": "2Dly_GIPAGOT",
        "colab_type": "code",
        "colab": {
          "base_uri": "https://localhost:8080/",
          "height": 70
        },
        "outputId": "c5f8deee-97b3-4731-c2ff-43c7d99c48fa"
      },
      "cell_type": "code",
      "source": [
        "from torchvision import models\n",
        "# load a pretrained model\n",
        "model = models.densenet161(pretrained = True)"
      ],
      "execution_count": 17,
      "outputs": [
        {
          "output_type": "stream",
          "text": [
            "/usr/local/lib/python3.6/dist-packages/torchvision/models/densenet.py:212: UserWarning: nn.init.kaiming_normal is now deprecated in favor of nn.init.kaiming_normal_.\n",
            "  nn.init.kaiming_normal(m.weight.data)\n"
          ],
          "name": "stderr"
        }
      ]
    },
    {
      "metadata": {
        "id": "cA0Ff8ZrTQm9",
        "colab_type": "code",
        "colab": {
          "base_uri": "https://localhost:8080/",
          "height": 34
        },
        "outputId": "f6d14603-285b-4296-c919-c6177c1b24b5"
      },
      "cell_type": "code",
      "source": [
        "print(model.classifier)\n",
        "#num_ftrs = model.fc.in_features\n",
        "#print(num_ftrs)\n",
        "#model.fc = nn.Linear(num_ftrs, 102)\n",
        "#print(model.fc)\n",
        "#print(model.fc)"
      ],
      "execution_count": 18,
      "outputs": [
        {
          "output_type": "stream",
          "text": [
            "Linear(in_features=2208, out_features=1000, bias=True)\n"
          ],
          "name": "stdout"
        }
      ]
    },
    {
      "metadata": {
        "id": "PnIdZh1EAHtr",
        "colab_type": "code",
        "colab": {
          "base_uri": "https://localhost:8080/",
          "height": 151
        },
        "outputId": "d00b05a7-00d9-4641-d4a4-15fe10a2769e"
      },
      "cell_type": "code",
      "source": [
        "from collections import OrderedDict\n",
        "from torch import nn\n",
        "\n",
        "# create a simple classifier\n",
        "classifier = nn.Sequential(OrderedDict([\n",
        "                ('fc1', nn.Linear(2208, 512)),\n",
        "                ('relu', nn.ReLU()),\n",
        "                ('dropout',nn.Dropout(p=0.2)),\n",
        "                ('fc2', nn.Linear(512, 400)),\n",
        "                ('relu', nn.ReLU()),\n",
        "                ('dropout',nn.Dropout(p=0.2)),\n",
        "                ('fc3', nn.Linear(400, 102)),\n",
        "                ('output', nn.LogSoftmax(dim=1))\n",
        "                ]))\n",
        "\n",
        "# replace the classifer\n",
        "model.classifier = classifier\n",
        "# check the classifier\n",
        "print(model.classifier)"
      ],
      "execution_count": 23,
      "outputs": [
        {
          "output_type": "stream",
          "text": [
            "Sequential(\n",
            "  (fc1): Linear(in_features=2208, out_features=512, bias=True)\n",
            "  (relu): ReLU()\n",
            "  (dropout): Dropout(p=0.2)\n",
            "  (fc2): Linear(in_features=512, out_features=400, bias=True)\n",
            "  (fc3): Linear(in_features=400, out_features=102, bias=True)\n",
            "  (output): LogSoftmax()\n",
            ")\n"
          ],
          "name": "stdout"
        }
      ]
    },
    {
      "metadata": {
        "id": "espl8mY-AJOK",
        "colab_type": "code",
        "colab": {}
      },
      "cell_type": "code",
      "source": [
        "import torch\n",
        "from torch import optim\n",
        "from torch.optim import lr_scheduler\n",
        "# set cretrion and optimizer\n",
        "criterion = nn.CrossEntropyLoss()\n",
        "# Observe that all parameters are being optimized\n",
        "# optimizer = optim.SGD(model.parameters(), lr=0.03, momentum=0.9)\n",
        "\n",
        "optimizer = optim.Adadelta(model.parameters(), lr=0.01)\n",
        "scheduler = lr_scheduler.StepLR(optimizer, step_size=3, gamma=0.01)\n",
        "\n",
        "#move tensor to default device\n",
        "device = torch.device(\"cuda\" if torch.cuda.is_available() else \"cpu\")\n",
        "model.to(device)"
      ],
      "execution_count": 0,
      "outputs": []
    },
    {
      "metadata": {
        "id": "8SSsXJ-9AWXF",
        "colab_type": "code",
        "colab": {}
      },
      "cell_type": "code",
      "source": [
        "# Freeze the parameter\n",
        "#model = Train.freeze_parameters(model)\n",
        "for _, param in model.named_parameters():\n",
        "  param.requires_grad = False"
      ],
      "execution_count": 0,
      "outputs": []
    },
    {
      "metadata": {
        "id": "Av5xnmB4GhI4",
        "colab_type": "code",
        "colab": {}
      },
      "cell_type": "code",
      "source": [
        "!pip uninstall -y Pillow\n",
        "!pip install Pillow==5.3.0"
      ],
      "execution_count": 0,
      "outputs": []
    },
    {
      "metadata": {
        "id": "zSrhGktuAKuZ",
        "colab_type": "code",
        "colab": {}
      },
      "cell_type": "code",
      "source": [
        "# Train model\n",
        "epochs = 10\n",
        "model, train_loss,valid_loss = Train.train_model(\n",
        "    model,train_loader,valid_loader, epochs, optimizer,scheduler, criterion)"
      ],
      "execution_count": 0,
      "outputs": []
    },
    {
      "metadata": {
        "id": "VJdyK-qbEzh6",
        "colab_type": "code",
        "colab": {
          "base_uri": "https://localhost:8080/",
          "height": 282
        },
        "outputId": "8b2db9b6-7011-40e0-a3a5-345ac0a9af6b"
      },
      "cell_type": "code",
      "source": [
        "#Check for overfitting\n",
        "\n",
        "import matplotlib.pyplot as plt\n",
        "%matplotlib inline\n",
        "%config InlineBackend.figure_format = 'retina'\n",
        "\n",
        "plt.plot(train_loss, label = \"taining loss\")\n",
        "plt.plot(valid_loss, label = \"validation loss\")\n",
        "plt.legend(frameon = False)"
      ],
      "execution_count": 50,
      "outputs": [
        {
          "output_type": "execute_result",
          "data": {
            "text/plain": [
              "<matplotlib.legend.Legend at 0x7f4d20109dd8>"
            ]
          },
          "metadata": {
            "tags": []
          },
          "execution_count": 50
        },
        {
          "output_type": "display_data",
          "data": {
            "image/png": "[encoded data removed]",
            "text/plain": [
              "<matplotlib.figure.Figure at 0x7f4d212c8fd0>"
            ]
          },
          "metadata": {
            "tags": [],
            "image/png": {
              "width": 372,
              "height": 248
            }
          }
        }
      ]
    },
    {
      "metadata": {
        "id": "aslpDJO1Ab1P",
        "colab_type": "code",
        "colab": {}
      },
      "cell_type": "code",
      "source": [
        "# Unfreeze the parameter\n",
        "#model = Train.unfreeze(model)\n",
        "for _, param in model.named_parameters():\n",
        "  param.requires_grad = True"
      ],
      "execution_count": 0,
      "outputs": []
    },
    {
      "metadata": {
        "id": "1sNZx6w7Dk7q",
        "colab_type": "code",
        "colab": {
          "base_uri": "https://localhost:8080/",
          "height": 252
        },
        "outputId": "1234f52f-6743-46d9-fca2-54748cf44ec7"
      },
      "cell_type": "code",
      "source": [
        "# Test accuracy top 10 classs\n",
        "Train.calculate_top_accuracy(model, test_loader, criterion)"
      ],
      "execution_count": 14,
      "outputs": [
        {
          "output_type": "stream",
          "text": [
            "Test Loss: 0.196509\n",
            "\n",
            "Test Accuracy of     0:  0% ( 0/ 2)\n",
            "Test Accuracy of     1:  0% ( 0/ 1)\n",
            "Test Accuracy of     2:  0% ( 0/ 3)\n",
            "Test Accuracy of     3:  0% ( 0/ 4)\n",
            "Test Accuracy of     4:  0% ( 0/ 1)\n",
            "Test Accuracy of     5:  0% ( 0/ 6)\n",
            "Test Accuracy of     6:  0% ( 0/ 3)\n",
            "Test Accuracy of     7:  0% ( 0/ 4)\n",
            "Test Accuracy of     8: N/A (no training examples)\n",
            "Test Accuracy of     9:  0% ( 0/ 4)\n",
            "\n",
            "Test Accuracy (Overall):  7% (30/410)\n"
          ],
          "name": "stdout"
        }
      ]
    },
    {
      "metadata": {
        "id": "yhuDsB71D01s",
        "colab_type": "code",
        "colab": {}
      },
      "cell_type": "code",
      "source": [
        "# Test total accuracy\n",
        "Train.calc_accuracy(model,testset_path=\"flower_data/valid\")"
      ],
      "execution_count": 0,
      "outputs": []
    },
    {
      "metadata": {
        "id": "SE55dc8iEM80",
        "colab_type": "code",
        "colab": {}
      },
      "cell_type": "code",
      "source": [
        "# Test with google data set\n",
        "Train.calc_accuracy(model,use_google_testset=True)"
      ],
      "execution_count": 0,
      "outputs": []
    },
    {
      "metadata": {
        "id": "BoYFSexOEZKw",
        "colab_type": "code",
        "colab": {}
      },
      "cell_type": "code",
      "source": [
        "cat_to_name = Train.get_cat_name()"
      ],
      "execution_count": 0,
      "outputs": []
    },
    {
      "metadata": {
        "id": "9uvlPYG3P1ux",
        "colab_type": "code",
        "colab": {}
      },
      "cell_type": "code",
      "source": [
        "# visualize data"
      ],
      "execution_count": 0,
      "outputs": []
    }
  ]
}