{
  "nbformat": 4,
  "nbformat_minor": 0,
  "metadata": {
    "colab": {
      "name": "PretrainedModel.ipynb",
      "version": "0.3.2",
      "provenance": [],
      "collapsed_sections": [],
      "include_colab_link": true
    },
    "kernelspec": {
      "name": "python3",
      "display_name": "Python 3"
    },
    "accelerator": "GPU"
  },
  "cells": [
    {
      "cell_type": "markdown",
      "metadata": {
        "id": "view-in-github",
        "colab_type": "text"
      },
      "source": [
        "<a href=\"https://colab.research.google.com/github/Iamsdt/UdacityPyTorch/blob/master/src/notebook/PretrainedModel.ipynb\" target=\"_parent\"><img src=\"https://colab.research.google.com/assets/colab-badge.svg\" alt=\"Open In Colab\"/></a>"
      ]
    },
    {
      "metadata": {
        "id": "OgKa-5D9-PNo",
        "colab_type": "code",
        "colab": {}
      },
      "cell_type": "code",
      "source": [
        "%matplotlib inline\n",
        "%config InlineBackend.figure_format = 'retina'\n",
        "\n",
        "import matplotlib.pyplot as plt\n",
        "\n",
        "import torch\n",
        "from torchvision import datasets, transforms, models\n",
        "\n",
        "import helper"
      ],
      "execution_count": 0,
      "outputs": []
    },
    {
      "metadata": {
        "id": "zIweCPyJ-gp0",
        "colab_type": "code",
        "colab": {}
      },
      "cell_type": "code",
      "source": [
        "# create train and test loader\n",
        "data_dir = 'Cat_Dog_data/Cat_Dog_data'\n",
        "\n",
        "# Define transforms for the training data and testing data\n",
        "train_transforms = transforms.Compose([\n",
        "    transforms.RandomRotation(30),\n",
        "    transforms.RandomResizedCrop(224),\n",
        "    transforms.RandomHorizontalFlip(),\n",
        "    transforms.ToTensor()\n",
        "])\n",
        "\n",
        "test_transforms = transforms.Compose([\n",
        "    transforms.Resize(255),\n",
        "    transforms.CenterCrop(224),\n",
        "    transforms.ToTensor()\n",
        "])\n",
        "\n",
        "# Pass transforms in here, then run the next cell to see how the transforms look\n",
        "train_data = datasets.ImageFolder(data_dir + '/train', transform=train_transforms)\n",
        "test_data = datasets.ImageFolder(data_dir + '/test', transform=test_transforms)\n",
        "\n",
        "trainloader = torch.utils.data.DataLoader(train_data, batch_size=64, shuffle=True)\n",
        "testloader = torch.utils.data.DataLoader(test_data, batch_size=64)"
      ],
      "execution_count": 0,
      "outputs": []
    },
    {
      "metadata": {
        "id": "2Mp_HumJ_Yhj",
        "colab_type": "code",
        "colab": {}
      },
      "cell_type": "code",
      "source": [
        "# load a pretrained model\n",
        "model = models.densenet121(pretrained = True)"
      ],
      "execution_count": 0,
      "outputs": []
    },
    {
      "metadata": {
        "id": "BhsxfMqM_o5J",
        "colab_type": "code",
        "outputId": "d5dba6c4-3528-48ef-bfc7-29448872a7b6",
        "colab": {
          "base_uri": "https://localhost:8080/",
          "height": 35
        }
      },
      "cell_type": "code",
      "source": [
        "# model current classifer\n",
        "print(model.classifier)"
      ],
      "execution_count": 0,
      "outputs": [
        {
          "output_type": "stream",
          "text": [
            "Linear(in_features=1024, out_features=1000, bias=True)\n"
          ],
          "name": "stdout"
        }
      ]
    },
    {
      "metadata": {
        "id": "uugt7FN3AOki",
        "colab_type": "code",
        "colab": {}
      },
      "cell_type": "code",
      "source": [
        "# Freeze the parameters\n",
        "for param in model.parameters():\n",
        "  param.required_grad = False"
      ],
      "execution_count": 0,
      "outputs": []
    },
    {
      "metadata": {
        "id": "jQJPEWuOAywG",
        "colab_type": "code",
        "colab": {}
      },
      "cell_type": "code",
      "source": [
        "from collections import OrderedDict\n",
        "from torch import nn\n",
        "classifier = nn.Sequential(OrderedDict([\n",
        "                ('fc1', nn.Linear(1024, 500)),\n",
        "                ('relu', nn.ReLU()),\n",
        "                ('fc2', nn.Linear(500, 2)),\n",
        "                ('output', nn.LogSoftmax(dim=1))\n",
        "                ]))\n",
        "\n",
        "# replace the classifer\n",
        "model.classifier = classifier"
      ],
      "execution_count": 0,
      "outputs": []
    },
    {
      "metadata": {
        "id": "3aDM68whCf43",
        "colab_type": "code",
        "colab": {}
      },
      "cell_type": "code",
      "source": [
        "# check the classifier\n",
        "print(model.classifier)"
      ],
      "execution_count": 0,
      "outputs": []
    },
    {
      "metadata": {
        "id": "a1neO8t9Cqvt",
        "colab_type": "code",
        "colab": {}
      },
      "cell_type": "code",
      "source": [
        "from torch import optim\n",
        "# move model to cuda (GPU)\n",
        "# model.to(\"cuda\")\n",
        "device = torch.device(\"cuda\" if torch.cuda.is_available() else \"cpu\")\n",
        "criterion = nn.NLLLoss()\n",
        "optimizer = optim.Adam(model.classifier.parameters(), lr=0.003)\n",
        "model.to(device)"
      ],
      "execution_count": 0,
      "outputs": []
    },
    {
      "metadata": {
        "id": "WizsBJMDDonf",
        "colab_type": "code",
        "outputId": "4d85e953-c7a0-4ca2-f195-828c27b997c6",
        "colab": {
          "base_uri": "https://localhost:8080/",
          "height": 381
        }
      },
      "cell_type": "code",
      "source": [
        "# train model\n",
        "epochs = 1\n",
        "steps = 0\n",
        "running_loss = 0\n",
        "print_every = 5\n",
        "for epoch in range(epochs):\n",
        "    for inputs, labels in trainloader:\n",
        "        steps += 1\n",
        "        # Move input and label tensors to the default device\n",
        "        inputs, labels = inputs.to(device), labels.to(device)\n",
        "        \n",
        "        optimizer.zero_grad()\n",
        "        \n",
        "        logps = model.forward(inputs)\n",
        "        loss = criterion(logps, labels)\n",
        "        loss.backward()\n",
        "        optimizer.step()\n",
        "\n",
        "        running_loss += loss.item()\n",
        "        \n",
        "        if steps % print_every == 0:\n",
        "            test_loss = 0\n",
        "            accuracy = 0\n",
        "            model.eval()\n",
        "            with torch.no_grad():\n",
        "                for inputs, labels in testloader:\n",
        "                    inputs, labels = inputs.to(device), labels.to(device)\n",
        "                    logps = model.forward(inputs)\n",
        "                    batch_loss = criterion(logps, labels)\n",
        "                    \n",
        "                    test_loss += batch_loss.item()\n",
        "                    \n",
        "                    # Calculate accuracy\n",
        "                    ps = torch.exp(logps)\n",
        "                    top_p, top_class = ps.topk(1, dim=1)\n",
        "                    equals = top_class == labels.view(*top_class.shape)\n",
        "                    accuracy += torch.mean(equals.type(torch.FloatTensor)).item()\n",
        "                    \n",
        "            print(f\"Epoch {epoch+1}/{epochs}.. \"\n",
        "                  f\"Train loss: {running_loss/print_every:.3f}.. \"\n",
        "                  f\"Test loss: {test_loss/len(testloader):.3f}.. \"\n",
        "                  f\"Test accuracy: {accuracy/len(testloader):.3f}\")\n",
        "            running_loss = 0\n",
        "            model.train()"
      ],
      "execution_count": 0,
      "outputs": [
        {
          "output_type": "stream",
          "text": [
            "Epoch 1/1.. Train loss: 1.031.. Test loss: 0.217.. Test accuracy: 0.937\n",
            "Epoch 1/1.. Train loss: 0.449.. Test loss: 0.269.. Test accuracy: 0.877\n",
            "Epoch 1/1.. Train loss: 0.352.. Test loss: 0.155.. Test accuracy: 0.942\n",
            "Epoch 1/1.. Train loss: 0.235.. Test loss: 0.108.. Test accuracy: 0.959\n",
            "Epoch 1/1.. Train loss: 0.172.. Test loss: 0.080.. Test accuracy: 0.973\n",
            "Epoch 1/1.. Train loss: 0.174.. Test loss: 0.065.. Test accuracy: 0.975\n",
            "Epoch 1/1.. Train loss: 0.173.. Test loss: 0.062.. Test accuracy: 0.978\n",
            "Epoch 1/1.. Train loss: 0.165.. Test loss: 0.056.. Test accuracy: 0.980\n",
            "Epoch 1/1.. Train loss: 0.190.. Test loss: 0.056.. Test accuracy: 0.979\n",
            "Epoch 1/1.. Train loss: 0.140.. Test loss: 0.056.. Test accuracy: 0.979\n",
            "Epoch 1/1.. Train loss: 0.148.. Test loss: 0.052.. Test accuracy: 0.979\n",
            "Epoch 1/1.. Train loss: 0.153.. Test loss: 0.052.. Test accuracy: 0.978\n",
            "Epoch 1/1.. Train loss: 0.180.. Test loss: 0.084.. Test accuracy: 0.971\n",
            "Epoch 1/1.. Train loss: 0.246.. Test loss: 0.117.. Test accuracy: 0.957\n",
            "Epoch 1/1.. Train loss: 0.286.. Test loss: 0.110.. Test accuracy: 0.956\n",
            "Epoch 1/1.. Train loss: 0.248.. Test loss: 0.064.. Test accuracy: 0.978\n",
            "Epoch 1/1.. Train loss: 0.243.. Test loss: 0.061.. Test accuracy: 0.980\n",
            "Epoch 1/1.. Train loss: 0.177.. Test loss: 0.066.. Test accuracy: 0.980\n",
            "Epoch 1/1.. Train loss: 0.178.. Test loss: 0.061.. Test accuracy: 0.980\n",
            "Epoch 1/1.. Train loss: 0.133.. Test loss: 0.050.. Test accuracy: 0.980\n",
            "Epoch 1/1.. Train loss: 0.149.. Test loss: 0.057.. Test accuracy: 0.979\n"
          ],
          "name": "stdout"
        }
      ]
    }
  ]
}