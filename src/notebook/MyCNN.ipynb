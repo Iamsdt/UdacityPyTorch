{
  "nbformat": 4,
  "nbformat_minor": 0,
  "metadata": {
    "colab": {
      "name": "MyCNN.ipynb",
      "version": "0.3.2",
      "provenance": [],
      "include_colab_link": true
    },
    "kernelspec": {
      "name": "python3",
      "display_name": "Python 3"
    },
    "accelerator": "GPU"
  },
  "cells": [
    {
      "cell_type": "markdown",
      "metadata": {
        "id": "view-in-github",
        "colab_type": "text"
      },
      "source": [
        "<a href=\"https://colab.research.google.com/github/Iamsdt/UdacityPyTorch/blob/master/src/notebook/MyCNN.ipynb\" target=\"_parent\"><img src=\"https://colab.research.google.com/assets/colab-badge.svg\" alt=\"Open In Colab\"/></a>"
      ]
    },
    {
      "metadata": {
        "id": "r9q7fGXUPBjS",
        "colab_type": "code",
        "colab": {
          "base_uri": "https://localhost:8080/",
          "height": 54
        },
        "outputId": "06d24851-6d35-4d4f-8ce6-242a0f9d481f"
      },
      "cell_type": "code",
      "source": [
        "# http://pytorch.org/\n",
        "from os.path import exists\n",
        "from wheel.pep425tags import get_abbr_impl, get_impl_ver, get_abi_tag\n",
        "platform = '{}{}-{}'.format(get_abbr_impl(), get_impl_ver(), get_abi_tag())\n",
        "cuda_output = !ldconfig -p|grep cudart.so|sed -e 's/.*\\.\\([0-9]*\\)\\.\\([0-9]*\\)$/cu\\1\\2/'\n",
        "accelerator = cuda_output[0] if exists('/dev/nvidia0') else 'cpu'\n",
        "\n",
        "!pip install -q http://download.pytorch.org/whl/{accelerator}/torch-0.4.1-{platform}-linux_x86_64.whl torchvision\n",
        "import torch"
      ],
      "execution_count": 2,
      "outputs": [
        {
          "output_type": "stream",
          "text": [
            "tcmalloc: large alloc 1073750016 bytes == 0x5913e000 @  0x7feea2d5a2a4 0x591a07 0x5b5d56 0x502e9a 0x506859 0x502209 0x502f3d 0x506859 0x504c28 0x502540 0x502f3d 0x506859 0x504c28 0x502540 0x502f3d 0x506859 0x504c28 0x502540 0x502f3d 0x507641 0x502209 0x502f3d 0x506859 0x504c28 0x502540 0x502f3d 0x507641 0x504c28 0x502540 0x502f3d 0x507641\n"
          ],
          "name": "stdout"
        }
      ]
    },
    {
      "metadata": {
        "id": "1NWc3IMxPOHN",
        "colab_type": "code",
        "colab": {
          "base_uri": "https://localhost:8080/",
          "height": 168
        },
        "outputId": "1d84be97-1efd-43c2-f30d-39474b52a26b"
      },
      "cell_type": "code",
      "source": [
        "import torch.nn as nn\n",
        "import torch.nn.functional as F\n",
        "\n",
        "# define the CNN architecture\n",
        "class Net(nn.Module):\n",
        "    def __init__(self):\n",
        "        super(Net, self).__init__()\n",
        "        # convolutional layer (sees 32x32x3 image tensor)\n",
        "        self.conv1 = nn.Conv2d(3, 16, 3, padding=1)\n",
        "        # convolutional layer (sees 16x16x16 tensor)\n",
        "        self.conv2 = nn.Conv2d(16, 32, 3, padding=1)\n",
        "        # convolutional layer (sees 8x8x32 tensor)\n",
        "        self.conv3 = nn.Conv2d(32, 64, 3, padding=1)\n",
        "        # max pooling layer\n",
        "        self.pool = nn.MaxPool2d(2, 2)\n",
        "        # linear layer (64 * 4 * 4 -> 500)\n",
        "        self.fc1 = nn.Linear(64 * 4 * 4, 500)\n",
        "        # linear layer (500 -> 10)\n",
        "        self.fc2 = nn.Linear(500, 10)\n",
        "        # dropout layer (p=0.25)\n",
        "        self.dropout = nn.Dropout(0.25)\n",
        "\n",
        "    def forward(self, x):\n",
        "        # add sequence of convolutional and max pooling layers\n",
        "        x = self.pool(F.relu(self.conv1(x)))\n",
        "        x = self.pool(F.relu(self.conv2(x)))\n",
        "        x = self.pool(F.relu(self.conv3(x)))\n",
        "        # flatten image input\n",
        "        x = x.view(-1, 64 * 4 * 4)\n",
        "        # add dropout layer\n",
        "        x = self.dropout(x)\n",
        "        # add 1st hidden layer, with relu activation function\n",
        "        x = F.relu(self.fc1(x))\n",
        "        # add dropout layer\n",
        "        x = self.dropout(x)\n",
        "        # add 2nd hidden layer, with relu activation function\n",
        "        x = self.fc2(x)\n",
        "        return x\n",
        "\n",
        "# create a complete CNN\n",
        "model = Net()\n",
        "\n",
        "device =  torch.device(\"cuda\" if torch.cuda.is_available() else \"cpu\")\n",
        "\n",
        "model.to(device)\n",
        "    "
      ],
      "execution_count": 175,
      "outputs": [
        {
          "output_type": "execute_result",
          "data": {
            "text/plain": [
              "Net(\n",
              "  (conv1): Conv2d(3, 16, kernel_size=(3, 3), stride=(1, 1), padding=(1, 1))\n",
              "  (conv2): Conv2d(16, 32, kernel_size=(3, 3), stride=(1, 1), padding=(1, 1))\n",
              "  (conv3): Conv2d(32, 64, kernel_size=(3, 3), stride=(1, 1), padding=(1, 1))\n",
              "  (pool): MaxPool2d(kernel_size=2, stride=2, padding=0, dilation=1, ceil_mode=False)\n",
              "  (fc1): Linear(in_features=1024, out_features=500, bias=True)\n",
              "  (fc2): Linear(in_features=500, out_features=10, bias=True)\n",
              "  (dropout): Dropout(p=0.25)\n",
              ")"
            ]
          },
          "metadata": {
            "tags": []
          },
          "execution_count": 175
        }
      ]
    },
    {
      "metadata": {
        "id": "rKroSpzDThp8",
        "colab_type": "code",
        "colab": {
          "base_uri": "https://localhost:8080/",
          "height": 67
        },
        "outputId": "969c856b-bb36-48a8-a132-3a4f72f06465"
      },
      "cell_type": "code",
      "source": [
        "from torchvision import datasets, transforms\n",
        "\n",
        "# number of subprocesses to use for data loading\n",
        "num_workers = 0\n",
        "# how many samples per batch to load\n",
        "batch_size = 20\n",
        "# percentage of training set to use as validation\n",
        "valid_size = 0.2\n",
        "\n",
        "# convert data to torch.FloatTensor\n",
        "transform = transforms.Compose([transforms.RandomRotation(30),\n",
        "                                       transforms.RandomHorizontalFlip(),\n",
        "                                       transforms.ToTensor()]) \n",
        "\n",
        "#data set\n",
        "# choose the training and test datasets\n",
        "train_data = datasets.CIFAR10('data', train=True,\n",
        "                              download=True, transform=transform)\n",
        "test_data = datasets.CIFAR10('data', train=False,\n",
        "                             download=True, transform=transform)\n",
        "\n",
        "# obtain training indices that will be used for validation\n",
        "num_train = len(train_data)\n",
        "print(num_train)"
      ],
      "execution_count": 168,
      "outputs": [
        {
          "output_type": "stream",
          "text": [
            "Files already downloaded and verified\n",
            "Files already downloaded and verified\n",
            "50000\n"
          ],
          "name": "stdout"
        }
      ]
    },
    {
      "metadata": {
        "id": "P1eNU1NITv1o",
        "colab_type": "code",
        "colab": {
          "base_uri": "https://localhost:8080/",
          "height": 34
        },
        "outputId": "4955d69a-739f-498f-ff6c-3f2b008e3f28"
      },
      "cell_type": "code",
      "source": [
        "import numpy as np\n",
        "from torch.utils.data.sampler import SubsetRandomSampler\n",
        "\n",
        "# index of num of train\n",
        "indices = list(range(num_train))\n",
        "#random the index\n",
        "np.random.shuffle(indices)\n",
        "split = int(np.floor(valid_size * num_train))\n",
        "# divied into two part\n",
        "train_idx, valid_idx = indices[split:], indices[:split]\n",
        "\n",
        "# define the sampler\n",
        "train_sampler = SubsetRandomSampler(train_idx)\n",
        "valid_sampler = SubsetRandomSampler(valid_idx)\n",
        "\n",
        "# prepare loaders\n",
        "train_loader = torch.utils.data.DataLoader(\n",
        "    train_data,batch_size=batch_size,\n",
        "    sampler = train_sampler,num_workers = num_workers)\n",
        "\n",
        "valid_loader = torch.utils.data.DataLoader(\n",
        "    train_data,batch_size=batch_size,\n",
        "    sampler = valid_sampler,num_workers = num_workers)\n",
        "\n",
        "test_loader = torch.utils.data.DataLoader(\n",
        "    test_data,batch_size=batch_size,num_workers = num_workers)\n",
        "\n",
        "\"\"\"\n",
        "# specify the image classes\n",
        "classes = ['T-shirt/top',\n",
        "           'Trouser',\n",
        "           'Pullover',\n",
        "           'Dress',\n",
        "           'Coat',\n",
        "           'Sandal',\n",
        "           'Shirt',\n",
        "           'Sneaker',\n",
        "           'Bag',\n",
        "           'Ankle Boot']\n",
        "\"\"\"\n",
        "\n",
        "# specify the image classes\n",
        "classes = ['airplane', 'automobile', 'bird', 'cat', 'deer',\n",
        "           'dog', 'frog', 'horse', 'ship', 'truck']\n",
        "\n",
        "print(classes)"
      ],
      "execution_count": 169,
      "outputs": [
        {
          "output_type": "stream",
          "text": [
            "['airplane', 'automobile', 'bird', 'cat', 'deer', 'dog', 'frog', 'horse', 'ship', 'truck']\n"
          ],
          "name": "stdout"
        }
      ]
    },
    {
      "metadata": {
        "id": "Konz029hiOvy",
        "colab_type": "code",
        "colab": {
          "base_uri": "https://localhost:8080/",
          "height": 165
        },
        "outputId": "c59d123c-1d08-4138-de3a-5237c31f19a5"
      },
      "cell_type": "code",
      "source": [
        "import matplotlib.pyplot as plt\n",
        "%matplotlib inline\n",
        "    \n",
        "# obtain one batch of training images\n",
        "dataiter = iter(train_loader)\n",
        "images, labels = dataiter.next()\n",
        "images = images.numpy()\n",
        "\n",
        "# plot the images in the batch, along with the corresponding labels\n",
        "fig = plt.figure(figsize=(25, 4))\n",
        "for idx in np.arange(8):\n",
        "    ax = fig.add_subplot(2, 20/2, idx+1, xticks=[], yticks=[])\n",
        "    img = images[idx] / 2 + 0.5\n",
        "    plt.imshow(np.transpose(img, (1, 2, 0)))\n",
        "    #ax.imshow(np.squeeze(images[idx]), cmap='gray')\n",
        "    # print out the correct label for each image\n",
        "    # .item() gets the value contained in a Tensor\n",
        "    # ax.set_title(str(labels[idx].item()))\n",
        "    ax.set_title(classes[labels[idx]])"
      ],
      "execution_count": 170,
      "outputs": [
        {
          "output_type": "display_data",
          "data": {
            "image/png": "[encoded data removed]",
            "text/plain": [
              "<matplotlib.figure.Figure at 0x7f343e5c9c18>"
            ]
          },
          "metadata": {
            "tags": []
          }
        }
      ]
    },
    {
      "metadata": {
        "id": "qn-h4H61joiQ",
        "colab_type": "code",
        "colab": {}
      },
      "cell_type": "code",
      "source": [
        "from torch import optim\n",
        "# set cretrion and optimizer\n",
        "criterion = nn.CrossEntropyLoss()\n",
        "optimizer = optim.SGD(model.parameters(),lr=0.03)"
      ],
      "execution_count": 0,
      "outputs": []
    },
    {
      "metadata": {
        "id": "0Ww4vVmPGBFH",
        "colab_type": "code",
        "colab": {}
      },
      "cell_type": "code",
      "source": [
        "model.load_state_dict(torch.load(\"model_72.pt\"))"
      ],
      "execution_count": 0,
      "outputs": []
    },
    {
      "metadata": {
        "id": "JUAFpHobkGHw",
        "colab_type": "code",
        "colab": {
          "base_uri": "https://localhost:8080/",
          "height": 437
        },
        "outputId": "26be0d1c-4dbf-4e4c-8e85-cd5a7ef97628"
      },
      "cell_type": "code",
      "source": [
        "# Train\n",
        "# number of epochs to train the model\n",
        "n_epochs = 20\n",
        "\n",
        "valid_loss_min = np.Inf\n",
        "\n",
        "train_loss_data, valid_loss_data = [],[] \n",
        "\n",
        "for epoch in range(n_epochs):\n",
        "  train_loss = 0\n",
        "  test_loss = 0\n",
        "  accuracy = 0\n",
        "  \n",
        "  ###############\n",
        "  # Train Model #\n",
        "  ###############\n",
        "  model.train()\n",
        "  for images, labels in train_loader:\n",
        "    # move to cuda\n",
        "    images, labels = images.to(device), labels.to(device)\n",
        "    #zero gradient\n",
        "    optimizer.zero_grad()\n",
        "    # Forward pass\n",
        "    output = model(images)\n",
        "    #calculate loss\n",
        "    loss = criterion(output,labels)\n",
        "    # backward pass\n",
        "    loss.backward()\n",
        "    # perform a single optimization step (parameters update)\n",
        "    optimizer.step()\n",
        "    # update train loss\n",
        "    train_loss += loss.item() * images.size(0)\n",
        "  \n",
        "  \n",
        "  ######################\n",
        "  # Validate the model #\n",
        "  ######################\n",
        "  model.eval()\n",
        "  for images, labels in valid_loader:\n",
        "    # move to cuda\n",
        "    images, labels = images.to(device), labels.to(device)\n",
        "    # Forward pass\n",
        "    log_ps = model(images)\n",
        "    #calculate loss\n",
        "    loss = criterion(log_ps,labels)\n",
        "    # update train loss\n",
        "    valid_loss += loss.item() * images.size(0)\n",
        "    # calculate accuracy\n",
        "    ps = torch.exp(log_ps)\n",
        "    top_p, top_class = ps.topk(1, dim=1)\n",
        "    equals = top_class == labels.view(*top_class.shape)\n",
        "    accuracy += torch.mean(equals.type(torch.FloatTensor))\n",
        "  \n",
        "  \n",
        "  # Calculate the average loss in one epoch\n",
        "  train_loss = train_loss/len(train_loader.dataset)\n",
        "  valid_loss = valid_loss/len(valid_loader.dataset)\n",
        "  # save the loss in an array\n",
        "  train_loss_data.append(train_loss * 100)\n",
        "  valid_loss_data.append(valid_loss * 100)\n",
        "  \n",
        "  # print the loss\n",
        "  print(\"Epoch {}/{}\".format(epoch+1,n_epochs),\"\\tTrain loss:{:.4f}\".format(train_loss),\n",
        "       \"\\t Valid Loss:{:.4f}\".format(valid_loss),\"\\tAcceuracy:{:.2f}%\".format(accuracy))\n",
        "  \n",
        "  # save the vodel\n",
        "  if valid_loss <= valid_loss_min:\n",
        "    print('Validation loss decreased ({:.4f} --> {:.4f}).  Saving model ...'.format(\n",
        "        valid_loss_min,\n",
        "        valid_loss))\n",
        "    torch.save(model.state_dict(), 'model_cifar.pt')\n",
        "    valid_loss_min = valid_loss"
      ],
      "execution_count": 177,
      "outputs": [
        {
          "output_type": "stream",
          "text": [
            "Epoch 1/20 \tTrain loss:1.8423 \t Valid Loss:0.4606 \tAcceuracy:49.50%\n",
            "Validation loss decreased (inf --> 0.4606).  Saving model ...\n",
            "Epoch 2/20 \tTrain loss:1.8424 \t Valid Loss:0.4606 \tAcceuracy:49.50%\n",
            "Epoch 3/20 \tTrain loss:1.8424 \t Valid Loss:0.4606 \tAcceuracy:49.50%\n",
            "Validation loss decreased (0.4606 --> 0.4606).  Saving model ...\n",
            "Epoch 4/20 \tTrain loss:1.8424 \t Valid Loss:0.4606 \tAcceuracy:49.50%\n",
            "Epoch 5/20 \tTrain loss:1.8423 \t Valid Loss:0.4606 \tAcceuracy:49.50%\n",
            "Epoch 6/20 \tTrain loss:1.8424 \t Valid Loss:0.4606 \tAcceuracy:49.50%\n",
            "Epoch 7/20 \tTrain loss:1.8424 \t Valid Loss:0.4606 \tAcceuracy:49.50%\n",
            "Epoch 8/20 \tTrain loss:1.8423 \t Valid Loss:0.4606 \tAcceuracy:49.50%\n",
            "Epoch 9/20 \tTrain loss:1.8423 \t Valid Loss:0.4606 \tAcceuracy:49.50%\n",
            "Epoch 10/20 \tTrain loss:1.8423 \t Valid Loss:0.4606 \tAcceuracy:49.50%\n",
            "Epoch 11/20 \tTrain loss:1.8423 \t Valid Loss:0.4606 \tAcceuracy:49.50%\n",
            "Epoch 12/20 \tTrain loss:1.8423 \t Valid Loss:0.4606 \tAcceuracy:49.50%\n",
            "Epoch 13/20 \tTrain loss:1.8423 \t Valid Loss:0.4606 \tAcceuracy:49.50%\n",
            "Validation loss decreased (0.4606 --> 0.4606).  Saving model ...\n",
            "Epoch 14/20 \tTrain loss:1.8424 \t Valid Loss:0.4606 \tAcceuracy:49.50%\n",
            "Epoch 15/20 \tTrain loss:1.8424 \t Valid Loss:0.4606 \tAcceuracy:49.50%\n",
            "Epoch 16/20 \tTrain loss:1.8423 \t Valid Loss:0.4606 \tAcceuracy:49.50%\n",
            "Epoch 17/20 \tTrain loss:1.8424 \t Valid Loss:0.4606 \tAcceuracy:49.50%\n",
            "Validation loss decreased (0.4606 --> 0.4606).  Saving model ...\n",
            "Epoch 18/20 \tTrain loss:1.8424 \t Valid Loss:0.4606 \tAcceuracy:49.50%\n",
            "Epoch 19/20 \tTrain loss:1.8423 \t Valid Loss:0.4606 \tAcceuracy:49.50%\n",
            "Validation loss decreased (0.4606 --> 0.4606).  Saving model ...\n",
            "Epoch 20/20 \tTrain loss:1.8423 \t Valid Loss:0.4606 \tAcceuracy:49.50%\n"
          ],
          "name": "stdout"
        }
      ]
    },
    {
      "metadata": {
        "id": "APyQ6k7cyzDS",
        "colab_type": "code",
        "colab": {}
      },
      "cell_type": "code",
      "source": [
        "model.load_state_dict(torch.load(\"model_cifar.pt\"))"
      ],
      "execution_count": 0,
      "outputs": []
    },
    {
      "metadata": {
        "id": "Iph8BCUfFqX5",
        "colab_type": "code",
        "colab": {}
      },
      "cell_type": "code",
      "source": [
        "torch.save(model.state_dict(), 'model_72.pt')"
      ],
      "execution_count": 0,
      "outputs": []
    },
    {
      "metadata": {
        "id": "7iygBS-Nwvtg",
        "colab_type": "code",
        "colab": {
          "base_uri": "https://localhost:8080/",
          "height": 282
        },
        "outputId": "6e8cb9f1-f8b5-4774-ee31-58cae5a0c133"
      },
      "cell_type": "code",
      "source": [
        "# check for overfitting\n",
        "plt.plot(train_loss_data, label = \"taining loss\")\n",
        "plt.plot(valid_loss_data, label = \"validation loss\")\n",
        "plt.legend(frameon = False)"
      ],
      "execution_count": 173,
      "outputs": [
        {
          "output_type": "execute_result",
          "data": {
            "text/plain": [
              "<matplotlib.legend.Legend at 0x7f343e590a58>"
            ]
          },
          "metadata": {
            "tags": []
          },
          "execution_count": 173
        },
        {
          "output_type": "display_data",
          "data": {
            "image/png": "[encoded data removed]",
            "text/plain": [
              "<matplotlib.figure.Figure at 0x7f343e9f2c88>"
            ]
          },
          "metadata": {
            "tags": []
          }
        }
      ]
    },
    {
      "metadata": {
        "id": "aOGWjwlawYhq",
        "colab_type": "code",
        "colab": {
          "base_uri": "https://localhost:8080/",
          "height": 252
        },
        "outputId": "7009e768-b9a7-4955-8de3-1f418f038ab1"
      },
      "cell_type": "code",
      "source": [
        "# track test loss\n",
        "test_loss = 0.0\n",
        "class_correct = list(0. for i in range(10))\n",
        "class_total = list(0. for i in range(10))\n",
        "\n",
        "with torch.no_grad():\n",
        "  model.eval()\n",
        "  # iterate over test data\n",
        "  for data, target in test_loader:\n",
        "      # move tensors to GPU if CUDA is available\n",
        "      data, target = data.to(device), target.to(device)\n",
        "      # forward pass: compute predicted outputs by passing inputs to the model\n",
        "      output = model(data)\n",
        "      # calculate the batch loss\n",
        "      loss = criterion(output, target)\n",
        "      # update test loss \n",
        "      test_loss += loss.item()*data.size(0)\n",
        "      # convert output probabilities to predicted class\n",
        "      _, pred = torch.max(output, 1)    \n",
        "      # compare predictions to true label\n",
        "      correct = np.squeeze(pred.eq(target.data.view_as(pred)))\n",
        "      # calculate test accuracy for each object class\n",
        "      for i in range(batch_size):\n",
        "          label = target.data[i]\n",
        "          class_correct[label] += correct[i].item()\n",
        "          class_total[label] += 1\n",
        "\n",
        "# average test loss\n",
        "test_loss = test_loss/len(test_loader.dataset)\n",
        "print('Test Loss: {:.6f}\\n'.format(test_loss))\n",
        "\n",
        "for i in range(10):\n",
        "    if class_total[i] > 0:\n",
        "        print('Test Accuracy of %5s: %2d%% (%2d/%2d)' % (\n",
        "            classes[i], 100 * class_correct[i] / class_total[i],\n",
        "            np.sum(class_correct[i]), np.sum(class_total[i])))\n",
        "    else:\n",
        "        print('Test Accuracy of %5s: N/A (no training examples)' % (classes[i]))\n",
        "\n",
        "print('\\nTest Accuracy (Overall): %2d%% (%2d/%2d)' % (\n",
        "    100. * np.sum(class_correct) / np.sum(class_total),\n",
        "    np.sum(class_correct), np.sum(class_total)))"
      ],
      "execution_count": 176,
      "outputs": [
        {
          "output_type": "stream",
          "text": [
            "Test Loss: 2.302923\n",
            "\n",
            "Test Accuracy of airplane: 100% (1000/1000)\n",
            "Test Accuracy of automobile:  0% ( 0/1000)\n",
            "Test Accuracy of  bird:  0% ( 0/1000)\n",
            "Test Accuracy of   cat:  0% ( 0/1000)\n",
            "Test Accuracy of  deer:  0% ( 0/1000)\n",
            "Test Accuracy of   dog:  0% ( 0/1000)\n",
            "Test Accuracy of  frog:  0% ( 0/1000)\n",
            "Test Accuracy of horse:  0% ( 0/1000)\n",
            "Test Accuracy of  ship:  0% ( 0/1000)\n",
            "Test Accuracy of truck:  0% ( 0/1000)\n",
            "\n",
            "Test Accuracy (Overall): 10% (1000/10000)\n"
          ],
          "name": "stdout"
        }
      ]
    }
  ]
}