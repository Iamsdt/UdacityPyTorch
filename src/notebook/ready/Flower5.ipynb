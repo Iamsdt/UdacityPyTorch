{
  "nbformat": 4,
  "nbformat_minor": 0,
  "metadata": {
    "colab": {
      "name": "Flower5.ipynb",
      "version": "0.3.2",
      "provenance": [],
      "include_colab_link": true
    },
    "kernelspec": {
      "name": "python3",
      "display_name": "Python 3"
    },
    "accelerator": "GPU"
  },
  "cells": [
    {
      "cell_type": "markdown",
      "metadata": {
        "id": "view-in-github",
        "colab_type": "text"
      },
      "source": [
        "<a href=\"https://colab.research.google.com/github/Iamsdt/UdacityPyTorch/blob/master/src/notebook/ready/Flower5.ipynb\" target=\"_parent\"><img src=\"https://colab.research.google.com/assets/colab-badge.svg\" alt=\"Open In Colab\"/></a>"
      ]
    },
    {
      "metadata": {
        "id": "cM6_5ABd6Ci1",
        "colab_type": "code",
        "outputId": "bc56d043-caa7-4db0-a009-0e2643e02103",
        "colab": {
          "base_uri": "https://localhost:8080/",
          "height": 34
        }
      },
      "cell_type": "code",
      "source": [
        "# http://pytorch.org/\n",
        "from os.path import exists\n",
        "from wheel.pep425tags import get_abbr_impl, get_impl_ver, get_abi_tag\n",
        "platform = '{}{}-{}'.format(get_abbr_impl(), get_impl_ver(), get_abi_tag())\n",
        "cuda_output = !ldconfig -p|grep cudart.so|sed -e 's/.*\\.\\([0-9]*\\)\\.\\([0-9]*\\)$/cu\\1\\2/'\n",
        "accelerator = cuda_output[0] if exists('/dev/nvidia0') else 'cpu'\n",
        "\n",
        "!pip install -q http://download.pytorch.org/whl/{accelerator}/torch-0.4.1-{platform}-linux_x86_64.whl torchvision\n",
        "\n",
        "!pip install torchsummary\n",
        "\n",
        "import torch"
      ],
      "execution_count": 1,
      "outputs": [
        {
          "output_type": "stream",
          "text": [
            "Requirement already satisfied: torchsummary in /usr/local/lib/python3.6/dist-packages (1.5.1)\n"
          ],
          "name": "stdout"
        }
      ]
    },
    {
      "metadata": {
        "id": "V5IecmPH9L84",
        "colab_type": "code",
        "outputId": "f6ece31a-6279-4ae8-cb25-48d915d16434",
        "colab": {
          "base_uri": "https://localhost:8080/",
          "height": 204
        }
      },
      "cell_type": "code",
      "source": [
        "# Load train class\n",
        "!wget -c https://raw.githubusercontent.com/Iamsdt/UdacityPyTorch/master/src/notebook/Train.py\n",
        "\n",
        "import Train"
      ],
      "execution_count": 6,
      "outputs": [
        {
          "output_type": "stream",
          "text": [
            "--2018-12-27 17:27:53--  https://raw.githubusercontent.com/Iamsdt/UdacityPyTorch/master/src/notebook/Train.py\n",
            "Resolving raw.githubusercontent.com (raw.githubusercontent.com)... 151.101.0.133, 151.101.64.133, 151.101.128.133, ...\n",
            "Connecting to raw.githubusercontent.com (raw.githubusercontent.com)|151.101.0.133|:443... connected.\n",
            "HTTP request sent, awaiting response... 200 OK\n",
            "Length: 15107 (15K) [text/plain]\n",
            "Saving to: ‘Train.py’\n",
            "\n",
            "\rTrain.py              0%[                    ]       0  --.-KB/s               \rTrain.py            100%[===================>]  14.75K  --.-KB/s    in 0.006s  \n",
            "\n",
            "2018-12-27 17:27:53 (2.22 MB/s) - ‘Train.py’ saved [15107/15107]\n",
            "\n"
          ],
          "name": "stdout"
        }
      ]
    },
    {
      "metadata": {
        "id": "rOOn0Xtty_s3",
        "colab_type": "text"
      },
      "cell_type": "markdown",
      "source": [
        "# Load previous model"
      ]
    },
    {
      "metadata": {
        "id": "6o-3-mKy88ba",
        "colab_type": "code",
        "colab": {}
      },
      "cell_type": "code",
      "source": [
        "from torchvision import models\n",
        "# load a pretrained model\n",
        "model = models.densenet161(pretrained = True)\n",
        "print(model)"
      ],
      "execution_count": 0,
      "outputs": []
    },
    {
      "metadata": {
        "id": "8Kb905xKrMLV",
        "colab_type": "code",
        "colab": {}
      },
      "cell_type": "code",
      "source": [
        "# laod model\n",
        "model, optimizer, scheduler = Train.load_checkpoint(\"model27_11.pt\", model, optimizer, scheduler)"
      ],
      "execution_count": 0,
      "outputs": []
    },
    {
      "metadata": {
        "id": "YUMREZrJyy-l",
        "colab_type": "text"
      },
      "cell_type": "markdown",
      "source": [
        "# Build"
      ]
    },
    {
      "metadata": {
        "id": "sY4S1JCN83mr",
        "colab_type": "code",
        "colab": {}
      },
      "cell_type": "code",
      "source": [
        "# if model is not save then run this cell\n",
        "\n",
        "import torch.nn as nn\n",
        "import torch.nn.functional as F\n",
        "\n",
        "# define the CNN architecture\n",
        "class Net(nn.Module):\n",
        "    def __init__(self):\n",
        "        super(Net, self).__init__()\n",
        "        # linear layer\n",
        "        self.fc1 = nn.Linear(2208, 1780)\n",
        "        self.fc2 = nn.Linear(1780, 1560)\n",
        "        self.fc3 = nn.Linear(1560, 1560)\n",
        "        self.fc4 = nn.Linear(1560, 102)\n",
        "        # dropout layer (p=0.25)\n",
        "        self.dropout = nn.Dropout(0.25)\n",
        "\n",
        "    def forward(self, x):\n",
        "        # add sequence of convolutional and max pooling layer\n",
        "        # flatten image input\n",
        "        x = x.view(x.shape[0], -1)\n",
        "        \n",
        "        # add dropout layer\n",
        "        x = self.dropout(F.relu(self.fc1(x)))\n",
        "        x = self.dropout(F.relu(self.fc2(x)))\n",
        "        x = self.dropout(F.relu(self.fc3(x)))\n",
        "        # add 2nd hidden layer, with relu activation function\n",
        "        x = self.fc4(x)\n",
        "        return x"
      ],
      "execution_count": 0,
      "outputs": []
    },
    {
      "metadata": {
        "id": "OKSO4B1n8_S7",
        "colab_type": "code",
        "colab": {}
      },
      "cell_type": "code",
      "source": [
        "# if model is not save then run this cell\n",
        "# change classifier\n",
        "model.classifier = Net()\n",
        "model.classifier"
      ],
      "execution_count": 0,
      "outputs": []
    },
    {
      "metadata": {
        "id": "RoayxoTb9JGL",
        "colab_type": "code",
        "colab": {}
      },
      "cell_type": "code",
      "source": [
        "# if model is not save then run this cell\n",
        "\n",
        "import torch\n",
        "from torch import optim\n",
        "from torch.optim import lr_scheduler\n",
        "# set cretrion and optimizer\n",
        "criterion = nn.CrossEntropyLoss()\n",
        "# Observe that all parameters are being optimized\n",
        "optimizer = optim.SGD(model.parameters(), lr=0.01, momentum=0.9)\n",
        "\n",
        "#optimizer = optim.Adadelta(model.parameters(), lr=0.01)\n",
        "scheduler = lr_scheduler.StepLR(optimizer, step_size=2, gamma=0.1)\n",
        "\n",
        "#move tensor to default device\n",
        "device = torch.device(\"cuda\" if torch.cuda.is_available() else \"cpu\")\n",
        "model.to(device)"
      ],
      "execution_count": 0,
      "outputs": []
    },
    {
      "metadata": {
        "id": "WLaOvyw6yuwV",
        "colab_type": "text"
      },
      "cell_type": "markdown",
      "source": [
        "# Prepare Data"
      ]
    },
    {
      "metadata": {
        "id": "arKammRPt7qQ",
        "colab_type": "code",
        "colab": {
          "base_uri": "https://localhost:8080/",
          "height": 34
        },
        "outputId": "419ff06d-d01c-4e93-d402-b96f691d59f4"
      },
      "cell_type": "code",
      "source": [
        "# Load data\n",
        "!wget -cq https://github.com/udacity/pytorch_challenge/raw/master/cat_to_name.json\n",
        "\n",
        "!wget -cq https://s3.amazonaws.com/content.udacity-data.com/courses/nd188/flower_data.zip\n",
        "\n",
        "!unzip -qq flower_data.zip\n",
        "\n",
        "print(\"Data loaded\")"
      ],
      "execution_count": 9,
      "outputs": [
        {
          "output_type": "stream",
          "text": [
            "Data loaded\n"
          ],
          "name": "stdout"
        }
      ]
    },
    {
      "metadata": {
        "id": "zre8Rr5RM55K",
        "colab_type": "code",
        "outputId": "d2f44fd4-e9c1-4f27-e5b5-7ec8c079a84c",
        "colab": {
          "base_uri": "https://localhost:8080/",
          "height": 68
        }
      },
      "cell_type": "code",
      "source": [
        "import Train\n",
        "\n",
        "# create train and test loader\n",
        "data_dir = 'flower_data'\n",
        "\n",
        "from torchvision import datasets, transforms\n",
        "\n",
        "# number of subprocesses to use for data loading\n",
        "num_workers = 4\n",
        "# how many samples per batch to load\n",
        "batch_size = 32\n",
        "# percentage of training set to use as validation\n",
        "valid_size = 0.2\n",
        "\n",
        "# convert data to torch.FloatTensor\n",
        "transform_train = transforms.Compose([\n",
        "        transforms.RandomResizedCrop(224),\n",
        "        transforms.RandomHorizontalFlip(),\n",
        "        transforms.RandomRotation(10),\n",
        "        transforms.ToTensor(),\n",
        "        transforms.Normalize([0.485, 0.456, 0.406], [0.229, 0.224, 0.225])\n",
        "    ])\n",
        "\n",
        "transform_valid = transforms.Compose([\n",
        "        transforms.Resize(256),\n",
        "        transforms.CenterCrop(224),\n",
        "        transforms.ToTensor(),\n",
        "        transforms.Normalize([0.485, 0.456, 0.406], [0.229, 0.224, 0.225])\n",
        "    ])\n",
        "\n",
        "test_transforms = transforms.Compose([\n",
        "    transforms.Resize(256),\n",
        "    transforms.CenterCrop(224),\n",
        "    transforms.ToTensor(),\n",
        "    transforms.Normalize([0.485, 0.456, 0.406], [0.229, 0.224, 0.225])\n",
        "    ])\n",
        "\n",
        "# ceate data loader\n",
        "train_loader, valid_loader, test_loader = Train.prepare_loader(data_dir,transform_train,transform_valid,test_transforms)"
      ],
      "execution_count": 10,
      "outputs": [
        {
          "output_type": "stream",
          "text": [
            "Train size:6552\n",
            "Valid size:6552\n",
            "Test size:818\n"
          ],
          "name": "stdout"
        }
      ]
    },
    {
      "metadata": {
        "id": "wOCOlMHuyoj9",
        "colab_type": "text"
      },
      "cell_type": "markdown",
      "source": [
        "# Train Model"
      ]
    },
    {
      "metadata": {
        "id": "P6-7TxuuM4T9",
        "colab_type": "code",
        "outputId": "4fd5fa13-14d5-4bdd-f22a-151505df5346",
        "colab": {
          "base_uri": "https://localhost:8080/",
          "height": 34
        }
      },
      "cell_type": "code",
      "source": [
        "# Freeze the parameter\n",
        "model = Train.freeze_parameters(model)\n",
        "#for _, param in model.named_parameters():\n",
        "#  param.requires_grad = False\n",
        "print(\"Parameter Freezed\")"
      ],
      "execution_count": 7,
      "outputs": [
        {
          "output_type": "stream",
          "text": [
            "Parameter Freezed\n"
          ],
          "name": "stdout"
        }
      ]
    },
    {
      "metadata": {
        "id": "gZlMUAkgYUSn",
        "colab_type": "code",
        "outputId": "3a8c1327-61fa-4774-88b0-e5ef400c61b2",
        "colab": {
          "base_uri": "https://localhost:8080/",
          "height": 34
        }
      },
      "cell_type": "code",
      "source": [
        "# Unfreeze the parameter\n",
        "model = Train.unfreeze(model)\n",
        "#for _, param in model.named_parameters():\n",
        "#  param.requires_grad = True\n",
        "\n",
        "print(\"Parameter unfreezed\")"
      ],
      "execution_count": 0,
      "outputs": [
        {
          "output_type": "stream",
          "text": [
            "Parameter unfreezed\n"
          ],
          "name": "stdout"
        }
      ]
    },
    {
      "metadata": {
        "id": "7Oc20x0VuJJV",
        "colab_type": "code",
        "colab": {
          "base_uri": "https://localhost:8080/",
          "height": 156
        },
        "outputId": "70799673-08a7-4130-d340-cc29f4d6012a"
      },
      "cell_type": "code",
      "source": [
        "!pip uninstall -y Pillow\n",
        "!pip install Pillow==5.3.0"
      ],
      "execution_count": 1,
      "outputs": [
        {
          "output_type": "stream",
          "text": [
            "Uninstalling Pillow-4.0.0:\n",
            "  Successfully uninstalled Pillow-4.0.0\n",
            "Collecting Pillow==5.3.0\n",
            "\u001b[?25l  Downloading https://files.pythonhosted.org/packages/62/94/5430ebaa83f91cc7a9f687ff5238e26164a779cca2ef9903232268b0a318/Pillow-5.3.0-cp36-cp36m-manylinux1_x86_64.whl (2.0MB)\n",
            "\u001b[K    100% |████████████████████████████████| 2.0MB 1.7MB/s \n",
            "\u001b[?25hInstalling collected packages: Pillow\n",
            "Successfully installed Pillow-5.3.0\n"
          ],
          "name": "stdout"
        }
      ]
    },
    {
      "metadata": {
        "id": "UhG5io2lM9S8",
        "colab_type": "code",
        "colab": {}
      },
      "cell_type": "code",
      "source": [
        "# Train model\n",
        "epochs = 7\n",
        "model, train_loss,valid_loss = Train.train_model(\n",
        "    model,train_loader,valid_loader, epochs, optimizer,scheduler, criterion)"
      ],
      "execution_count": 0,
      "outputs": []
    },
    {
      "metadata": {
        "id": "RqrpiyEmyij2",
        "colab_type": "text"
      },
      "cell_type": "markdown",
      "source": [
        "# Load model"
      ]
    },
    {
      "metadata": {
        "id": "pW9fJU7bYkFR",
        "colab_type": "code",
        "colab": {}
      },
      "cell_type": "code",
      "source": [
        "# Load best model\n",
        "name = \"model.pt\"\n",
        "model.load_state_dict(torch.load(name))"
      ],
      "execution_count": 0,
      "outputs": []
    },
    {
      "metadata": {
        "id": "3NTk_LMxYYj2",
        "colab_type": "code",
        "colab": {}
      },
      "cell_type": "code",
      "source": [
        "#save model for further use\n",
        "torch.save(model.state_dict(),\"model74freeze.pt\")"
      ],
      "execution_count": 0,
      "outputs": []
    },
    {
      "metadata": {
        "id": "FPndJvqIyehn",
        "colab_type": "text"
      },
      "cell_type": "markdown",
      "source": [
        "# Testing"
      ]
    },
    {
      "metadata": {
        "id": "Dju3Uct7YNo3",
        "colab_type": "code",
        "outputId": "7c59a1bd-d179-4c60-c763-373947424717",
        "colab": {
          "base_uri": "https://localhost:8080/",
          "height": 282
        }
      },
      "cell_type": "code",
      "source": [
        "#Check for overfitting\n",
        "\n",
        "import matplotlib.pyplot as plt\n",
        "%matplotlib inline\n",
        "%config InlineBackend.figure_format = 'retina'\n",
        "\n",
        "plt.plot(train_loss, label = \"taining loss\")\n",
        "plt.plot(valid_loss, label = \"validation loss\")\n",
        "plt.legend(frameon = False)"
      ],
      "execution_count": 0,
      "outputs": [
        {
          "output_type": "execute_result",
          "data": {
            "text/plain": [
              "[<matplotlib.lines.Line2D at 0x7f2ad3db50f0>]"
            ]
          },
          "metadata": {
            "tags": []
          },
          "execution_count": 44
        },
        {
          "output_type": "execute_result",
          "data": {
            "text/plain": [
              "[<matplotlib.lines.Line2D at 0x7f2ad69a3550>]"
            ]
          },
          "metadata": {
            "tags": []
          },
          "execution_count": 44
        },
        {
          "output_type": "execute_result",
          "data": {
            "text/plain": [
              "<matplotlib.legend.Legend at 0x7f2ad4f77ac8>"
            ]
          },
          "metadata": {
            "tags": []
          },
          "execution_count": 44
        },
        {
          "output_type": "display_data",
          "data": {
            "image/png": "[encoded data removed]",
            "text/plain": [
              "<matplotlib.figure.Figure at 0x7f2ad69a3898>"
            ]
          },
          "metadata": {
            "tags": [],
            "image/png": {
              "width": 372,
              "height": 248
            }
          }
        }
      ]
    },
    {
      "metadata": {
        "id": "pQrqbQj0YsBj",
        "colab_type": "code",
        "outputId": "b5d96db4-260e-40ad-cadc-a6c349be32e0",
        "colab": {
          "base_uri": "https://localhost:8080/",
          "height": 255
        }
      },
      "cell_type": "code",
      "source": [
        "# Test accuracy top 10 classs\n",
        "Train.calculate_top_accuracy(model, test_loader, criterion)"
      ],
      "execution_count": 9,
      "outputs": [
        {
          "output_type": "stream",
          "text": [
            "Test Loss: 0.051838\n",
            "\n",
            "Test Accuracy of     0:  0% ( 0/ 4)\n",
            "Test Accuracy of     1: 100% ( 2/ 2)\n",
            "Test Accuracy of     2: 33% ( 2/ 6)\n",
            "Test Accuracy of     3: 100% ( 4/ 4)\n",
            "Test Accuracy of     4: 100% ( 5/ 5)\n",
            "Test Accuracy of     5: 33% ( 2/ 6)\n",
            "Test Accuracy of     6: 100% ( 2/ 2)\n",
            "Test Accuracy of    22: N/A (no training examples)\n",
            "Test Accuracy of     8:  0% ( 0/ 1)\n",
            "Test Accuracy of     9: 50% ( 1/ 2)\n",
            "\n",
            "Test Accuracy (Overall): 73% (303/410)\n"
          ],
          "name": "stdout"
        }
      ]
    },
    {
      "metadata": {
        "id": "Fpl_ao7PwZtl",
        "colab_type": "code",
        "colab": {}
      },
      "cell_type": "code",
      "source": [
        "# Test total accuracy\n",
        "Train.calc_accuracy(model,testset_path=\"flower_data/valid\",batch_size=batch_size)"
      ],
      "execution_count": 0,
      "outputs": []
    },
    {
      "metadata": {
        "id": "YzRNvNrlwd_M",
        "colab_type": "code",
        "colab": {}
      },
      "cell_type": "code",
      "source": [
        "# Test with google data set\n",
        "Train.calc_accuracy(model,use_google_testset=True,batch_size=batch_size)"
      ],
      "execution_count": 0,
      "outputs": []
    },
    {
      "metadata": {
        "id": "_enRA_qEyYbb",
        "colab_type": "text"
      },
      "cell_type": "markdown",
      "source": [
        "# Save checkpoint"
      ]
    },
    {
      "metadata": {
        "id": "Eg53WvY6sRPp",
        "colab_type": "code",
        "colab": {}
      },
      "cell_type": "code",
      "source": [
        "#save model\n",
        "name = \"model27_11.pt\"\n",
        "Train.save_check_point(model, optimizer, scheduler, train_loader, name, epoch, save_cpu=False)"
      ],
      "execution_count": 0,
      "outputs": []
    },
    {
      "metadata": {
        "id": "5JrQ-LrDsjd8",
        "colab_type": "code",
        "colab": {}
      },
      "cell_type": "code",
      "source": [
        "#load model again\n",
        "name = \"model27_11.pt\"\n",
        "model, optimizer, scheduler = Train.load_checkpoint(name, model, optimizer, scheduler)"
      ],
      "execution_count": 0,
      "outputs": []
    },
    {
      "metadata": {
        "id": "wKjFXBdYyS83",
        "colab_type": "text"
      },
      "cell_type": "markdown",
      "source": [
        "# Image Preprocessing"
      ]
    },
    {
      "metadata": {
        "id": "CNveoZGyrcft",
        "colab_type": "code",
        "colab": {
          "base_uri": "https://localhost:8080/",
          "height": 34
        },
        "outputId": "3425c7fe-4ce7-47e7-f185-e9c434e78b8f"
      },
      "cell_type": "code",
      "source": [
        "#Time for visalize\n",
        "cat_to_name = Train.get_cat_name()\n",
        "class_to_idx = train_loader.dataset.class_to_idx\n",
        "idx_to_name = {idx: cat_to_name[category] for category, idx in train_loader.dataset.class_to_idx.items()}\n",
        "list(idx_to_name.items())[:6]\n",
        "list(cat_to_name.keys())[:6]"
      ],
      "execution_count": 10,
      "outputs": [
        {
          "output_type": "execute_result",
          "data": {
            "text/plain": [
              "['21', '3', '45', '1', '34', '27']"
            ]
          },
          "metadata": {
            "tags": []
          },
          "execution_count": 10
        }
      ]
    },
    {
      "metadata": {
        "id": "gOm6lao4rg47",
        "colab_type": "code",
        "colab": {}
      },
      "cell_type": "code",
      "source": [
        "def process_image(image_path):\n",
        "    ''' Scales, crops, and normalizes a PIL image for a PyTorch model,\n",
        "        returns a PyTorch tensor\n",
        "    '''\n",
        "    \n",
        "    image = Image.open(image_path)\n",
        "    \n",
        "    # Resize\n",
        "    img = image.resize((256, 256))\n",
        "    \n",
        "    # Center crop\n",
        "    width = 256\n",
        "    height = 256\n",
        "    new_width = 224\n",
        "    new_height = 224\n",
        "\n",
        "    left = (width - new_width)/2\n",
        "    top = (height - new_height)/2\n",
        "    right = (width + new_width)/2\n",
        "    bottom = (height + new_height)/2\n",
        "    img = img.crop((left, top, right, bottom))\n",
        "    \n",
        "    # Convert to numpy, transpose color dimension and normalize\n",
        "    img = np.array(img).transpose((2, 0, 1)) / 256\n",
        "    \n",
        "    # Standardization\n",
        "    means = np.array([0.485, 0.456, 0.406]).reshape((3, 1, 1))\n",
        "    stds = np.array([0.229, 0.224, 0.225]).reshape((3, 1, 1))\n",
        "\n",
        "    img = img - means\n",
        "    img = img / stds\n",
        "\n",
        "    img_tensor = torch.Tensor(img)\n",
        "    \n",
        "    return img_tensor"
      ],
      "execution_count": 0,
      "outputs": []
    },
    {
      "metadata": {
        "id": "uc6HSKQcrn16",
        "colab_type": "code",
        "colab": {}
      },
      "cell_type": "code",
      "source": [
        "def imshow(image, ax=None, title=None):\n",
        "    \"\"\"Imshow for Tensor.\"\"\"\n",
        "    if ax is None:\n",
        "        fig, ax = plt.subplots()\n",
        "    \n",
        "    # PyTorch tensors assume the color channel is the first dimension\n",
        "    # but matplotlib assumes is the third dimension\n",
        "    image = image.numpy().transpose((1, 2, 0))\n",
        "    \n",
        "    # Undo preprocessing\n",
        "    mean = np.array([0.485, 0.456, 0.406])\n",
        "    std = np.array([0.229, 0.224, 0.225])\n",
        "    image = std * image + mean\n",
        "    \n",
        "    # Image needs to be clipped between 0 and 1 or it looks like noise when displayed\n",
        "    image = np.clip(image, 0, 1)\n",
        "    \n",
        "    ax.imshow(image); plt.axis('off')\n",
        "    \n",
        "    return ax, image"
      ],
      "execution_count": 0,
      "outputs": []
    },
    {
      "metadata": {
        "id": "dSqqbhZNrqVc",
        "colab_type": "code",
        "colab": {
          "base_uri": "https://localhost:8080/",
          "height": 269
        },
        "outputId": "755b4d94-32e4-4ef6-d1b9-96507b7c580b"
      },
      "cell_type": "code",
      "source": [
        "import pandas as pd\n",
        "import numpy as np\n",
        "import os\n",
        "import json\n",
        "import matplotlib.pyplot as plt\n",
        "%matplotlib inline\n",
        "from PIL import Image\n",
        "img = process_image('flower_data/valid/11/image_03125.jpg')\n",
        "ax, image = imshow(img)"
      ],
      "execution_count": 16,
      "outputs": [
        {
          "output_type": "display_data",
          "data": {
            "image/png": "[encoded data removed]",
            "text/plain": [
              "<matplotlib.figure.Figure at 0x7f68a61f8550>"
            ]
          },
          "metadata": {
            "tags": []
          }
        }
      ]
    },
    {
      "metadata": {
        "id": "WU4t1ybzyLGm",
        "colab_type": "text"
      },
      "cell_type": "markdown",
      "source": [
        "# Class Prediction"
      ]
    },
    {
      "metadata": {
        "id": "uF3rgdTdr58a",
        "colab_type": "code",
        "colab": {}
      },
      "cell_type": "code",
      "source": [
        "def random_image_path():\n",
        "    \"\"\"Generate a random image path from validation set\"\"\"\n",
        "    cat = np.random.choice(os.listdir(f'flower_data/valid/'))\n",
        "    image_filename = np.random.choice(os.listdir(f'flower_data/valid/{cat}/'))\n",
        "    ex_path = f'flower_data/valid/{cat}/' + image_filename\n",
        "    print(f\"Path:{ex_path}\")\n",
        "    return ex_path"
      ],
      "execution_count": 0,
      "outputs": []
    },
    {
      "metadata": {
        "id": "lR9T6NLqr_-O",
        "colab_type": "code",
        "colab": {}
      },
      "cell_type": "code",
      "source": [
        "def predict(image_path, model, topk=5):\n",
        "    ''' Predict the class (or classes) of an image using a trained deep learning model.\n",
        "    '''\n",
        "    real_class = model.cat_to_name[image_path.split('/')[2]]\n",
        "    img_tensor = process_image(image_path)\n",
        "    \n",
        "    if torch.cuda.is_available():\n",
        "        img_tensor = img_tensor.view(1, 3, 224, 224).cuda()\n",
        "    else:\n",
        "        img_tensor = img_tensor.view(1, 3, 224, 224)\n",
        "    \n",
        "    with torch.no_grad():\n",
        "        model.eval()\n",
        "        # Output is not a probability or a log probability\n",
        "        out = model(img_tensor)\n",
        "        \n",
        "        # Apply softmax across classes\n",
        "        ps = torch.softmax(out, dim = 1)\n",
        "        \n",
        "        topk, topclass = ps.topk(topk, dim = 1)\n",
        "        top_classes = [model.idx_to_name[class_] for class_ in topclass.cpu().numpy()[0]]\n",
        "        top_ps = topk.cpu().numpy()[0]\n",
        "        return top_ps, top_classes, real_class, img_tensor.cpu().squeeze()"
      ],
      "execution_count": 0,
      "outputs": []
    },
    {
      "metadata": {
        "id": "1r96PbnisCmM",
        "colab_type": "code",
        "colab": {}
      },
      "cell_type": "code",
      "source": [
        "ex_path = random_image_path()\n",
        "ps, classes, y_obs, img = predict(ex_path, model)"
      ],
      "execution_count": 0,
      "outputs": []
    },
    {
      "metadata": {
        "id": "DiqzKsMesHTj",
        "colab_type": "code",
        "colab": {}
      },
      "cell_type": "code",
      "source": [
        "ax, img = imshow(img);\n",
        "ax.set_title(y_obs);\n",
        "ps, classes"
      ],
      "execution_count": 0,
      "outputs": []
    },
    {
      "metadata": {
        "id": "62W8tqZPxto6",
        "colab_type": "text"
      },
      "cell_type": "markdown",
      "source": [
        "# Sanity Checking\n",
        "\n"
      ]
    },
    {
      "metadata": {
        "id": "kYb6Tn3wsJMt",
        "colab_type": "code",
        "colab": {}
      },
      "cell_type": "code",
      "source": [
        "def display_prediction(image_path, model, topk):\n",
        "    \"\"\"Display image and preditions from model\"\"\"\n",
        "    # Get predictions\n",
        "    real_cat = image_path.split('/')[2]\n",
        "    n_train_images = len(os.listdir(f'flower_data/train/{real_cat}'))\n",
        "    \n",
        "    ps, classes, y_obs, img = predict(image_path, model, topk)\n",
        "    # Convert results to dataframe for plotting\n",
        "    result = pd.DataFrame({'p': ps}, index = classes)\n",
        "    \n",
        "    plt.figure(figsize = (6, 5))\n",
        "    ax = plt.subplot(1, 1, 1)\n",
        "    ax, img = imshow(img, ax = ax);\n",
        "    ax.set_title(y_obs, size = 20);\n",
        "    plt.show();\n",
        "    \n",
        "    result.sort_values('p')['p'].plot.barh(color = 'blue', edgecolor = 'k');\n",
        "    plt.xlabel('Predicted Probability'); plt.ylabel('Classes');\n",
        "    plt.show();\n",
        "    \n",
        "    print(f'{n_train_images} training images for {y_obs}.')"
      ],
      "execution_count": 0,
      "outputs": []
    },
    {
      "metadata": {
        "id": "5UaywHwqsK_7",
        "colab_type": "code",
        "colab": {}
      },
      "cell_type": "code",
      "source": [
        "import pandas as pd\n",
        "ex_path = random_image_path()\n",
        "display_prediction(ex_path, model, 5)"
      ],
      "execution_count": 0,
      "outputs": []
    },
    {
      "metadata": {
        "id": "maAQ1B9lw1Yz",
        "colab_type": "code",
        "colab": {}
      },
      "cell_type": "code",
      "source": [
        ""
      ],
      "execution_count": 0,
      "outputs": []
    },
    {
      "metadata": {
        "id": "pZhgMjJtw155",
        "colab_type": "text"
      },
      "cell_type": "markdown",
      "source": [
        "# Save on Google Drive\n",
        "Save to the google drive for latter use"
      ]
    },
    {
      "metadata": {
        "id": "jd22cqOtwzsy",
        "colab_type": "code",
        "colab": {}
      },
      "cell_type": "code",
      "source": [
        "from google.colab import drive\n",
        "drive.mount('/content/gdrive')"
      ],
      "execution_count": 0,
      "outputs": []
    },
    {
      "metadata": {
        "id": "f3FzIbsRxOX9",
        "colab_type": "code",
        "colab": {}
      },
      "cell_type": "code",
      "source": [
        "model_save_name = 'flower4_27_1a_93.pt'\n",
        "path = F\"/content/gdrive/My Drive/model/{model_save_name}\" \n",
        "torch.save(model.state_dict(), path)"
      ],
      "execution_count": 0,
      "outputs": []
    },
    {
      "metadata": {
        "id": "umdsVZ_Exa7q",
        "colab_type": "code",
        "colab": {}
      },
      "cell_type": "code",
      "source": [
        "#Save checkpoint\n",
        "name = \"model27_11.pt\"\n",
        "Train.save_check_point(model, optimizer, scheduler, train_loader, name, epoch, save_cpu=True)"
      ],
      "execution_count": 0,
      "outputs": []
    }
  ]
}