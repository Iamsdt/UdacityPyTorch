{
  "nbformat": 4,
  "nbformat_minor": 0,
  "metadata": {
    "colab": {
      "name": "Flower4.ipynb",
      "version": "0.3.2",
      "provenance": [],
      "include_colab_link": true
    },
    "kernelspec": {
      "name": "python3",
      "display_name": "Python 3"
    },
    "accelerator": "GPU"
  },
  "cells": [
    {
      "cell_type": "markdown",
      "metadata": {
        "id": "view-in-github",
        "colab_type": "text"
      },
      "source": [
        "<a href=\"https://colab.research.google.com/github/Iamsdt/UdacityPyTorch/blob/master/src/notebook/working/Flower.ipynb\" target=\"_parent\"><img src=\"https://colab.research.google.com/assets/colab-badge.svg\" alt=\"Open In Colab\"/></a>"
      ]
    },
    {
      "metadata": {
        "id": "aRu2_ELl_7-6",
        "colab_type": "code",
        "colab": {
          "base_uri": "https://localhost:8080/",
          "height": 54
        },
        "outputId": "dedd9f8c-8a55-4573-ef7c-a4cdc2a8ab88"
      },
      "cell_type": "code",
      "source": [
        "# http://pytorch.org/\n",
        "from os.path import exists\n",
        "from wheel.pep425tags import get_abbr_impl, get_impl_ver, get_abi_tag\n",
        "platform = '{}{}-{}'.format(get_abbr_impl(), get_impl_ver(), get_abi_tag())\n",
        "cuda_output = !ldconfig -p|grep cudart.so|sed -e 's/.*\\.\\([0-9]*\\)\\.\\([0-9]*\\)$/cu\\1\\2/'\n",
        "accelerator = cuda_output[0] if exists('/dev/nvidia0') else 'cpu'\n",
        "\n",
        "!pip install -q http://download.pytorch.org/whl/{accelerator}/torch-0.4.1-{platform}-linux_x86_64.whl torchvision\n",
        "\n",
        "import torch"
      ],
      "execution_count": 1,
      "outputs": [
        {
          "output_type": "stream",
          "text": [
            "tcmalloc: large alloc 1073750016 bytes == 0x58fc6000 @  0x7f6a93bb22a4 0x591a07 0x5b5d56 0x502e9a 0x506859 0x502209 0x502f3d 0x506859 0x504c28 0x502540 0x502f3d 0x506859 0x504c28 0x502540 0x502f3d 0x506859 0x504c28 0x502540 0x502f3d 0x507641 0x502209 0x502f3d 0x506859 0x504c28 0x502540 0x502f3d 0x507641 0x504c28 0x502540 0x502f3d 0x507641\n"
          ],
          "name": "stdout"
        }
      ]
    },
    {
      "metadata": {
        "id": "Kwel9YNUAA3V",
        "colab_type": "code",
        "outputId": "116f9889-907f-4653-c254-376c74b253be",
        "colab": {
          "base_uri": "https://localhost:8080/",
          "height": 34
        }
      },
      "cell_type": "code",
      "source": [
        "# Load data\n",
        "!wget -cq https://github.com/udacity/pytorch_challenge/raw/master/cat_to_name.json\n",
        "\n",
        "!wget -cq https://s3.amazonaws.com/content.udacity-data.com/courses/nd188/flower_data.zip\n",
        "\n",
        "!unzip -qq flower_data.zip\n",
        "\n",
        "print(\"Data loaded\")"
      ],
      "execution_count": 2,
      "outputs": [
        {
          "output_type": "stream",
          "text": [
            "Data loaded\n"
          ],
          "name": "stdout"
        }
      ]
    },
    {
      "metadata": {
        "id": "Kcy1bFgwADM5",
        "colab_type": "code",
        "outputId": "cb9dd96a-1c09-4da6-cdac-6f7a5f91997b",
        "colab": {
          "base_uri": "https://localhost:8080/",
          "height": 134
        }
      },
      "cell_type": "code",
      "source": [
        "# Load train class\n",
        "!wget -c https://raw.githubusercontent.com/Iamsdt/UdacityPyTorch/master/src/notebook/Train.py\n",
        "\n",
        "import Train"
      ],
      "execution_count": 1,
      "outputs": [
        {
          "output_type": "stream",
          "text": [
            "--2018-12-26 15:06:51--  https://raw.githubusercontent.com/Iamsdt/UdacityPyTorch/master/src/notebook/Train.py\n",
            "Resolving raw.githubusercontent.com (raw.githubusercontent.com)... 151.101.0.133, 151.101.64.133, 151.101.128.133, ...\n",
            "Connecting to raw.githubusercontent.com (raw.githubusercontent.com)|151.101.0.133|:443... connected.\n",
            "HTTP request sent, awaiting response... 416 Range Not Satisfiable\n",
            "\n",
            "    The file is already fully retrieved; nothing to do.\n",
            "\n"
          ],
          "name": "stdout"
        }
      ]
    },
    {
      "metadata": {
        "id": "D0ELxwegAFlO",
        "colab_type": "code",
        "outputId": "2a24d99d-045c-433f-a7a1-a6cade988cf1",
        "colab": {
          "base_uri": "https://localhost:8080/",
          "height": 67
        }
      },
      "cell_type": "code",
      "source": [
        "import Train\n",
        "\n",
        "# create train and test loader\n",
        "data_dir = 'flower_data'\n",
        "\n",
        "from torchvision import datasets, transforms\n",
        "\n",
        "# number of subprocesses to use for data loading\n",
        "num_workers = 4\n",
        "# how many samples per batch to load\n",
        "batch_size = 20\n",
        "# percentage of training set to use as validation\n",
        "valid_size = 0.2\n",
        "\n",
        "# convert data to torch.FloatTensor\n",
        "transform_train = transforms.Compose([\n",
        "        transforms.RandomResizedCrop(224),\n",
        "        transforms.RandomHorizontalFlip(),\n",
        "        transforms.RandomRotation(10),\n",
        "        transforms.ToTensor(),\n",
        "        transforms.Normalize([0.485, 0.456, 0.406], [0.229, 0.224, 0.225])\n",
        "    ])\n",
        "\n",
        "transform_valid = transforms.Compose([\n",
        "        transforms.Resize(256),\n",
        "        transforms.CenterCrop(224),\n",
        "        transforms.ToTensor(),\n",
        "        transforms.Normalize([0.485, 0.456, 0.406], [0.229, 0.224, 0.225])\n",
        "    ])\n",
        "\n",
        "test_transforms = transforms.Compose([\n",
        "    transforms.Resize(256),\n",
        "    transforms.CenterCrop(224),\n",
        "    transforms.ToTensor(),\n",
        "    transforms.Normalize([0.485, 0.456, 0.406], [0.229, 0.224, 0.225])\n",
        "    ])\n",
        "\n",
        "# ceate data loader\n",
        "train_loader, valid_loader, test_loader = Train.prepare_loader(data_dir,transform_train,transform_valid,test_transforms)"
      ],
      "execution_count": 2,
      "outputs": [
        {
          "output_type": "stream",
          "text": [
            "Train size:6552\n",
            "Valid size:6552\n",
            "Test size:818\n"
          ],
          "name": "stdout"
        }
      ]
    },
    {
      "metadata": {
        "id": "2Dly_GIPAGOT",
        "colab_type": "code",
        "outputId": "9a3594d1-d637-40e6-fe84-2ead42d8097f",
        "colab": {
          "base_uri": "https://localhost:8080/",
          "height": 70
        }
      },
      "cell_type": "code",
      "source": [
        "from torchvision import models\n",
        "# load a pretrained model\n",
        "model = models.densenet161(pretrained = True)"
      ],
      "execution_count": 3,
      "outputs": [
        {
          "output_type": "stream",
          "text": [
            "/usr/local/lib/python3.6/dist-packages/torchvision/models/densenet.py:212: UserWarning: nn.init.kaiming_normal is now deprecated in favor of nn.init.kaiming_normal_.\n",
            "  nn.init.kaiming_normal(m.weight.data)\n"
          ],
          "name": "stderr"
        }
      ]
    },
    {
      "metadata": {
        "id": "cA0Ff8ZrTQm9",
        "colab_type": "code",
        "outputId": "d9b2bcb3-f930-4c20-ea55-0948d165277b",
        "colab": {
          "base_uri": "https://localhost:8080/",
          "height": 34
        }
      },
      "cell_type": "code",
      "source": [
        "from torch import nn\n",
        "print(model.classifier)\n",
        "#num_ftrs = model.classifier.in_features\n",
        "#print(num_ftrs)\n",
        "#model.classifier = nn.Linear(num_ftrs, 102)\n",
        "#print(model.classifier)"
      ],
      "execution_count": 4,
      "outputs": [
        {
          "output_type": "stream",
          "text": [
            "Linear(in_features=2208, out_features=1000, bias=True)\n"
          ],
          "name": "stdout"
        }
      ]
    },
    {
      "metadata": {
        "id": "PnIdZh1EAHtr",
        "colab_type": "code",
        "outputId": "35f92a70-01bd-4eaa-a50b-2efca9cd3e23",
        "colab": {
          "base_uri": "https://localhost:8080/",
          "height": 134
        }
      },
      "cell_type": "code",
      "source": [
        "from collections import OrderedDict\n",
        "from torch import nn\n",
        "\n",
        "# create a simple classifier\n",
        "classifier = nn.Sequential(OrderedDict([\n",
        "                ('fc1', nn.Linear(2208, 500)),\n",
        "                #('fc2', nn.Linear(2208, 1024)),\n",
        "                #('fc3', nn.Linear(2208, 1024)),\n",
        "                #('fc4', nn.Linear(2208, 1024)),\n",
        "                ('relu', nn.ReLU()),\n",
        "                ('dropout',nn.Dropout(p=0.2)),\n",
        "                #('fc5', nn.Linear(512, 400)),\n",
        "                ('fc2', nn.Linear(500, 102)),\n",
        "                ('output', nn.LogSoftmax(dim=1))\n",
        "                ]))\n",
        "\n",
        "# replace the classifer\n",
        "model.classifier = classifier\n",
        "# check the classifier\n",
        "print(model.classifier)"
      ],
      "execution_count": 5,
      "outputs": [
        {
          "output_type": "stream",
          "text": [
            "Sequential(\n",
            "  (fc1): Linear(in_features=2208, out_features=500, bias=True)\n",
            "  (relu): ReLU()\n",
            "  (dropout): Dropout(p=0.2)\n",
            "  (fc2): Linear(in_features=500, out_features=102, bias=True)\n",
            "  (output): LogSoftmax()\n",
            ")\n"
          ],
          "name": "stdout"
        }
      ]
    },
    {
      "metadata": {
        "id": "espl8mY-AJOK",
        "colab_type": "code",
        "colab": {}
      },
      "cell_type": "code",
      "source": [
        "import torch\n",
        "from torch import optim\n",
        "from torch.optim import lr_scheduler\n",
        "# set cretrion and optimizer\n",
        "criterion = nn.CrossEntropyLoss()\n",
        "# Observe that all parameters are being optimized\n",
        "optimizer = optim.SGD(model.parameters(), lr=0.03, momentum=0.9)\n",
        "\n",
        "#optimizer = optim.Adadelta(model.parameters(), lr=0.01)\n",
        "scheduler = lr_scheduler.StepLR(optimizer, step_size=3, gamma=0.01)\n",
        "\n",
        "#move tensor to default device\n",
        "device = torch.device(\"cuda\" if torch.cuda.is_available() else \"cpu\")\n",
        "model.to(device)"
      ],
      "execution_count": 0,
      "outputs": []
    },
    {
      "metadata": {
        "id": "8SSsXJ-9AWXF",
        "colab_type": "code",
        "colab": {}
      },
      "cell_type": "code",
      "source": [
        "# Freeze the parameter\n",
        "model = Train.freeze_parameters(model)\n",
        "#for _, param in model.named_parameters():\n",
        "#  param.requires_grad = False\n",
        "print(\"Parameter Freezed\")"
      ],
      "execution_count": 0,
      "outputs": []
    },
    {
      "metadata": {
        "id": "Av5xnmB4GhI4",
        "colab_type": "code",
        "colab": {
          "base_uri": "https://localhost:8080/",
          "height": 139
        },
        "outputId": "01644539-555e-4d93-b27f-f1daca70c3d4"
      },
      "cell_type": "code",
      "source": [
        "!pip uninstall -y Pillow\n",
        "!pip install Pillow==5.3.0"
      ],
      "execution_count": 13,
      "outputs": [
        {
          "output_type": "stream",
          "text": [
            "Uninstalling Pillow-5.3.0:\n",
            "  Successfully uninstalled Pillow-5.3.0\n",
            "Collecting Pillow==5.3.0\n",
            "  Using cached https://files.pythonhosted.org/packages/62/94/5430ebaa83f91cc7a9f687ff5238e26164a779cca2ef9903232268b0a318/Pillow-5.3.0-cp36-cp36m-manylinux1_x86_64.whl\n",
            "Installing collected packages: Pillow\n",
            "Successfully installed Pillow-5.3.0\n"
          ],
          "name": "stdout"
        }
      ]
    },
    {
      "metadata": {
        "id": "p_mkjeqyPpgq",
        "colab_type": "code",
        "colab": {}
      },
      "cell_type": "code",
      "source": [
        "from google.colab import drive\n",
        "drive.mount('/content/gdrive')"
      ],
      "execution_count": 0,
      "outputs": []
    },
    {
      "metadata": {
        "id": "87XJqcFMPt38",
        "colab_type": "code",
        "colab": {}
      },
      "cell_type": "code",
      "source": [
        "model_save_name = 'classifier.pt'\n",
        "path = F\"/content/gdrive/My Drive/model/{model_save_name}\" \n",
        "model.load_state_dict(torch.load(path))"
      ],
      "execution_count": 0,
      "outputs": []
    },
    {
      "metadata": {
        "id": "zSrhGktuAKuZ",
        "colab_type": "code",
        "colab": {
          "base_uri": "https://localhost:8080/",
          "height": 850
        },
        "outputId": "0964dfb9-fb87-4018-e0fc-aec0dfb7bfc3"
      },
      "cell_type": "code",
      "source": [
        "# Train model\n",
        "epochs = 10\n",
        "model, train_loss,valid_loss = Train.train_model(\n",
        "    model,train_loader,valid_loader, epochs, optimizer,scheduler, criterion)"
      ],
      "execution_count": 8,
      "outputs": [
        {
          "output_type": "stream",
          "text": [
            "Epoch: 1/10\n",
            "\t\tGoing for validation\n",
            "\tTrain loss:2.745039.. \tValid Loss:0.606288.. \tAccuracy: 28.3969\n",
            "\tValidation loss decreased (inf --> 0.606288).  Saving model ...\n",
            "\tEpoch:1 completed in 3m 57s\n",
            "Epoch: 2/10\n",
            "\t\tGoing for validation\n",
            "\tTrain loss:2.496569.. \tValid Loss:0.530681.. \tAccuracy: 36.9466\n",
            "\tValidation loss decreased (0.606288 --> 0.530681).  Saving model ...\n",
            "\tEpoch:2 completed in 7m 58s\n",
            "Epoch: 3/10\n",
            "\t\tGoing for validation\n",
            "\tTrain loss:2.553105.. \tValid Loss:0.504060.. \tAccuracy: 34.4275\n",
            "\tValidation loss decreased (0.530681 --> 0.504060).  Saving model ...\n",
            "\tEpoch:3 completed in 11m 58s\n",
            "Epoch: 4/10\n",
            "\t\tGoing for validation\n",
            "\tTrain loss:2.362152.. \tValid Loss:0.443759.. \tAccuracy: 42.9771\n",
            "\tValidation loss decreased (0.504060 --> 0.443759).  Saving model ...\n",
            "\tEpoch:4 completed in 15m 58s\n",
            "Epoch: 5/10\n",
            "\t\tGoing for validation\n",
            "\tTrain loss:2.177315.. \tValid Loss:0.412235.. \tAccuracy: 46.7939\n",
            "\tValidation loss decreased (0.443759 --> 0.412235).  Saving model ...\n",
            "\tEpoch:5 completed in 19m 58s\n",
            "Epoch: 6/10\n",
            "\t\tGoing for validation\n",
            "\tTrain loss:2.082704.. \tValid Loss:0.387457.. \tAccuracy: 49.6183\n",
            "\tValidation loss decreased (0.412235 --> 0.387457).  Saving model ...\n",
            "\tEpoch:6 completed in 23m 59s\n",
            "Epoch: 7/10\n",
            "\t\tGoing for validation\n",
            "\tTrain loss:2.051669.. \tValid Loss:0.385568.. \tAccuracy: 50.5344\n",
            "\tValidation loss decreased (0.387457 --> 0.385568).  Saving model ...\n",
            "\tEpoch:7 completed in 28m 1s\n",
            "Epoch: 8/10\n",
            "\t\tGoing for validation\n",
            "\tTrain loss:2.034370.. \tValid Loss:0.384106.. \tAccuracy: 49.6947\n",
            "\tValidation loss decreased (0.385568 --> 0.384106).  Saving model ...\n",
            "\tEpoch:8 completed in 32m 2s\n",
            "Epoch: 9/10\n",
            "\t\tGoing for validation\n",
            "\tTrain loss:2.079717.. \tValid Loss:0.386032.. \tAccuracy: 50.4580\n",
            "\tEpoch:9 completed in 36m 2s\n",
            "Epoch: 10/10\n",
            "\t\tGoing for validation\n",
            "\tTrain loss:2.069051.. \tValid Loss:0.389655.. \tAccuracy: 49.9237\n",
            "\tEpoch:10 completed in 40m 3s\n",
            "Training completed in 40m 3s\n"
          ],
          "name": "stdout"
        }
      ]
    },
    {
      "metadata": {
        "id": "VJdyK-qbEzh6",
        "colab_type": "code",
        "outputId": "d8fc19ee-9b9a-4f8d-d754-fcd442e5b3f7",
        "colab": {
          "base_uri": "https://localhost:8080/",
          "height": 282
        }
      },
      "cell_type": "code",
      "source": [
        "#Check for overfitting\n",
        "\n",
        "import matplotlib.pyplot as plt\n",
        "%matplotlib inline\n",
        "%config InlineBackend.figure_format = 'retina'\n",
        "\n",
        "plt.plot(train_loss, label = \"taining loss\")\n",
        "plt.plot(valid_loss, label = \"validation loss\")\n",
        "plt.legend(frameon = False)"
      ],
      "execution_count": 9,
      "outputs": [
        {
          "output_type": "execute_result",
          "data": {
            "text/plain": [
              "<matplotlib.legend.Legend at 0x7f6898b17ef0>"
            ]
          },
          "metadata": {
            "tags": []
          },
          "execution_count": 9
        },
        {
          "output_type": "display_data",
          "data": {
            "image/png": "[encoded data removed]",
            "text/plain": [
              "<matplotlib.figure.Figure at 0x7f68e1644780>"
            ]
          },
          "metadata": {
            "tags": [],
            "image/png": {
              "width": 372,
              "height": 248
            }
          }
        }
      ]
    },
    {
      "metadata": {
        "id": "N6DHxLI7O24c",
        "colab_type": "code",
        "colab": {
          "base_uri": "https://localhost:8080/",
          "height": 51
        },
        "outputId": "004f70fc-57f8-403b-e763-fe6c7bf6a28e"
      },
      "cell_type": "code",
      "source": [
        "!ls /content/gdrive/My Drive/model"
      ],
      "execution_count": 14,
      "outputs": [
        {
          "output_type": "stream",
          "text": [
            "ls: cannot access '/content/gdrive/My': No such file or directory\n",
            "ls: cannot access 'Drive/model': No such file or directory\n"
          ],
          "name": "stdout"
        }
      ]
    },
    {
      "metadata": {
        "id": "yA_Dn2uJO6f3",
        "colab_type": "code",
        "colab": {}
      },
      "cell_type": "code",
      "source": [
        "# type day_time_pm_percentage\n",
        "model_save_name = 'flower4_26_10p_49.pt'\n",
        "path = F\"/content/gdrive/My Drive/model/{model_save_name}\" \n",
        "torch.save(model.state_dict(), path)"
      ],
      "execution_count": 0,
      "outputs": []
    },
    {
      "metadata": {
        "id": "aslpDJO1Ab1P",
        "colab_type": "code",
        "colab": {}
      },
      "cell_type": "code",
      "source": [
        "# Unfreeze the parameter\n",
        "#model = Train.unfreeze(model)\n",
        "for _, param in model.named_parameters():\n",
        "  param.requires_grad = True\n",
        "\n",
        "print(\"Parameter unfreezed\")"
      ],
      "execution_count": 0,
      "outputs": []
    },
    {
      "metadata": {
        "id": "1sNZx6w7Dk7q",
        "colab_type": "code",
        "outputId": "1234f52f-6743-46d9-fca2-54748cf44ec7",
        "colab": {
          "base_uri": "https://localhost:8080/",
          "height": 252
        }
      },
      "cell_type": "code",
      "source": [
        "# Test accuracy top 10 classs\n",
        "Train.calculate_top_accuracy(model, test_loader, criterion)"
      ],
      "execution_count": 0,
      "outputs": [
        {
          "output_type": "stream",
          "text": [
            "Test Loss: 0.196509\n",
            "\n",
            "Test Accuracy of     0:  0% ( 0/ 2)\n",
            "Test Accuracy of     1:  0% ( 0/ 1)\n",
            "Test Accuracy of     2:  0% ( 0/ 3)\n",
            "Test Accuracy of     3:  0% ( 0/ 4)\n",
            "Test Accuracy of     4:  0% ( 0/ 1)\n",
            "Test Accuracy of     5:  0% ( 0/ 6)\n",
            "Test Accuracy of     6:  0% ( 0/ 3)\n",
            "Test Accuracy of     7:  0% ( 0/ 4)\n",
            "Test Accuracy of     8: N/A (no training examples)\n",
            "Test Accuracy of     9:  0% ( 0/ 4)\n",
            "\n",
            "Test Accuracy (Overall):  7% (30/410)\n"
          ],
          "name": "stdout"
        }
      ]
    },
    {
      "metadata": {
        "id": "yhuDsB71D01s",
        "colab_type": "code",
        "colab": {}
      },
      "cell_type": "code",
      "source": [
        "# Test total accuracy\n",
        "Train.calc_accuracy(model,testset_path=\"flower_data/valid\")"
      ],
      "execution_count": 0,
      "outputs": []
    },
    {
      "metadata": {
        "id": "SE55dc8iEM80",
        "colab_type": "code",
        "colab": {}
      },
      "cell_type": "code",
      "source": [
        "# Test with google data set\n",
        "Train.calc_accuracy(model,use_google_testset=True)"
      ],
      "execution_count": 0,
      "outputs": []
    },
    {
      "metadata": {
        "id": "BoYFSexOEZKw",
        "colab_type": "code",
        "colab": {}
      },
      "cell_type": "code",
      "source": [
        "cat_to_name = Train.get_cat_name()"
      ],
      "execution_count": 0,
      "outputs": []
    },
    {
      "metadata": {
        "id": "9uvlPYG3P1ux",
        "colab_type": "code",
        "colab": {}
      },
      "cell_type": "code",
      "source": [
        "# visualize data"
      ],
      "execution_count": 0,
      "outputs": []
    }
  ]
}