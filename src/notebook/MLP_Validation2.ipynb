{
  "nbformat": 4,
  "nbformat_minor": 0,
  "metadata": {
    "colab": {
      "name": "MLP_Validation2.ipynb",
      "version": "0.3.2",
      "provenance": [],
      "include_colab_link": true
    },
    "kernelspec": {
      "name": "python3",
      "display_name": "Python 3"
    },
    "accelerator": "GPU"
  },
  "cells": [
    {
      "cell_type": "markdown",
      "metadata": {
        "id": "view-in-github",
        "colab_type": "text"
      },
      "source": [
        "<a href=\"https://colab.research.google.com/github/Iamsdt/UdacityPyTorch/blob/master/src/notebook/MLP_Validation2.ipynb\" target=\"_parent\"><img src=\"https://colab.research.google.com/assets/colab-badge.svg\" alt=\"Open In Colab\"/></a>"
      ]
    },
    {
      "metadata": {
        "id": "7WWsEj7AZgZd",
        "colab_type": "code",
        "colab": {
          "base_uri": "https://localhost:8080/",
          "height": 54
        },
        "outputId": "ae71cac5-3e2d-4c8b-d0e4-cf2b97434e03"
      },
      "cell_type": "code",
      "source": [
        "# http://pytorch.org/\n",
        "from os.path import exists\n",
        "from wheel.pep425tags import get_abbr_impl, get_impl_ver, get_abi_tag\n",
        "platform = '{}{}-{}'.format(get_abbr_impl(), get_impl_ver(), get_abi_tag())\n",
        "cuda_output = !ldconfig -p|grep cudart.so|sed -e 's/.*\\.\\([0-9]*\\)\\.\\([0-9]*\\)$/cu\\1\\2/'\n",
        "accelerator = cuda_output[0] if exists('/dev/nvidia0') else 'cpu'\n",
        "\n",
        "!pip install -q http://download.pytorch.org/whl/{accelerator}/torch-0.4.1-{platform}-linux_x86_64.whl torchvision\n",
        "import torch"
      ],
      "execution_count": 2,
      "outputs": [
        {
          "output_type": "stream",
          "text": [
            "tcmalloc: large alloc 1073750016 bytes == 0x57c56000 @  0x7f6f759f62a4 0x591a07 0x5b5d56 0x502e9a 0x506859 0x502209 0x502f3d 0x506859 0x504c28 0x502540 0x502f3d 0x506859 0x504c28 0x502540 0x502f3d 0x506859 0x504c28 0x502540 0x502f3d 0x507641 0x502209 0x502f3d 0x506859 0x504c28 0x502540 0x502f3d 0x507641 0x504c28 0x502540 0x502f3d 0x507641\n"
          ],
          "name": "stdout"
        }
      ]
    },
    {
      "metadata": {
        "id": "u_euf55Ob0Dx",
        "colab_type": "code",
        "colab": {}
      },
      "cell_type": "code",
      "source": [
        "import torch\n",
        "from torch import nn, optim\n",
        "import torch.nn.functional as F\n",
        "\n",
        "%matplotlib inline\n",
        "%config InlineBackend.figure_format = 'retina'\n",
        "import matplotlib.pyplot as plt\n",
        "\n",
        "from torchvision import datasets, transforms\n",
        "\n",
        "import helper"
      ],
      "execution_count": 0,
      "outputs": []
    },
    {
      "metadata": {
        "id": "lylFiAQ9cGTx",
        "colab_type": "code",
        "colab": {}
      },
      "cell_type": "code",
      "source": [
        "class Network(nn.Module):\n",
        "    def __init__(self):\n",
        "        super().__init__()\n",
        "        self.layer1 = nn.Linear(784, 512)\n",
        "        #self.layer2 = nn.Linear(512, 256)\n",
        "        #self.layer3 = nn.Linear(256, 128)\n",
        "        self.layer4 = nn.Linear(512, 128)\n",
        "        self.layer5 = nn.Linear(128, 10)\n",
        "        # Dropout module with 0.2 drop probability\n",
        "        self.dropout = nn.Dropout(p=0.2)\n",
        "\n",
        "    def forward(self, x):\n",
        "        # make tensor is flattened\n",
        "        x = x.view(x.shape[0], -1)\n",
        "\n",
        "        # Now with dropout\n",
        "        x = self.dropout(F.relu(self.layer1(x)))\n",
        "        #x = self.dropout(F.relu(self.layer2(x)))\n",
        "        #x = self.dropout(F.relu(self.layer3(x)))\n",
        "        x = self.dropout(F.relu(self.layer4(x)))\n",
        "\n",
        "        # output so no dropout here\n",
        "        x = F.log_softmax(self.layer5(x), dim=1)\n",
        "\n",
        "        return x"
      ],
      "execution_count": 0,
      "outputs": []
    },
    {
      "metadata": {
        "id": "FP8np19ZcNNf",
        "colab_type": "code",
        "outputId": "2210673d-f5d3-4484-e163-87443589b666",
        "colab": {
          "base_uri": "https://localhost:8080/",
          "height": 136
        }
      },
      "cell_type": "code",
      "source": [
        "# number of subprocesses to use for data loading\n",
        "num_workers = 0\n",
        "# how many samples per batch to load\n",
        "batch_size = 20\n",
        "# percentage of training set to use as validation\n",
        "valid_size = 0.2\n",
        "\n",
        "# convert data to torch.FloatTensor\n",
        "transform = transforms.ToTensor()\n",
        "\n",
        "#data set\n",
        "train_data = datasets.mnist.FashionMNIST(root=\"data/Fashion\",train=True,download=True,transform=transform)\n",
        "test_data = datasets.mnist.FashionMNIST(root=\"data/Fashion\",train=False,download=True,transform=transform)\n",
        "\n",
        "# obtain training indices that will be used for validation\n",
        "num_train = len(train_data)\n",
        "print(num_train)"
      ],
      "execution_count": 5,
      "outputs": [
        {
          "output_type": "stream",
          "text": [
            "Downloading http://fashion-mnist.s3-website.eu-central-1.amazonaws.com/train-images-idx3-ubyte.gz\n",
            "Downloading http://fashion-mnist.s3-website.eu-central-1.amazonaws.com/train-labels-idx1-ubyte.gz\n",
            "Downloading http://fashion-mnist.s3-website.eu-central-1.amazonaws.com/t10k-images-idx3-ubyte.gz\n",
            "Downloading http://fashion-mnist.s3-website.eu-central-1.amazonaws.com/t10k-labels-idx1-ubyte.gz\n",
            "Processing...\n",
            "Done!\n",
            "60000\n"
          ],
          "name": "stdout"
        }
      ]
    },
    {
      "metadata": {
        "id": "NrmhnlfvckzH",
        "colab_type": "code",
        "colab": {}
      },
      "cell_type": "code",
      "source": [
        "import numpy as np\n",
        "from torch.utils.data.sampler import SubsetRandomSampler\n",
        "\n",
        "# Index of num train\n",
        "indices = list(range(num_train))\n",
        "np.random.shuffle(indices)\n",
        "split = int(np.floor(valid_size * num_train))\n",
        "train_idx, valid_idx = indices[split:], indices[:split]\n",
        "\n",
        "# define samplers for obtaining training and validation batches\n",
        "train_sampler = SubsetRandomSampler(train_idx)\n",
        "valid_sampler = SubsetRandomSampler(valid_idx)"
      ],
      "execution_count": 0,
      "outputs": []
    },
    {
      "metadata": {
        "id": "MJDeI3pRc4zC",
        "colab_type": "code",
        "colab": {}
      },
      "cell_type": "code",
      "source": [
        "# Data loader\n",
        "train_loader = torch.utils.data.DataLoader(train_data, batch_size=batch_size,\n",
        "    sampler=train_sampler, num_workers=num_workers)\n",
        "valid_loader = torch.utils.data.DataLoader(train_data, batch_size=batch_size,\n",
        "    sampler=valid_sampler, num_workers=num_workers)\n",
        "test_loader = torch.utils.data.DataLoader(test_data, batch_size=batch_size,\n",
        "    num_workers=num_workers)"
      ],
      "execution_count": 0,
      "outputs": []
    },
    {
      "metadata": {
        "id": "r0zyHT_udJi-",
        "colab_type": "code",
        "outputId": "3f52538a-6272-4db7-d0fb-1d60c06f1080",
        "colab": {
          "base_uri": "https://localhost:8080/",
          "height": 130
        }
      },
      "cell_type": "code",
      "source": [
        "# Visualize data\n",
        "\n",
        "import matplotlib.pyplot as plt\n",
        "%matplotlib inline\n",
        "    \n",
        "# obtain one batch of training images\n",
        "dataiter = iter(train_loader)\n",
        "images, labels = dataiter.next()\n",
        "images = images.numpy()\n",
        "\n",
        "# plot the images in the batch, along with the corresponding labels\n",
        "fig = plt.figure(figsize=(25, 4))\n",
        "for idx in np.arange(8):\n",
        "    ax = fig.add_subplot(2, 20/2, idx+1, xticks=[], yticks=[])\n",
        "    ax.imshow(np.squeeze(images[idx]), cmap='gray')\n",
        "    # print out the correct label for each image\n",
        "    # .item() gets the value contained in a Tensor\n",
        "    # ax.set_title(str(labels[idx].item()))\n"
      ],
      "execution_count": 9,
      "outputs": [
        {
          "output_type": "display_data",
          "data": {
            "image/png": "[encoded data removed]",
            "text/plain": [
              "<matplotlib.figure.Figure at 0x7f6a6754b9b0>"
            ]
          },
          "metadata": {
            "tags": [],
            "image/png": {
              "width": 1106,
              "height": 113
            }
          }
        }
      ]
    },
    {
      "metadata": {
        "id": "EGbYLtE2d2Nw",
        "colab_type": "code",
        "outputId": "5c255890-c901-46e7-9d4b-954dfd548ab2",
        "colab": {
          "base_uri": "https://localhost:8080/",
          "height": 119
        }
      },
      "cell_type": "code",
      "source": [
        "model = Network()\n",
        "criterion = nn.CrossEntropyLoss()\n",
        "optimizer = optim.Adam(model.parameters(),lr = 0.001)\n",
        "\n",
        "# Gpu\n",
        "device = torch.device(\"cuda\" if torch.cuda.is_available() else \"cpu\")\n",
        "#move tensor to default device\n",
        "model.to(device)"
      ],
      "execution_count": 13,
      "outputs": [
        {
          "output_type": "execute_result",
          "data": {
            "text/plain": [
              "Network(\n",
              "  (layer1): Linear(in_features=784, out_features=512, bias=True)\n",
              "  (layer4): Linear(in_features=512, out_features=512, bias=True)\n",
              "  (layer5): Linear(in_features=512, out_features=10, bias=True)\n",
              "  (dropout): Dropout(p=0.2)\n",
              ")"
            ]
          },
          "metadata": {
            "tags": []
          },
          "execution_count": 13
        }
      ]
    },
    {
      "metadata": {
        "id": "0NvShsEm9STe",
        "colab_type": "code",
        "colab": {}
      },
      "cell_type": "code",
      "source": [
        "model.load_state_dict(torch.load('model45.pth'))"
      ],
      "execution_count": 0,
      "outputs": []
    },
    {
      "metadata": {
        "id": "Cjn0eyrDeL0m",
        "colab_type": "code",
        "colab": {
          "base_uri": "https://localhost:8080/",
          "height": 1054
        },
        "outputId": "249799e6-2e9b-45da-fd49-fd39585e6b15"
      },
      "cell_type": "code",
      "source": [
        "# Train model\n",
        "epoch = 50\n",
        "\n",
        "# compare overfited\n",
        "train_loss_data,valid_loss_data = [],[]\n",
        "\n",
        "# initialize tracker for minimum validation loss\n",
        "valid_loss_min = np.Inf # set initial \"min\" to infinity\n",
        "\n",
        "for e in range(epoch):\n",
        "  # monitor training loss\n",
        "  train_loss = 0.0\n",
        "  valid_loss = 0.0\n",
        "  \n",
        "  # train model\n",
        "  model.train()\n",
        "  \n",
        "  for images,labels in train_loader:\n",
        "    # Move input and label tensors to the default device\n",
        "    images, labels = images.to(device), labels.to(device)\n",
        "    # clear the gradients\n",
        "    optimizer.zero_grad()\n",
        "    # forward pass: compute predicted outputs by passing inputs to the model\n",
        "    log_ps = model(images)\n",
        "    # calculate the loss\n",
        "    loss = criterion(log_ps,labels)\n",
        "    # backward pass: compute gradient of the loss with respect to model parameters\n",
        "    loss.backward()\n",
        "    # perform a single optimization step (parameter update)\n",
        "    optimizer.step()\n",
        "    # update the running loss\n",
        "    train_loss += loss.item() * images.size(0)\n",
        "    \n",
        "    \n",
        "  ####################\n",
        "  # validate the model\n",
        "  ####################\n",
        "  \n",
        "  with torch.no_grad():\n",
        "    # set the model in evaluation mode\n",
        "    model.eval()\n",
        "    for images,labels in train_loader:\n",
        "      # Move input and label tensors to the default device\n",
        "      images, labels = images.to(device), labels.to(device)\n",
        "      # forward pass: compute predicted outputs by passing inputs to the model\n",
        "      log_ps = model(images)\n",
        "      # calculate the loss\n",
        "      loss = criterion(log_ps,labels)\n",
        "      # update the running loss\n",
        "      valid_loss += loss.item()*images.size(0)\n",
        "    \n",
        "    \n",
        "  # print training/validation statistics \n",
        "  # calculate average loss over an epoch\n",
        "  train_loss = train_loss/len(train_loader.dataset)\n",
        "  valid_loss = valid_loss/len(valid_loader.dataset)\n",
        "  #clculate train loss and running loss\n",
        "  train_loss_data.append(train_loss)\n",
        "  valid_loss_data.append(valid_loss)\n",
        "  \n",
        "  print('Epoch: {} \\tTraining Loss: {:.6f} \\tValidation Loss: {:.6f}'.format(\n",
        "        e+1, \n",
        "        train_loss,\n",
        "        valid_loss))\n",
        "  \n",
        "  if valid_loss <= valid_loss_min:\n",
        "    print('Validation loss decreased ({:.6f} --> {:.6f}).  Saving model ...'.format(\n",
        "        valid_loss_min, valid_loss))\n",
        "    name = \"model{}.pth\".format(e+1)\n",
        "    torch.save(model.state_dict(), name)\n",
        "    valid_loss_min = valid_loss"
      ],
      "execution_count": 27,
      "outputs": [
        {
          "output_type": "stream",
          "text": [
            "Epoch: 1 \tTraining Loss: 0.168665 \tValidation Loss: 0.120673\n",
            "Validation loss decreased (inf --> 0.120673).  Saving model ...\n",
            "Epoch: 2 \tTraining Loss: 0.164853 \tValidation Loss: 0.119652\n",
            "Validation loss decreased (0.120673 --> 0.119652).  Saving model ...\n",
            "Epoch: 3 \tTraining Loss: 0.165013 \tValidation Loss: 0.126089\n",
            "Epoch: 4 \tTraining Loss: 0.169385 \tValidation Loss: 0.116829\n",
            "Validation loss decreased (0.119652 --> 0.116829).  Saving model ...\n",
            "Epoch: 5 \tTraining Loss: 0.167432 \tValidation Loss: 0.123493\n",
            "Epoch: 6 \tTraining Loss: 0.166358 \tValidation Loss: 0.124483\n",
            "Epoch: 7 \tTraining Loss: 0.164780 \tValidation Loss: 0.112112\n",
            "Validation loss decreased (0.116829 --> 0.112112).  Saving model ...\n",
            "Epoch: 8 \tTraining Loss: 0.161678 \tValidation Loss: 0.121130\n",
            "Epoch: 9 \tTraining Loss: 0.163060 \tValidation Loss: 0.110312\n",
            "Validation loss decreased (0.112112 --> 0.110312).  Saving model ...\n",
            "Epoch: 10 \tTraining Loss: 0.161035 \tValidation Loss: 0.118919\n",
            "Epoch: 11 \tTraining Loss: 0.160920 \tValidation Loss: 0.114070\n",
            "Epoch: 12 \tTraining Loss: 0.162308 \tValidation Loss: 0.107371\n",
            "Validation loss decreased (0.110312 --> 0.107371).  Saving model ...\n",
            "Epoch: 13 \tTraining Loss: 0.160048 \tValidation Loss: 0.111943\n",
            "Epoch: 14 \tTraining Loss: 0.157425 \tValidation Loss: 0.109319\n",
            "Epoch: 15 \tTraining Loss: 0.158468 \tValidation Loss: 0.119702\n",
            "Epoch: 16 \tTraining Loss: 0.158758 \tValidation Loss: 0.108248\n",
            "Epoch: 17 \tTraining Loss: 0.155705 \tValidation Loss: 0.112885\n",
            "Epoch: 18 \tTraining Loss: 0.156352 \tValidation Loss: 0.120354\n",
            "Epoch: 19 \tTraining Loss: 0.158663 \tValidation Loss: 0.102105\n",
            "Validation loss decreased (0.107371 --> 0.102105).  Saving model ...\n",
            "Epoch: 20 \tTraining Loss: 0.154873 \tValidation Loss: 0.107334\n",
            "Epoch: 21 \tTraining Loss: 0.155561 \tValidation Loss: 0.108099\n",
            "Epoch: 22 \tTraining Loss: 0.157515 \tValidation Loss: 0.112570\n",
            "Epoch: 23 \tTraining Loss: 0.155548 \tValidation Loss: 0.106994\n",
            "Epoch: 24 \tTraining Loss: 0.157291 \tValidation Loss: 0.096984\n",
            "Validation loss decreased (0.102105 --> 0.096984).  Saving model ...\n",
            "Epoch: 25 \tTraining Loss: 0.152147 \tValidation Loss: 0.109257\n",
            "Epoch: 26 \tTraining Loss: 0.155766 \tValidation Loss: 0.110606\n",
            "Epoch: 27 \tTraining Loss: 0.151757 \tValidation Loss: 0.112012\n",
            "Epoch: 28 \tTraining Loss: 0.157911 \tValidation Loss: 0.105644\n",
            "Epoch: 29 \tTraining Loss: 0.147830 \tValidation Loss: 0.104427\n",
            "Epoch: 30 \tTraining Loss: 0.148175 \tValidation Loss: 0.104106\n",
            "Epoch: 31 \tTraining Loss: 0.152099 \tValidation Loss: 0.095858\n",
            "Validation loss decreased (0.096984 --> 0.095858).  Saving model ...\n",
            "Epoch: 32 \tTraining Loss: 0.152151 \tValidation Loss: 0.106338\n",
            "Epoch: 33 \tTraining Loss: 0.149738 \tValidation Loss: 0.102896\n",
            "Epoch: 34 \tTraining Loss: 0.144954 \tValidation Loss: 0.105027\n",
            "Epoch: 35 \tTraining Loss: 0.150696 \tValidation Loss: 0.115294\n",
            "Epoch: 36 \tTraining Loss: 0.148304 \tValidation Loss: 0.097947\n",
            "Epoch: 37 \tTraining Loss: 0.149044 \tValidation Loss: 0.113106\n",
            "Epoch: 38 \tTraining Loss: 0.145748 \tValidation Loss: 0.097476\n",
            "Epoch: 39 \tTraining Loss: 0.145946 \tValidation Loss: 0.092029\n",
            "Validation loss decreased (0.095858 --> 0.092029).  Saving model ...\n",
            "Epoch: 40 \tTraining Loss: 0.148855 \tValidation Loss: 0.099168\n",
            "Epoch: 41 \tTraining Loss: 0.147271 \tValidation Loss: 0.098064\n",
            "Epoch: 42 \tTraining Loss: 0.150541 \tValidation Loss: 0.101376\n",
            "Epoch: 43 \tTraining Loss: 0.144068 \tValidation Loss: 0.092147\n",
            "Epoch: 44 \tTraining Loss: 0.144141 \tValidation Loss: 0.109554\n",
            "Epoch: 45 \tTraining Loss: 0.139549 \tValidation Loss: 0.094781\n",
            "Epoch: 46 \tTraining Loss: 0.154254 \tValidation Loss: 0.093997\n",
            "Epoch: 47 \tTraining Loss: 0.143988 \tValidation Loss: 0.096844\n",
            "Epoch: 48 \tTraining Loss: 0.142081 \tValidation Loss: 0.107219\n",
            "Epoch: 49 \tTraining Loss: 0.143709 \tValidation Loss: 0.116045\n",
            "Epoch: 50 \tTraining Loss: 0.146028 \tValidation Loss: 0.090337\n",
            "Validation loss decreased (0.092029 --> 0.090337).  Saving model ...\n"
          ],
          "name": "stdout"
        }
      ]
    },
    {
      "metadata": {
        "id": "29ffKyKwiRTy",
        "colab_type": "code",
        "colab": {}
      },
      "cell_type": "code",
      "source": [
        "# load the saved model\n",
        "model.load_state_dict(torch.load('model45.pth'))\n",
        "\n",
        "# 45 89%"
      ],
      "execution_count": 0,
      "outputs": []
    },
    {
      "metadata": {
        "id": "rECzbYIwiBpk",
        "colab_type": "code",
        "colab": {
          "base_uri": "https://localhost:8080/",
          "height": 282
        },
        "outputId": "bd8217f8-177f-4804-d9b5-4bf32ac6008b"
      },
      "cell_type": "code",
      "source": [
        "# check for overfitting\n",
        "plt.plot(train_loss_data, label = \"taining loss\")\n",
        "plt.plot(valid_loss_data, label = \"validation loss\")\n",
        "plt.legend(frameon = False)"
      ],
      "execution_count": 28,
      "outputs": [
        {
          "output_type": "execute_result",
          "data": {
            "text/plain": [
              "<matplotlib.legend.Legend at 0x7f6a0b465e48>"
            ]
          },
          "metadata": {
            "tags": []
          },
          "execution_count": 28
        },
        {
          "output_type": "display_data",
          "data": {
            "image/png": "[encoded data removed]",
            "text/plain": [
              "<matplotlib.figure.Figure at 0x7f6a10a3efd0>"
            ]
          },
          "metadata": {
            "tags": [],
            "image/png": {
              "width": 375,
              "height": 248
            }
          }
        }
      ]
    },
    {
      "metadata": {
        "id": "EZbkSiq7iPgb",
        "colab_type": "code",
        "colab": {
          "base_uri": "https://localhost:8080/",
          "height": 255
        },
        "outputId": "f14dd332-065a-441e-c680-52eb403a89da"
      },
      "cell_type": "code",
      "source": [
        "# initialize lists to monitor test loss and accuracy\n",
        "test_loss = 0\n",
        "class_correct = list(0. for i in range(10))\n",
        "class_total = list(0. for i in range(10))\n",
        "\n",
        "with torch.no_grad():\n",
        "  model.eval() # prep model for evaluation\n",
        "  for data, target in test_loader:\n",
        "      # Move input and label tensors to the default device\n",
        "      data, target = data.to(device), target.to(device)\n",
        "      # forward pass: compute predicted outputs by passing inputs to the model\n",
        "      output = model(data)\n",
        "      # calculate the loss\n",
        "      loss = criterion(output, target)\n",
        "      # update test loss \n",
        "      test_loss += loss.item() #*data.size(0)\n",
        "      # convert output probabilities to predicted class\n",
        "      _, pred = torch.max(output, 1)\n",
        "      # compare predictions to true label\n",
        "      correct = np.squeeze(pred.eq(target.data.view_as(pred)))\n",
        "      # calculate test accuracy for each object class\n",
        "      for i in range(16):\n",
        "          label = target.data[i]\n",
        "          class_correct[label] += correct[i].item()\n",
        "          class_total[label] += 1\n",
        "  \n",
        "  # calculate and print avg test loss\n",
        "  test_loss = test_loss/len(test_loader.dataset)\n",
        "  print('Test Loss: {:.6f}\\n'.format(test_loss))\n",
        "  \n",
        "  for i in range(10):\n",
        "    if class_total[i] > 0:\n",
        "        print('Test Accuracy of %5s: %2d%% (%2d/%2d)' % (\n",
        "            str(i), 100 * class_correct[i] / class_total[i],\n",
        "            np.sum(class_correct[i]), np.sum(class_total[i])))\n",
        "    else:\n",
        "        print('Test Accuracy of %5s: N/A (no training examples)' % (classes[i]))\n",
        "\n",
        "  print('\\nTest Accuracy (Overall): %2d%% (%2d/%2d)' % (\n",
        "      100. * np.sum(class_correct) / np.sum(class_total),\n",
        "      np.sum(class_correct), np.sum(class_total)))"
      ],
      "execution_count": 29,
      "outputs": [
        {
          "output_type": "stream",
          "text": [
            "Test Loss: 0.032226\n",
            "\n",
            "Test Accuracy of     0: 84% (670/795)\n",
            "Test Accuracy of     1: 97% (770/791)\n",
            "Test Accuracy of     2: 79% (634/800)\n",
            "Test Accuracy of     3: 88% (717/806)\n",
            "Test Accuracy of     4: 85% (679/797)\n",
            "Test Accuracy of     5: 96% (766/794)\n",
            "Test Accuracy of     6: 69% (560/808)\n",
            "Test Accuracy of     7: 97% (799/816)\n",
            "Test Accuracy of     8: 96% (781/807)\n",
            "Test Accuracy of     9: 95% (749/786)\n",
            "\n",
            "Test Accuracy (Overall): 89% (7125/8000)\n"
          ],
          "name": "stdout"
        }
      ]
    },
    {
      "metadata": {
        "id": "wSI_t8u2jaJS",
        "colab_type": "code",
        "colab": {}
      },
      "cell_type": "code",
      "source": [
        "import helper\n",
        "\n",
        "# send pic to model\n",
        "model.eval()\n",
        "model.to(device)\n",
        "\n",
        "data,target = next(iter(train_loader))\n",
        "data, target = data.to(device), target.to(device)\n",
        "\n",
        "# take single img\n",
        "img = data[0]\n",
        "# conver to 1D\n",
        "img = img.view(1,784)\n",
        "\n",
        "with torch.no_grad():\n",
        "    output = model.forward(img)\n",
        "\n",
        "ps = torch.exp(output)\n",
        "helper.view_classify(img.view(1,28,28),ps,version='Fashion')"
      ],
      "execution_count": 0,
      "outputs": []
    }
  ]
}