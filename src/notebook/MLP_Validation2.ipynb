{
  "nbformat": 4,
  "nbformat_minor": 0,
  "metadata": {
    "colab": {
      "name": "MLP_Validation2.ipynb",
      "version": "0.3.2",
      "provenance": [],
      "include_colab_link": true
    },
    "kernelspec": {
      "name": "python3",
      "display_name": "Python 3"
    },
    "accelerator": "GPU"
  },
  "cells": [
    {
      "cell_type": "markdown",
      "metadata": {
        "id": "view-in-github",
        "colab_type": "text"
      },
      "source": [
        "<a href=\"https://colab.research.google.com/github/Iamsdt/UdacityPyTorch/blob/master/src/notebook/MLP_Validation2.ipynb\" target=\"_parent\"><img src=\"https://colab.research.google.com/assets/colab-badge.svg\" alt=\"Open In Colab\"/></a>"
      ]
    },
    {
      "metadata": {
        "id": "u_euf55Ob0Dx",
        "colab_type": "code",
        "colab": {}
      },
      "cell_type": "code",
      "source": [
        "import torch\n",
        "from torch import nn, optim\n",
        "import torch.nn.functional as F\n",
        "\n",
        "%matplotlib inline\n",
        "%config InlineBackend.figure_format = 'retina'\n",
        "import matplotlib.pyplot as plt\n",
        "\n",
        "from torchvision import datasets, transforms\n",
        "\n",
        "import helper"
      ],
      "execution_count": 0,
      "outputs": []
    },
    {
      "metadata": {
        "id": "lylFiAQ9cGTx",
        "colab_type": "code",
        "colab": {}
      },
      "cell_type": "code",
      "source": [
        "class Network(nn.Module):\n",
        "    def __init__(self):\n",
        "        super().__init__()\n",
        "        self.layer1 = nn.Linear(784, 512)\n",
        "        self.layer2 = nn.Linear(512, 256)\n",
        "        self.layer3 = nn.Linear(256, 128)\n",
        "        self.layer4 = nn.Linear(128, 64)\n",
        "        self.layer5 = nn.Linear(64, 10)\n",
        "        # Dropout module with 0.2 drop probability\n",
        "        self.dropout = nn.Dropout(p=0.2)\n",
        "\n",
        "    def forward(self, x):\n",
        "        # make tensor is flattened\n",
        "        x = x.view(x.shape[0], -1)\n",
        "\n",
        "        # Now with dropout\n",
        "        x = self.dropout(F.relu(self.layer1(x)))\n",
        "        x = self.dropout(F.relu(self.layer2(x)))\n",
        "        x = self.dropout(F.relu(self.layer3(x)))\n",
        "        x = self.dropout(F.relu(self.layer4(x)))\n",
        "\n",
        "        # output so no dropout here\n",
        "        x = F.log_softmax(self.layer5(x), dim=1)\n",
        "\n",
        "        return x"
      ],
      "execution_count": 0,
      "outputs": []
    },
    {
      "metadata": {
        "id": "FP8np19ZcNNf",
        "colab_type": "code",
        "colab": {
          "base_uri": "https://localhost:8080/",
          "height": 136
        },
        "outputId": "e3442910-b8b2-4b8d-82c8-74873891c6cb"
      },
      "cell_type": "code",
      "source": [
        "# number of subprocesses to use for data loading\n",
        "num_workers = 0\n",
        "# how many samples per batch to load\n",
        "batch_size = 64\n",
        "# percentage of training set to use as validation\n",
        "valid_size = 0.2\n",
        "\n",
        "# convert data to torch.FloatTensor\n",
        "transform = transforms.ToTensor()\n",
        "\n",
        "#data set\n",
        "train_data = datasets.mnist.FashionMNIST(root=\"data/Fashion\",train=True,download=True,transform=transform)\n",
        "test_data = datasets.mnist.FashionMNIST(root=\"data/Fashion\",train=False,download=True,transform=transform)\n",
        "\n",
        "# obtain training indices that will be used for validation\n",
        "num_train = len(train_data)\n",
        "print(num_train)"
      ],
      "execution_count": 5,
      "outputs": [
        {
          "output_type": "stream",
          "text": [
            "Downloading http://fashion-mnist.s3-website.eu-central-1.amazonaws.com/train-images-idx3-ubyte.gz\n",
            "Downloading http://fashion-mnist.s3-website.eu-central-1.amazonaws.com/train-labels-idx1-ubyte.gz\n",
            "Downloading http://fashion-mnist.s3-website.eu-central-1.amazonaws.com/t10k-images-idx3-ubyte.gz\n",
            "Downloading http://fashion-mnist.s3-website.eu-central-1.amazonaws.com/t10k-labels-idx1-ubyte.gz\n",
            "Processing...\n",
            "Done!\n",
            "60000\n"
          ],
          "name": "stdout"
        }
      ]
    },
    {
      "metadata": {
        "id": "NrmhnlfvckzH",
        "colab_type": "code",
        "colab": {}
      },
      "cell_type": "code",
      "source": [
        "import numpy as np\n",
        "from torch.utils.data.sampler import SubsetRandomSampler\n",
        "\n",
        "# Index of num train\n",
        "indices = list(range(num_train))\n",
        "np.random.shuffle(indices)\n",
        "split = int(np.floor(valid_size * num_train))\n",
        "train_idx, valid_idx = indices[split:], indices[:split]\n",
        "\n",
        "# define samplers for obtaining training and validation batches\n",
        "train_sampler = SubsetRandomSampler(train_idx)\n",
        "valid_sampler = SubsetRandomSampler(valid_idx)"
      ],
      "execution_count": 0,
      "outputs": []
    },
    {
      "metadata": {
        "id": "MJDeI3pRc4zC",
        "colab_type": "code",
        "colab": {}
      },
      "cell_type": "code",
      "source": [
        "# Data loader\n",
        "train_loader = torch.utils.data.DataLoader(train_data, batch_size=batch_size,\n",
        "    sampler=train_sampler, num_workers=num_workers)\n",
        "valid_loader = torch.utils.data.DataLoader(train_data, batch_size=batch_size,\n",
        "    sampler=valid_sampler, num_workers=num_workers)\n",
        "test_loader = torch.utils.data.DataLoader(test_data, batch_size=batch_size,\n",
        "    num_workers=num_workers)"
      ],
      "execution_count": 0,
      "outputs": []
    },
    {
      "metadata": {
        "id": "r0zyHT_udJi-",
        "colab_type": "code",
        "colab": {
          "base_uri": "https://localhost:8080/",
          "height": 130
        },
        "outputId": "f601ec33-f0e6-4e72-caa3-0d44d5ac3fc4"
      },
      "cell_type": "code",
      "source": [
        "# Visualize data\n",
        "\n",
        "import matplotlib.pyplot as plt\n",
        "%matplotlib inline\n",
        "    \n",
        "# obtain one batch of training images\n",
        "dataiter = iter(train_loader)\n",
        "images, labels = dataiter.next()\n",
        "images = images.numpy()\n",
        "\n",
        "# plot the images in the batch, along with the corresponding labels\n",
        "fig = plt.figure(figsize=(25, 4))\n",
        "for idx in np.arange(8):\n",
        "    ax = fig.add_subplot(2, 20/2, idx+1, xticks=[], yticks=[])\n",
        "    ax.imshow(np.squeeze(images[idx]), cmap='gray')\n",
        "    # print out the correct label for each image\n",
        "    # .item() gets the value contained in a Tensor\n",
        "    # ax.set_title(str(labels[idx].item()))\n"
      ],
      "execution_count": 17,
      "outputs": [
        {
          "output_type": "display_data",
          "data": {
            "image/png": "[encoded data removed]",
            "text/plain": [
              "<matplotlib.figure.Figure at 0x7f1e5c55f4e0>"
            ]
          },
          "metadata": {
            "tags": [],
            "image/png": {
              "width": 1106,
              "height": 113
            }
          }
        }
      ]
    },
    {
      "metadata": {
        "id": "EGbYLtE2d2Nw",
        "colab_type": "code",
        "colab": {
          "base_uri": "https://localhost:8080/",
          "height": 153
        },
        "outputId": "2b2cf6e4-bb81-43d8-e1c7-2d5d2c1c30c9"
      },
      "cell_type": "code",
      "source": [
        "model = Network()\n",
        "criterion = nn.CrossEntropyLoss()\n",
        "optimizer = optim.Adam(model.parameters(),lr = 0.003)\n",
        "\n",
        "# Gpu\n",
        "device = torch.device(\"cuda\" if torch.cuda.is_available() else \"cpu\")\n",
        "#move tensor to default device\n",
        "model.to(device)"
      ],
      "execution_count": 19,
      "outputs": [
        {
          "output_type": "execute_result",
          "data": {
            "text/plain": [
              "Network(\n",
              "  (layer1): Linear(in_features=784, out_features=512, bias=True)\n",
              "  (layer2): Linear(in_features=512, out_features=256, bias=True)\n",
              "  (layer3): Linear(in_features=256, out_features=128, bias=True)\n",
              "  (layer4): Linear(in_features=128, out_features=64, bias=True)\n",
              "  (layer5): Linear(in_features=64, out_features=10, bias=True)\n",
              "  (dropout): Dropout(p=0.2)\n",
              ")"
            ]
          },
          "metadata": {
            "tags": []
          },
          "execution_count": 19
        }
      ]
    },
    {
      "metadata": {
        "id": "Cjn0eyrDeL0m",
        "colab_type": "code",
        "colab": {}
      },
      "cell_type": "code",
      "source": [
        "# Train model\n",
        "epoch = 5\n",
        "\n",
        "\n",
        "# compare overfited\n",
        "train_loss_data,valid_loss_data = [],[]\n",
        "\n",
        "# initialize tracker for minimum validation loss\n",
        "valid_loss_min = np.Inf # set initial \"min\" to infinity\n",
        "\n",
        "for e in range(epoch):\n",
        "  # monitor training loss\n",
        "  train_loss = 0.0\n",
        "  valid_loss = 0.0\n",
        "  \n",
        "  # train model\n",
        "  model.train()\n",
        "  \n",
        "  for images,labels in train_loader:\n",
        "    # Move input and label tensors to the default device\n",
        "    images, labels = images.to(device), labels.to(device)\n",
        "    # clear the gradients\n",
        "    optimizer.zero_grad()\n",
        "    # forward pass: compute predicted outputs by passing inputs to the model\n",
        "    log_ps = model(images)\n",
        "    # calculate the loss\n",
        "    loss = criterion(log_ps,labels)\n",
        "    # backward pass: compute gradient of the loss with respect to model parameters\n",
        "    loss.backward()\n",
        "    # perform a single optimization step (parameter update)\n",
        "    optimizer.step()\n",
        "    # update the running loss\n",
        "    train_loss += loss.item()  #*data.size(0)\n",
        "    \n",
        "    \n",
        "  ####################\n",
        "  # validate the model\n",
        "  ####################\n",
        "    \n",
        "  # set the model in evaluation mode\n",
        "  model.eval()\n",
        "  for images,labels in train_loader:\n",
        "    # Move input and label tensors to the default device\n",
        "    images, labels = images.to(device), labels.to(device)\n",
        "    # forward pass: compute predicted outputs by passing inputs to the model\n",
        "    log_ps = model(images)\n",
        "    # calculate the loss\n",
        "    loss = criterion(log_ps,labels)\n",
        "    # update the running loss\n",
        "    valid_loss += loss.item()  #*data.size(0)\n",
        "    \n",
        "    \n",
        "  # print training/validation statistics \n",
        "  # calculate average loss over an epoch\n",
        "  train_loss = train_loss/len(train_loader.dataset)\n",
        "  valid_loss = valid_loss/len(valid_loader.dataset)\n",
        "  #clculate train loss and running loss\n",
        "  train_loss_data.append(train_loss)\n",
        "  valid_loss_data.append(valid_loss)\n",
        "  \n",
        "  print('Epoch: {} \\tTraining Loss: {:.6f} \\tValidation Loss: {:.6f}'.format(\n",
        "        epoch+1, \n",
        "        train_loss,\n",
        "        valid_loss))\n",
        "  \n",
        "  if valid_loss <= valid_loss_min:\n",
        "    print('Validation loss decreased ({:.6f} --> {:.6f}).  Saving model ...'.format(\n",
        "        valid_loss_min, valid_loss))\n",
        "    torch.save(model.state_dict(), 'model.pth')\n",
        "        valid_loss_min = valid_loss"
      ],
      "execution_count": 0,
      "outputs": []
    },
    {
      "metadata": {
        "id": "29ffKyKwiRTy",
        "colab_type": "code",
        "colab": {}
      },
      "cell_type": "code",
      "source": [
        "# load the saved model\n",
        "model.load_state_dict(torch.load('model.pth'))"
      ],
      "execution_count": 0,
      "outputs": []
    },
    {
      "metadata": {
        "id": "rECzbYIwiBpk",
        "colab_type": "code",
        "colab": {}
      },
      "cell_type": "code",
      "source": [
        "# check for overfitting\n",
        "plt.plot(train_loss_data, label = \"taining loss\")\n",
        "plt.plot(valid_loss_data, label = \"validation loss\")\n",
        "plt.legend(frameon = False)"
      ],
      "execution_count": 0,
      "outputs": []
    },
    {
      "metadata": {
        "id": "EZbkSiq7iPgb",
        "colab_type": "code",
        "colab": {}
      },
      "cell_type": "code",
      "source": [
        "# initialize lists to monitor test loss and accuracy\n",
        "test_loss = 0\n",
        "class_correct = list(0. for i in range(10))\n",
        "class_total = list(0. for i in range(10))\n",
        "\n",
        "with torch.no_grad():\n",
        "  model.eval() # prep model for evaluation\n",
        "  for data, target in test_loader:\n",
        "      # Move input and label tensors to the default device\n",
        "      data, target = data.to(device), target.to(device)\n",
        "      # forward pass: compute predicted outputs by passing inputs to the model\n",
        "      output = model(data)\n",
        "      # calculate the loss\n",
        "      loss = criterion(output, target)\n",
        "      # update test loss \n",
        "      test_loss += loss.item() #*data.size(0)\n",
        "      # convert output probabilities to predicted class\n",
        "      _, pred = torch.max(output, 1)\n",
        "      # compare predictions to true label\n",
        "      correct = np.squeeze(pred.eq(target.data.view_as(pred)))\n",
        "      # calculate test accuracy for each object class\n",
        "      for i in range(16):\n",
        "          label = target.data[i]\n",
        "          class_correct[label] += correct[i].item()\n",
        "          class_total[label] += 1\n",
        "  \n",
        "  # calculate and print avg test loss\n",
        "  test_loss = test_loss/len(test_loader.dataset)\n",
        "  print('Test Loss: {:.6f}\\n'.format(test_loss))\n",
        "  \n",
        "  for i in range(10):\n",
        "    if class_total[i] > 0:\n",
        "        print('Test Accuracy of %5s: %2d%% (%2d/%2d)' % (\n",
        "            str(i), 100 * class_correct[i] / class_total[i],\n",
        "            np.sum(class_correct[i]), np.sum(class_total[i])))\n",
        "    else:\n",
        "        print('Test Accuracy of %5s: N/A (no training examples)' % (classes[i]))\n",
        "\n",
        "  print('\\nTest Accuracy (Overall): %2d%% (%2d/%2d)' % (\n",
        "      100. * np.sum(class_correct) / np.sum(class_total),\n",
        "      np.sum(class_correct), np.sum(class_total)))"
      ],
      "execution_count": 0,
      "outputs": []
    },
    {
      "metadata": {
        "id": "wSI_t8u2jaJS",
        "colab_type": "code",
        "colab": {}
      },
      "cell_type": "code",
      "source": [
        "import helper\n",
        "\n",
        "# send pic to model\n",
        "model.eval()\n",
        "\n",
        "images,labels = next(iter(train_loader))\n",
        "\n",
        "# take single img\n",
        "img = images[0]\n",
        "# conver to 1D\n",
        "img = img.view(1,784)\n",
        "\n",
        "with torch.no_grad():\n",
        "    output = model.forward(img)\n",
        "\n",
        "ps = torch.exp(output)\n",
        "helper.view_classify(img.view(1,28,28),ps,version='Fashion')"
      ],
      "execution_count": 0,
      "outputs": []
    }
  ]
}