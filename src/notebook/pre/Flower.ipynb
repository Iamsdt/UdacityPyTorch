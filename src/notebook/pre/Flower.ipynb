{
  "nbformat": 4,
  "nbformat_minor": 0,
  "metadata": {
    "colab": {
      "name": "Flower.ipynb",
      "version": "0.3.2",
      "provenance": [],
      "include_colab_link": true
    },
    "kernelspec": {
      "name": "python3",
      "display_name": "Python 3"
    },
    "accelerator": "GPU"
  },
  "cells": [
    {
      "cell_type": "markdown",
      "metadata": {
        "id": "view-in-github",
        "colab_type": "text"
      },
      "source": [
        "<a href=\"https://colab.research.google.com/github/Iamsdt/UdacityPyTorch/blob/master/src/notebook/pre/Flower.ipynb\" target=\"_parent\"><img src=\"https://colab.research.google.com/assets/colab-badge.svg\" alt=\"Open In Colab\"/></a>"
      ]
    },
    {
      "metadata": {
        "id": "GhicfaLjUxFV",
        "colab_type": "code",
        "colab": {}
      },
      "cell_type": "code",
      "source": [
        "# http://pytorch.org/\n",
        "from os.path import exists\n",
        "from wheel.pep425tags import get_abbr_impl, get_impl_ver, get_abi_tag\n",
        "platform = '{}{}-{}'.format(get_abbr_impl(), get_impl_ver(), get_abi_tag())\n",
        "cuda_output = !ldconfig -p|grep cudart.so|sed -e 's/.*\\.\\([0-9]*\\)\\.\\([0-9]*\\)$/cu\\1\\2/'\n",
        "accelerator = cuda_output[0] if exists('/dev/nvidia0') else 'cpu'\n",
        "\n",
        "!pip install -q http://download.pytorch.org/whl/{accelerator}/torch-0.4.1-{platform}-linux_x86_64.whl torchvision"
      ],
      "execution_count": 0,
      "outputs": []
    },
    {
      "metadata": {
        "id": "pzXqpSuHU1X3",
        "colab_type": "code",
        "colab": {}
      },
      "cell_type": "code",
      "source": [
        "import torch\n",
        "import torch.nn as nn\n",
        "import torch.optim as optim\n",
        "from torch.optim import lr_scheduler\n",
        "import numpy as np\n",
        "import torchvision\n",
        "from torchvision import datasets, models, transforms\n",
        "import matplotlib.pyplot as plt\n",
        "import os"
      ],
      "execution_count": 0,
      "outputs": []
    },
    {
      "metadata": {
        "id": "55bxR_GDU4A6",
        "colab_type": "code",
        "colab": {}
      },
      "cell_type": "code",
      "source": [
        "!wget -cq https://github.com/udacity/pytorch_challenge/raw/master/cat_to_name.json\n",
        "\n",
        "!wget -cq https://s3.amazonaws.com/content.udacity-data.com/courses/nd188/flower_data.zip\n",
        "\n",
        "!unzip -qq flower_data.zip"
      ],
      "execution_count": 0,
      "outputs": []
    },
    {
      "metadata": {
        "id": "O-h2cC9VU7Kj",
        "colab_type": "code",
        "outputId": "c236d300-bf5b-4e26-88bc-b1bd15c38527",
        "colab": {
          "base_uri": "https://localhost:8080/",
          "height": 67
        }
      },
      "cell_type": "code",
      "source": [
        "# create train and test loader\n",
        "data_dir = 'flower_data'\n",
        "\n",
        "from torchvision import datasets, transforms\n",
        "\n",
        "# number of subprocesses to use for data loading\n",
        "num_workers = 0\n",
        "# how many samples per batch to load\n",
        "batch_size = 20\n",
        "# percentage of training set to use as validation\n",
        "valid_size = 0.2\n",
        "\n",
        "# convert data to torch.FloatTensor\n",
        "transform_train = transforms.Compose([\n",
        "        transforms.RandomResizedCrop(224),\n",
        "        transforms.RandomHorizontalFlip(),\n",
        "        transforms.ToTensor(),\n",
        "        transforms.Normalize([0.485, 0.456, 0.406], [0.229, 0.224, 0.225])\n",
        "    ])\n",
        "\n",
        "transform_valid = transforms.Compose([\n",
        "        transforms.Resize(256),\n",
        "        transforms.CenterCrop(224),\n",
        "        transforms.ToTensor(),\n",
        "        transforms.Normalize([0.485, 0.456, 0.406], [0.229, 0.224, 0.225])\n",
        "    ])\n",
        "\n",
        "test_transforms = transforms.Compose([transforms.Resize(255),\n",
        "                                      transforms.CenterCrop(224),\n",
        "                                      transforms.ToTensor()])\n",
        "\n",
        "#data set\n",
        "train_data = datasets.ImageFolder(data_dir + '/train', transform=transform_train)\n",
        "\n",
        "valid_data = datasets.ImageFolder(data_dir + '/train', transform=transform_valid)\n",
        "\n",
        "test_data = datasets.ImageFolder(data_dir + '/valid', transform=test_transforms)\n",
        "\n",
        "# obtain training indices that will be used for validation\n",
        "num_train = len(train_data)\n",
        "print(num_train)\n",
        " \n",
        "print(len(valid_data))\n",
        "print(len(test_data))"
      ],
      "execution_count": 20,
      "outputs": [
        {
          "output_type": "stream",
          "text": [
            "6552\n",
            "6552\n",
            "818\n"
          ],
          "name": "stdout"
        }
      ]
    },
    {
      "metadata": {
        "id": "ai0NHAEQU_kM",
        "colab_type": "code",
        "outputId": "af48348c-fa53-4532-ade0-44b180bef807",
        "colab": {
          "base_uri": "https://localhost:8080/",
          "height": 185
        }
      },
      "cell_type": "code",
      "source": [
        "import numpy as np\n",
        "from torch.utils.data.sampler import SubsetRandomSampler\n",
        "\n",
        "# index of num of train\n",
        "indices = list(range(num_train))\n",
        "#random the index\n",
        "np.random.shuffle(indices)\n",
        "split = int(np.floor(valid_size * num_train))\n",
        "# divied into two part\n",
        "train_idx, valid_idx = indices[split:], indices[:split]\n",
        "\n",
        "# define the sampler\n",
        "train_sampler = SubsetRandomSampler(train_idx)\n",
        "valid_sampler = SubsetRandomSampler(valid_idx)\n",
        "\n",
        "# prepare loaders\n",
        "train_loader = torch.utils.data.DataLoader(\n",
        "    train_data,batch_size=batch_size,\n",
        "    sampler = train_sampler,num_workers = num_workers)\n",
        "\n",
        "valid_loader = torch.utils.data.DataLoader(\n",
        "    valid_data,batch_size=batch_size,\n",
        "    sampler = valid_sampler,num_workers = num_workers)\n",
        "\n",
        "test_loader = torch.utils.data.DataLoader(\n",
        "    test_data,batch_size=batch_size,num_workers = num_workers)\n",
        "\n",
        "print(valid_loader.dataset)"
      ],
      "execution_count": 21,
      "outputs": [
        {
          "output_type": "stream",
          "text": [
            "Dataset ImageFolder\n",
            "    Number of datapoints: 6552\n",
            "    Root Location: flower_data/train\n",
            "    Transforms (if any): Compose(\n",
            "                             Resize(size=256, interpolation=PIL.Image.BILINEAR)\n",
            "                             CenterCrop(size=(224, 224))\n",
            "                             ToTensor()\n",
            "                             Normalize(mean=[0.485, 0.456, 0.406], std=[0.229, 0.224, 0.225])\n",
            "                         )\n",
            "    Target Transforms (if any): None\n"
          ],
          "name": "stdout"
        }
      ]
    },
    {
      "metadata": {
        "id": "lU27UyfRVDIr",
        "colab_type": "code",
        "colab": {}
      },
      "cell_type": "code",
      "source": [
        "flowers_class = {\"21\": \"fire lily\", \"3\": \"canterbury bells\", \"45\": \"bolero deep blue\", \"1\": \"pink primrose\", \"34\": \"mexican aster\", \"27\": \"prince of wales feathers\", \"7\": \"moon orchid\", \"16\": \"globe-flower\", \"25\": \"grape hyacinth\", \"26\": \"corn poppy\", \"79\": \"toad lily\", \"39\": \"siam tulip\", \"24\": \"red ginger\", \"67\": \"spring crocus\", \"35\": \"alpine sea holly\", \"32\": \"garden phlox\", \"10\": \"globe thistle\", \"6\": \"tiger lily\", \"93\": \"ball moss\", \"33\": \"love in the mist\", \"9\": \"monkshood\", \"102\": \"blackberry lily\", \"14\": \"spear thistle\", \"19\": \"balloon flower\", \"100\": \"blanket flower\", \"13\": \"king protea\", \"49\": \"oxeye daisy\", \"15\": \"yellow iris\", \"61\": \"cautleya spicata\", \"31\": \"carnation\", \"64\": \"silverbush\", \"68\": \"bearded iris\", \"63\": \"black-eyed susan\", \"69\": \"windflower\", \"62\": \"japanese anemone\", \"20\": \"giant white arum lily\", \"38\": \"great masterwort\", \"4\": \"sweet pea\", \"86\": \"tree mallow\", \"101\": \"trumpet creeper\", \"42\": \"daffodil\", \"22\": \"pincushion flower\", \"2\": \"hard-leaved pocket orchid\", \"54\": \"sunflower\", \"66\": \"osteospermum\", \"70\": \"tree poppy\", \"85\": \"desert-rose\", \"99\": \"bromelia\", \"87\": \"magnolia\", \"5\": \"english marigold\", \"92\": \"bee balm\", \"28\": \"stemless gentian\", \"97\": \"mallow\", \"57\": \"gaura\", \"40\": \"lenten rose\", \"47\": \"marigold\", \"59\": \"orange dahlia\", \"48\": \"buttercup\", \"55\": \"pelargonium\", \"36\": \"ruby-lipped cattleya\", \"91\": \"hippeastrum\", \"29\": \"artichoke\", \"71\": \"gazania\", \"90\": \"canna lily\", \"18\": \"peruvian lily\", \"98\": \"mexican petunia\", \"8\": \"bird of paradise\", \"30\": \"sweet william\", \"17\": \"purple coneflower\", \"52\": \"wild pansy\", \"84\": \"columbine\", \"12\": \"colt's foot\", \"11\": \"snapdragon\", \"96\": \"camellia\", \"23\": \"fritillary\", \"50\": \"common dandelion\", \"44\": \"poinsettia\", \"53\": \"primula\", \"72\": \"azalea\", \"65\": \"californian poppy\", \"80\": \"anthurium\", \"76\": \"morning glory\", \"37\": \"cape flower\", \"56\": \"bishop of llandaff\", \"60\": \"pink-yellow dahlia\", \"82\": \"clematis\", \"58\": \"geranium\", \"75\": \"thorn apple\", \"41\": \"barbeton daisy\", \"95\": \"bougainvillea\", \"43\": \"sword lily\", \"83\": \"hibiscus\", \"78\": \"lotus lotus\", \"88\": \"cyclamen\", \"94\": \"foxglove\", \"81\": \"frangipani\", \"74\": \"rose\", \"89\": \"watercress\", \"73\": \"water lily\", \"46\": \"wallflower\", \"77\": \"passion flower\", \"51\": \"petunia\"}"
      ],
      "execution_count": 0,
      "outputs": []
    },
    {
      "metadata": {
        "id": "1DqyU5ooVFPc",
        "colab_type": "code",
        "outputId": "6ee55856-bdbb-402d-b1de-fa317678d644",
        "colab": {
          "base_uri": "https://localhost:8080/",
          "height": 104
        }
      },
      "cell_type": "code",
      "source": [
        "# load a pretrained model\n",
        "model = models.densenet121(pretrained = True)"
      ],
      "execution_count": 8,
      "outputs": [
        {
          "output_type": "stream",
          "text": [
            "/usr/local/lib/python3.6/dist-packages/torchvision/models/densenet.py:212: UserWarning: nn.init.kaiming_normal is now deprecated in favor of nn.init.kaiming_normal_.\n",
            "  nn.init.kaiming_normal(m.weight.data)\n",
            "Downloading: \"https://download.pytorch.org/models/densenet121-a639ec97.pth\" to /root/.torch/models/densenet121-a639ec97.pth\n",
            "100%|██████████| 32342954/32342954 [00:02<00:00, 16027840.66it/s]\n"
          ],
          "name": "stderr"
        }
      ]
    },
    {
      "metadata": {
        "id": "K_w7ao5qVdxz",
        "colab_type": "code",
        "outputId": "a8958ebb-db92-429d-e1f1-6f0a9dc62ab9",
        "colab": {
          "base_uri": "https://localhost:8080/",
          "height": 118
        }
      },
      "cell_type": "code",
      "source": [
        "from collections import OrderedDict\n",
        "from torch import nn\n",
        "classifier = nn.Sequential(OrderedDict([\n",
        "                ('fc1', nn.Linear(1024, 500)),\n",
        "                ('relu', nn.ReLU()),\n",
        "                ('fc2', nn.Linear(500, 102)),\n",
        "                ('output', nn.LogSoftmax(dim=1))\n",
        "                ]))\n",
        "\n",
        "# replace the classifer\n",
        "model.classifier = classifier\n",
        "# check the classifier\n",
        "print(model.classifier)"
      ],
      "execution_count": 9,
      "outputs": [
        {
          "output_type": "stream",
          "text": [
            "Sequential(\n",
            "  (fc1): Linear(in_features=1024, out_features=500, bias=True)\n",
            "  (relu): ReLU()\n",
            "  (fc2): Linear(in_features=500, out_features=102, bias=True)\n",
            "  (output): LogSoftmax()\n",
            ")\n"
          ],
          "name": "stdout"
        }
      ]
    },
    {
      "metadata": {
        "id": "ap5wk-1OVpmx",
        "colab_type": "code",
        "colab": {}
      },
      "cell_type": "code",
      "source": [
        "from torch import optim\n",
        "from torch.optim import lr_scheduler\n",
        "# set cretrion and optimizer\n",
        "criterion = nn.CrossEntropyLoss()\n",
        "# Observe that all parameters are being optimized\n",
        "optimizer = optim.SGD(model.parameters(), lr=0.03, momentum=0.9)\n",
        "scheduler = lr_scheduler.StepLR(optimizer, step_size=5, gamma=0.1)\n",
        "\n",
        "#move tensor to default device\n",
        "device = torch.device(\"cuda\" if torch.cuda.is_available() else \"cpu\")\n",
        "model.to(device)"
      ],
      "execution_count": 0,
      "outputs": []
    },
    {
      "metadata": {
        "id": "qZqpgUx4Vt0a",
        "colab_type": "code",
        "colab": {}
      },
      "cell_type": "code",
      "source": [
        "# Train\n",
        "def train(model,\n",
        "          train_loader,\n",
        "          valid_loader,\n",
        "          n_epochs,\n",
        "          device, optimizer,\n",
        "          criterion,\n",
        "          name = \"model.pt\",\n",
        "          path = None):\n",
        "\n",
        "    # compare overfited\n",
        "    train_loss_data, valid_loss_data = [], []\n",
        "    valid_loss_min = np.Inf\n",
        "\n",
        "    for epoch in range(n_epochs):\n",
        "        print(\"Epoch: {}/{}\".format(epoch+1,n_epochs))\n",
        "        # monitor training loss\n",
        "        train_loss = 0.0\n",
        "        valid_loss = 0.0\n",
        "        accuracy = 0\n",
        "\n",
        "        ###################\n",
        "        # train the model #\n",
        "        ###################\n",
        "        model.train()  # prep model for training\n",
        "        for images, lebels in train_loader:\n",
        "            # Move input and label tensors to the default device\n",
        "            images, lebels = images.to(device), lebels.to(device)\n",
        "            # clear the gradients of all optimized variables\n",
        "            optimizer.zero_grad()\n",
        "            # forward pass: compute predicted outputs by passing inputs to the model\n",
        "            log_ps = model(images)\n",
        "            # calculate the loss\n",
        "            loss = criterion(log_ps, lebels)\n",
        "            # backward pass: compute gradient of the loss with respect to model parameters\n",
        "            loss.backward()\n",
        "            # perform a single optimization step (parameter update)\n",
        "            optimizer.step()\n",
        "            # update running training loss\n",
        "            train_loss += loss.item() * images.size(0)\n",
        "\n",
        "        print(\"\\tTrain Steps: \")\n",
        "        ######################\n",
        "        # validate the model #\n",
        "        ######################\n",
        "        model.eval()  # prep model for evaluation\n",
        "        for data, target in valid_loader:\n",
        "            # Move input and label tensors to the default device\n",
        "            data, target = data.to(device), target.to(device)\n",
        "            # forward pass: compute predicted outputs by passing inputs to the model\n",
        "            output = model(data)\n",
        "            # calculate the loss\n",
        "            loss_p = criterion(output, target)\n",
        "            # update running validation loss\n",
        "            valid_loss += loss_p.item() * data.size(0)\n",
        "            # calculate accuracy\n",
        "            #ps = torch.exp(loss_p)\n",
        "            #top_p, top_class = ps.topk(-1, dim=1)\n",
        "            #equals = top_class == target.view(*top_class.shape)\n",
        "            #accuracy += torch.mean(equals.type(torch.FloatTensor))\n",
        "\n",
        "        print(\"\\tValidation Steps: \")\n",
        "        # print training/validation statistics\n",
        "        # calculate average loss over an epoch\n",
        "        train_loss = train_loss / len(train_loader.dataset)\n",
        "        valid_loss = valid_loss / len(valid_loader.dataset)\n",
        "\n",
        "        # clculate train loss and running loss\n",
        "        train_loss_data.append(train_loss * 100)\n",
        "        valid_loss_data.append(valid_loss * 100)\n",
        "\n",
        "        print(\"\\tTrain loss:{:.6f}..\".format(train_loss),\n",
        "              \"\\t Valid Loss:{:.6f}..\".format(valid_loss))\n",
        "              #\"\\tAcceuracy:{:.2f}%\".format(accuracy))\n",
        "\n",
        "        # save model if validation loss has decreased\n",
        "        if valid_loss <= valid_loss_min:\n",
        "            print('\\tValidation loss decreased ({:.6f} --> {:.6f}).  Saving model ...'.format(\n",
        "                valid_loss_min,\n",
        "                valid_loss))\n",
        "            torch.save(model.state_dict(), name)\n",
        "            valid_loss_min = valid_loss\n",
        "            # save to google drive\n",
        "            if path is not None:\n",
        "                torch.save(model.state_dict(), path)\n",
        "\n",
        "    # loop complete\n",
        "    plt.plot(train_loss_data, label=\"taining loss\")\n",
        "    plt.plot(valid_loss_data, label=\"validation loss\")\n",
        "    plt.legend(frameon=False)\n",
        "    \n",
        "    return model"
      ],
      "execution_count": 0,
      "outputs": []
    },
    {
      "metadata": {
        "id": "23DvBZHLWFxg",
        "colab_type": "code",
        "colab": {
          "base_uri": "https://localhost:8080/",
          "height": 1842
        },
        "outputId": "d73b89cc-b228-4d6d-e645-9ffd68d8d685"
      },
      "cell_type": "code",
      "source": [
        "# train model\n",
        "model = train(model,train_loader,valid_loader, 20, device, optimizer, criterion)"
      ],
      "execution_count": 27,
      "outputs": [
        {
          "output_type": "stream",
          "text": [
            "Epoch: 1/20\n",
            "\tTrain Steps: \n",
            "\tValidation Steps: \n",
            "\tTrain loss:2.071831.. \t Valid Loss:0.526668..\n",
            "\tValidation loss decreased (inf --> 0.526668).  Saving model ...\n",
            "Epoch: 2/20\n",
            "\tTrain Steps: \n",
            "\tValidation Steps: \n",
            "\tTrain loss:1.837522.. \t Valid Loss:0.423651..\n",
            "\tValidation loss decreased (0.526668 --> 0.423651).  Saving model ...\n",
            "Epoch: 3/20\n",
            "\tTrain Steps: \n",
            "\tValidation Steps: \n",
            "\tTrain loss:1.730483.. \t Valid Loss:0.435811..\n",
            "Epoch: 4/20\n",
            "\tTrain Steps: \n",
            "\tValidation Steps: \n",
            "\tTrain loss:1.616050.. \t Valid Loss:0.289617..\n",
            "\tValidation loss decreased (0.423651 --> 0.289617).  Saving model ...\n",
            "Epoch: 5/20\n",
            "\tTrain Steps: \n",
            "\tValidation Steps: \n",
            "\tTrain loss:1.408739.. \t Valid Loss:0.326252..\n",
            "Epoch: 6/20\n",
            "\tTrain Steps: \n",
            "\tValidation Steps: \n",
            "\tTrain loss:1.236734.. \t Valid Loss:0.241353..\n",
            "\tValidation loss decreased (0.289617 --> 0.241353).  Saving model ...\n",
            "Epoch: 7/20\n",
            "\tTrain Steps: \n",
            "\tValidation Steps: \n",
            "\tTrain loss:1.130005.. \t Valid Loss:0.180366..\n",
            "\tValidation loss decreased (0.241353 --> 0.180366).  Saving model ...\n",
            "Epoch: 8/20\n",
            "\tTrain Steps: \n",
            "\tValidation Steps: \n",
            "\tTrain loss:0.974285.. \t Valid Loss:0.139920..\n",
            "\tValidation loss decreased (0.180366 --> 0.139920).  Saving model ...\n",
            "Epoch: 9/20\n",
            "\tTrain Steps: \n",
            "\tValidation Steps: \n",
            "\tTrain loss:0.924608.. \t Valid Loss:0.170045..\n",
            "Epoch: 10/20\n",
            "\tTrain Steps: \n",
            "\tValidation Steps: \n",
            "\tTrain loss:0.827380.. \t Valid Loss:0.140753..\n",
            "Epoch: 11/20\n",
            "\tTrain Steps: \n",
            "\tValidation Steps: \n",
            "\tTrain loss:0.799100.. \t Valid Loss:0.105825..\n",
            "\tValidation loss decreased (0.139920 --> 0.105825).  Saving model ...\n",
            "Epoch: 12/20\n",
            "\tTrain Steps: \n",
            "\tValidation Steps: \n",
            "\tTrain loss:0.717131.. \t Valid Loss:0.109125..\n",
            "Epoch: 13/20\n",
            "\tTrain Steps: \n",
            "\tValidation Steps: \n",
            "\tTrain loss:0.657273.. \t Valid Loss:0.143475..\n",
            "Epoch: 14/20\n",
            "\tTrain Steps: \n",
            "\tValidation Steps: \n",
            "\tTrain loss:0.629449.. \t Valid Loss:0.112255..\n",
            "Epoch: 15/20\n",
            "\tTrain Steps: \n",
            "\tValidation Steps: \n",
            "\tTrain loss:0.593886.. \t Valid Loss:0.115923..\n",
            "Epoch: 16/20\n",
            "\tTrain Steps: \n",
            "\tValidation Steps: \n",
            "\tTrain loss:0.556828.. \t Valid Loss:0.109512..\n",
            "Epoch: 17/20\n",
            "\tTrain Steps: \n",
            "\tValidation Steps: \n",
            "\tTrain loss:0.537211.. \t Valid Loss:0.087398..\n",
            "\tValidation loss decreased (0.105825 --> 0.087398).  Saving model ...\n",
            "Epoch: 18/20\n",
            "\tTrain Steps: \n",
            "\tValidation Steps: \n",
            "\tTrain loss:0.480573.. \t Valid Loss:0.087798..\n",
            "Epoch: 19/20\n",
            "\tTrain Steps: \n",
            "\tValidation Steps: \n",
            "\tTrain loss:0.453731.. \t Valid Loss:0.070372..\n",
            "\tValidation loss decreased (0.087398 --> 0.070372).  Saving model ...\n",
            "Epoch: 20/20\n",
            "\tTrain Steps: \n",
            "\tValidation Steps: \n",
            "\tTrain loss:0.455549.. \t Valid Loss:0.105143..\n"
          ],
          "name": "stdout"
        },
        {
          "output_type": "display_data",
          "data": {
            "image/png": "[encoded data removed]",
            "text/plain": [
              "<matplotlib.figure.Figure at 0x7f4049fc1550>"
            ]
          },
          "metadata": {
            "tags": []
          }
        }
      ]
    },
    {
      "metadata": {
        "id": "v4MtJpkHwGIZ",
        "colab_type": "code",
        "colab": {
          "base_uri": "https://localhost:8080/",
          "height": 34
        },
        "outputId": "d4c9059f-73df-4f12-ec1f-4e13179885bf"
      },
      "cell_type": "code",
      "source": [
        "from google.colab import drive\n",
        "drive.mount('/content/gdrive/')"
      ],
      "execution_count": 36,
      "outputs": [
        {
          "output_type": "stream",
          "text": [
            "Mounted at /content/gdrive/\n"
          ],
          "name": "stdout"
        }
      ]
    },
    {
      "metadata": {
        "id": "LTabP6RLwPmq",
        "colab_type": "code",
        "colab": {
          "base_uri": "https://localhost:8080/",
          "height": 50
        },
        "outputId": "0a24940c-98d8-4b6d-e9e1-cde496085592"
      },
      "cell_type": "code",
      "source": [
        "!ls /content/gdrive/My Drive"
      ],
      "execution_count": 37,
      "outputs": [
        {
          "output_type": "stream",
          "text": [
            "ls: cannot access '/content/gdrive/My': No such file or directory\n",
            "ls: cannot access 'Drive': No such file or directory\n"
          ],
          "name": "stdout"
        }
      ]
    },
    {
      "metadata": {
        "id": "mog3CewExIwQ",
        "colab_type": "code",
        "colab": {}
      },
      "cell_type": "code",
      "source": [
        "model_save_name = 'classifier.pt'\n",
        "path = F\"/content/gdrive/My Drive/Jks/{model_save_name}\" \n",
        "torch.save(model.state_dict(), path)"
      ],
      "execution_count": 0,
      "outputs": []
    },
    {
      "metadata": {
        "id": "KApgWHS7WLMi",
        "colab_type": "code",
        "colab": {}
      },
      "cell_type": "code",
      "source": [
        "model.load_state_dict(torch.load(\"model_cifar.pt\"))"
      ],
      "execution_count": 0,
      "outputs": []
    },
    {
      "metadata": {
        "id": "RBJVl7uZWMyr",
        "colab_type": "code",
        "colab": {}
      },
      "cell_type": "code",
      "source": [
        "# check for overfitting\n",
        "plt.plot(train_loss_data, label = \"taining loss\")\n",
        "plt.plot(valid_loss_data, label = \"validation loss\")\n",
        "plt.legend(frameon = False)"
      ],
      "execution_count": 0,
      "outputs": []
    },
    {
      "metadata": {
        "id": "MHoVt_pvWOSk",
        "colab_type": "code",
        "outputId": "5edaea98-4d53-4d9b-a1ef-891ae2cc49b8",
        "colab": {
          "base_uri": "https://localhost:8080/",
          "height": 229
        }
      },
      "cell_type": "code",
      "source": [
        "# track test loss\n",
        "test_loss = 0.0\n",
        "class_correct = list(0. for i in range(102))\n",
        "class_total = list(0. for i in range(102))\n",
        "\n",
        "with torch.no_grad():\n",
        "  model.eval()\n",
        "  # iterate over test data\n",
        "  for data, target in test_loader:\n",
        "      # move tensors to GPU if CUDA is available\n",
        "      data, target = data.to(device), target.to(device)\n",
        "      # forward pass: compute predicted outputs by passing inputs to the model\n",
        "      output = model(data)\n",
        "      # calculate the batch loss\n",
        "      loss = criterion(output, target)\n",
        "      # update test loss \n",
        "      test_loss += loss.item()*data.size(0)\n",
        "      # convert output probabilities to predicted class\n",
        "      _, pred = torch.max(output, 1)    \n",
        "      # compare predictions to true label\n",
        "      correct = np.squeeze(pred.eq(target.data.view_as(pred)))\n",
        "      # calculate test accuracy for each object class\n",
        "      for i in range(batch_size):\n",
        "          label = target.data[i]\n",
        "          class_correct[label] += correct[i].item()\n",
        "          class_total[label] += 1\n",
        "\n",
        "# average test loss\n",
        "test_loss = test_loss/len(test_loader.dataset)\n",
        "print('Test Loss: {:.6f}\\n'.format(test_loss))\n",
        "\n",
        "for i in range(10):\n",
        "    if class_total[i] > 0:\n",
        "        print('Test Accuracy of %5s: %2d%% (%2d/%2d)' % (\n",
        "            classes[i], 100 * class_correct[i] / class_total[i],\n",
        "            np.sum(class_correct[i]), np.sum(class_total[i])))\n",
        "    else:\n",
        "        print('Test Accuracy of %5s: N/A (no training examples)' % (classes[i]))\n",
        "\n",
        "print('\\nTest Accuracy (Overall): %2d%% (%2d/%2d)' % (\n",
        "    100. * np.sum(class_correct) / np.sum(class_total),\n",
        "    np.sum(class_correct), np.sum(class_total)))"
      ],
      "execution_count": 0,
      "outputs": [
        {
          "output_type": "error",
          "ename": "IndexError",
          "evalue": "ignored",
          "traceback": [
            "\u001b[0;31m---------------------------------------------------------------------------\u001b[0m",
            "\u001b[0;31mIndexError\u001b[0m                                Traceback (most recent call last)",
            "\u001b[0;32m<ipython-input-28-d82b9695da36>\u001b[0m in \u001b[0;36m<module>\u001b[0;34m()\u001b[0m\n\u001b[1;32m     21\u001b[0m       \u001b[0;31m# calculate test accuracy for each object class\u001b[0m\u001b[0;34m\u001b[0m\u001b[0;34m\u001b[0m\u001b[0;34m\u001b[0m\u001b[0m\n\u001b[1;32m     22\u001b[0m       \u001b[0;32mfor\u001b[0m \u001b[0mi\u001b[0m \u001b[0;32min\u001b[0m \u001b[0mrange\u001b[0m\u001b[0;34m(\u001b[0m\u001b[0mbatch_size\u001b[0m\u001b[0;34m)\u001b[0m\u001b[0;34m:\u001b[0m\u001b[0;34m\u001b[0m\u001b[0;34m\u001b[0m\u001b[0m\n\u001b[0;32m---> 23\u001b[0;31m           \u001b[0mlabel\u001b[0m \u001b[0;34m=\u001b[0m \u001b[0mtarget\u001b[0m\u001b[0;34m.\u001b[0m\u001b[0mdata\u001b[0m\u001b[0;34m[\u001b[0m\u001b[0mi\u001b[0m\u001b[0;34m]\u001b[0m\u001b[0;34m\u001b[0m\u001b[0;34m\u001b[0m\u001b[0m\n\u001b[0m\u001b[1;32m     24\u001b[0m           \u001b[0mclass_correct\u001b[0m\u001b[0;34m[\u001b[0m\u001b[0mlabel\u001b[0m\u001b[0;34m]\u001b[0m \u001b[0;34m+=\u001b[0m \u001b[0mcorrect\u001b[0m\u001b[0;34m[\u001b[0m\u001b[0mi\u001b[0m\u001b[0;34m]\u001b[0m\u001b[0;34m.\u001b[0m\u001b[0mitem\u001b[0m\u001b[0;34m(\u001b[0m\u001b[0;34m)\u001b[0m\u001b[0;34m\u001b[0m\u001b[0;34m\u001b[0m\u001b[0m\n\u001b[1;32m     25\u001b[0m           \u001b[0mclass_total\u001b[0m\u001b[0;34m[\u001b[0m\u001b[0mlabel\u001b[0m\u001b[0;34m]\u001b[0m \u001b[0;34m+=\u001b[0m \u001b[0;36m1\u001b[0m\u001b[0;34m\u001b[0m\u001b[0;34m\u001b[0m\u001b[0m\n",
            "\u001b[0;31mIndexError\u001b[0m: index 18 is out of bounds for dimension 0 with size 18"
          ]
        }
      ]
    }
  ]
}