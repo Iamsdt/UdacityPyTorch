{
  "nbformat": 4,
  "nbformat_minor": 0,
  "metadata": {
    "colab": {
      "name": "Flower2.ipynb",
      "version": "0.3.2",
      "provenance": [],
      "collapsed_sections": [],
      "include_colab_link": true
    },
    "kernelspec": {
      "name": "python3",
      "display_name": "Python 3"
    },
    "accelerator": "GPU"
  },
  "cells": [
    {
      "cell_type": "markdown",
      "metadata": {
        "id": "view-in-github",
        "colab_type": "text"
      },
      "source": [
        "<a href=\"https://colab.research.google.com/github/Iamsdt/UdacityPyTorch/blob/master/src/notebook/pre/Flower2.ipynb\" target=\"_parent\"><img src=\"https://colab.research.google.com/assets/colab-badge.svg\" alt=\"Open In Colab\"/></a>"
      ]
    },
    {
      "metadata": {
        "id": "PRiy8B7FGYUO",
        "colab_type": "code",
        "colab": {}
      },
      "cell_type": "code",
      "source": [
        "# http://pytorch.org/\n",
        "from os.path import exists\n",
        "from wheel.pep425tags import get_abbr_impl, get_impl_ver, get_abi_tag\n",
        "platform = '{}{}-{}'.format(get_abbr_impl(), get_impl_ver(), get_abi_tag())\n",
        "cuda_output = !ldconfig -p|grep cudart.so|sed -e 's/.*\\.\\([0-9]*\\)\\.\\([0-9]*\\)$/cu\\1\\2/'\n",
        "accelerator = cuda_output[0] if exists('/dev/nvidia0') else 'cpu'\n",
        "\n",
        "!pip install -q http://download.pytorch.org/whl/{accelerator}/torch-0.4.1-{platform}-linux_x86_64.whl torchvision"
      ],
      "execution_count": 0,
      "outputs": []
    },
    {
      "metadata": {
        "id": "HuCxwNycG6SC",
        "colab_type": "code",
        "colab": {
          "base_uri": "https://localhost:8080/",
          "height": 34
        },
        "outputId": "7d385026-d9ac-4db7-b408-4d56d272436b"
      },
      "cell_type": "code",
      "source": [
        "# Load data\n",
        "!wget -cq https://github.com/udacity/pytorch_challenge/raw/master/cat_to_name.json\n",
        "\n",
        "!wget -cq https://s3.amazonaws.com/content.udacity-data.com/courses/nd188/flower_data.zip\n",
        "\n",
        "!unzip -qq flower_data.zip"
      ],
      "execution_count": 1,
      "outputs": [
        {
          "output_type": "stream",
          "text": [
            "replace flower_data/valid/61/image_06296.jpg? [y]es, [n]o, [A]ll, [N]one, [r]ename: A\n"
          ],
          "name": "stdout"
        }
      ]
    },
    {
      "metadata": {
        "id": "3ubI6mdwMUNY",
        "colab_type": "code",
        "colab": {
          "base_uri": "https://localhost:8080/",
          "height": 202
        },
        "outputId": "651dc966-86ae-4017-adf0-60da7a286f92"
      },
      "cell_type": "code",
      "source": [
        "# Load train class\n",
        "!wget -c https://raw.githubusercontent.com/Iamsdt/UdacityPyTorch/master/src/notebook/Train.py"
      ],
      "execution_count": 2,
      "outputs": [
        {
          "output_type": "stream",
          "text": [
            "--2018-12-25 15:07:43--  https://raw.githubusercontent.com/Iamsdt/UdacityPyTorch/master/src/notebook/Train.py\n",
            "Resolving raw.githubusercontent.com (raw.githubusercontent.com)... 151.101.0.133, 151.101.64.133, 151.101.128.133, ...\n",
            "Connecting to raw.githubusercontent.com (raw.githubusercontent.com)|151.101.0.133|:443... connected.\n",
            "HTTP request sent, awaiting response... 200 OK\n",
            "Length: 14062 (14K) [text/plain]\n",
            "Saving to: ‘Train.py’\n",
            "\n",
            "\rTrain.py              0%[                    ]       0  --.-KB/s               \rTrain.py            100%[===================>]  13.73K  --.-KB/s    in 0.01s   \n",
            "\n",
            "2018-12-25 15:07:44 (1.40 MB/s) - ‘Train.py’ saved [14062/14062]\n",
            "\n"
          ],
          "name": "stdout"
        }
      ]
    },
    {
      "metadata": {
        "id": "oiiP9YZkpzwa",
        "colab_type": "code",
        "colab": {}
      },
      "cell_type": "code",
      "source": [
        "import Train"
      ],
      "execution_count": 0,
      "outputs": []
    },
    {
      "metadata": {
        "id": "YEme4XlgrJLU",
        "colab_type": "code",
        "colab": {
          "base_uri": "https://localhost:8080/",
          "height": 67
        },
        "outputId": "902bfab8-a5e5-4f85-c0a3-0a0dee0bfa20"
      },
      "cell_type": "code",
      "source": [
        "# create train and test loader\n",
        "data_dir = 'flower_data'\n",
        "\n",
        "from torchvision import datasets, transforms\n",
        "\n",
        "# number of subprocesses to use for data loading\n",
        "num_workers = 0\n",
        "# how many samples per batch to load\n",
        "batch_size = 20\n",
        "# percentage of training set to use as validation\n",
        "valid_size = 0.2\n",
        "\n",
        "# convert data to torch.FloatTensor\n",
        "transform_train = transforms.Compose([\n",
        "        transforms.RandomResizedCrop(224),\n",
        "        transforms.RandomHorizontalFlip(),\n",
        "        transforms.ToTensor(),\n",
        "        transforms.Normalize([0.485, 0.456, 0.406], [0.229, 0.224, 0.225])\n",
        "    ])\n",
        "\n",
        "transform_valid = transforms.Compose([\n",
        "        transforms.Resize(256),\n",
        "        transforms.CenterCrop(224),\n",
        "        transforms.ToTensor(),\n",
        "        transforms.Normalize([0.485, 0.456, 0.406], [0.229, 0.224, 0.225])\n",
        "    ])\n",
        "\n",
        "test_transforms = transforms.Compose([\n",
        "    transforms.Resize(255),\n",
        "    transforms.CenterCrop(224),\n",
        "    transforms.ToTensor(),\n",
        "    transforms.Normalize([0.485, 0.456, 0.406], [0.229, 0.224, 0.225])\n",
        "    ])\n",
        "\n",
        "# ceate data loader\n",
        "train_loader, valid_loader, test_loader = Train.prepare_loader(data_dir,transform_train,transform_valid,test_transforms)"
      ],
      "execution_count": 5,
      "outputs": [
        {
          "output_type": "stream",
          "text": [
            "Train size:6552\n",
            "Valid size:6552\n",
            "Test size:818\n"
          ],
          "name": "stdout"
        }
      ]
    },
    {
      "metadata": {
        "id": "4zfrYyyatx99",
        "colab_type": "code",
        "colab": {
          "base_uri": "https://localhost:8080/",
          "height": 70
        },
        "outputId": "8fa1aaec-43b5-4c5f-d992-7066c1598397"
      },
      "cell_type": "code",
      "source": [
        "from torchvision import models\n",
        "# load a pretrained model\n",
        "model = models.densenet121(pretrained = True)"
      ],
      "execution_count": 7,
      "outputs": [
        {
          "output_type": "stream",
          "text": [
            "/usr/local/lib/python3.6/dist-packages/torchvision/models/densenet.py:212: UserWarning: nn.init.kaiming_normal is now deprecated in favor of nn.init.kaiming_normal_.\n",
            "  nn.init.kaiming_normal(m.weight.data)\n"
          ],
          "name": "stderr"
        }
      ]
    },
    {
      "metadata": {
        "id": "wlTOoPmn1KvF",
        "colab_type": "code",
        "colab": {
          "base_uri": "https://localhost:8080/",
          "height": 118
        },
        "outputId": "2e207cd1-8113-43be-bdfc-4aac84fef5fb"
      },
      "cell_type": "code",
      "source": [
        "from collections import OrderedDict\n",
        "from torch import nn\n",
        "classifier = nn.Sequential(OrderedDict([\n",
        "                ('fc1', nn.Linear(1024, 500)),\n",
        "                ('relu', nn.ReLU()),\n",
        "                ('fc2', nn.Linear(500, 102)),\n",
        "                ('output', nn.LogSoftmax(dim=1))\n",
        "                ]))\n",
        "\n",
        "# replace the classifer\n",
        "model.classifier = classifier\n",
        "# check the classifier\n",
        "print(model.classifier)"
      ],
      "execution_count": 8,
      "outputs": [
        {
          "output_type": "stream",
          "text": [
            "Sequential(\n",
            "  (fc1): Linear(in_features=1024, out_features=500, bias=True)\n",
            "  (relu): ReLU()\n",
            "  (fc2): Linear(in_features=500, out_features=102, bias=True)\n",
            "  (output): LogSoftmax()\n",
            ")\n"
          ],
          "name": "stdout"
        }
      ]
    },
    {
      "metadata": {
        "id": "XXzWUSqk1N1v",
        "colab_type": "code",
        "colab": {}
      },
      "cell_type": "code",
      "source": [
        "import torch\n",
        "from torch import optim\n",
        "from torch.optim import lr_scheduler\n",
        "# set cretrion and optimizer\n",
        "criterion = nn.CrossEntropyLoss()\n",
        "# Observe that all parameters are being optimized\n",
        "optimizer = optim.SGD(model.parameters(), lr=0.03, momentum=0.9)\n",
        "scheduler = lr_scheduler.StepLR(optimizer, step_size=5, gamma=0.1)\n",
        "\n",
        "#move tensor to default device\n",
        "device = torch.device(\"cuda\" if torch.cuda.is_available() else \"cpu\")\n",
        "model.to(device)"
      ],
      "execution_count": 0,
      "outputs": []
    },
    {
      "metadata": {
        "id": "qA9KF_071SFo",
        "colab_type": "code",
        "colab": {}
      },
      "cell_type": "code",
      "source": [
        "model = Train.train_model(model,train_loader,valid_loader, 1, device, optimizer,scheduler, criterion)"
      ],
      "execution_count": 0,
      "outputs": []
    },
    {
      "metadata": {
        "id": "s1Zm7ffX20Cc",
        "colab_type": "code",
        "colab": {}
      },
      "cell_type": "code",
      "source": [
        "v = Train.calc_accuracy(model,224,testset_path=\"{}/valid\".format(data_dir),batch_size=200)"
      ],
      "execution_count": 0,
      "outputs": []
    },
    {
      "metadata": {
        "id": "iUd-4yPA8ZhP",
        "colab_type": "code",
        "colab": {}
      },
      "cell_type": "code",
      "source": [
        "def plot_solution(image_path, model,cat_to_name):\n",
        "    \"\"\"\n",
        "    Plot an image with the top 5 class prediction\n",
        "    :param image_path:\n",
        "    :param model:\n",
        "    :return:\n",
        "    \"\"\"\n",
        "    # Set up plot\n",
        "    plt.figure(figsize=(6, 10))\n",
        "    ax = plt.subplot(2, 1, 1)\n",
        "    # Set up title\n",
        "    flower_num = image_path.split('/')[3]\n",
        "    #title_ = cat_to_name[flower_num]\n",
        "    # Plot flower\n",
        "    img = process_image(image_path)\n",
        "    imshow(img, ax);\n",
        "    # Make prediction\n",
        "    probs, labs, flowers = predict(image_path, cat_to_name, model)\n",
        "    # Plot bar chart\n",
        "    plt.subplot(2, 1, 2)\n",
        "    sns.barplot(x=probs, y=flowers, color=sns.color_palette()[0]);\n",
        "    plt.show()\n",
        "\n",
        "\n",
        "# Class Prediction\n",
        "\n",
        "def predict(image_path, cat_to_name, model, top_num=5):\n",
        "    \"\"\"\n",
        "    Predict the class of an image, given a model\n",
        "    :param image_path:\n",
        "    :param model:\n",
        "    :param top_num:\n",
        "    :return:\n",
        "    \"\"\"\n",
        "    # Process image\n",
        "    img = process_image(image_path)\n",
        "\n",
        "    # Numpy -> Tensor\n",
        "    image_tensor = torch.from_numpy(img).type(torch.FloatTensor)\n",
        "    # Add batch of size 1 to image\n",
        "    model_input = image_tensor.unsqueeze(0)\n",
        "\n",
        "    image_tensor.to('cpu')\n",
        "    model_input.to('cpu')\n",
        "    model.to('cpu')\n",
        "\n",
        "    # Probs\n",
        "    probs = torch.exp(model.forward(model_input))\n",
        "\n",
        "    # Top probs\n",
        "    top_probs, top_labs = probs.topk(top_num)\n",
        "    top_probs = top_probs.detach().numpy().tolist()[0]\n",
        "    top_labs = top_labs.detach().numpy().tolist()[0]\n",
        "\n",
        "    # Convert indices to classes\n",
        "    idx_to_class = {val: key for key, val in\n",
        "                    model.class_to_idx.items()}\n",
        "    top_labels = [idx_to_class[lab] for lab in top_labs]\n",
        "    top_flowers = [cat_to_name[idx_to_class[lab]] for lab in top_labs]\n",
        "    return top_probs, top_labels, top_flowers\n",
        "\n",
        "\n",
        "def process_image(image_path):\n",
        "    \"\"\"\n",
        "    Scales, crops, and normalizes a PIL image for a PyTorch\n",
        "    model, returns an Numpy array\n",
        "    \"\"\"\n",
        "    # Open the image\n",
        "    from PIL import Image\n",
        "    img = Image.open(image_path)\n",
        "    # Resize\n",
        "    if img.size[0] > img.size[1]:\n",
        "        img.thumbnail((10000, 256))\n",
        "    else:\n",
        "        img.thumbnail((256, 10000))\n",
        "    # Crop\n",
        "    left_margin = (img.width - 224) / 2\n",
        "    bottom_margin = (img.height - 224) / 2\n",
        "    right_margin = left_margin + 224\n",
        "    top_margin = bottom_margin + 224\n",
        "    img = img.crop((left_margin, bottom_margin, right_margin,\n",
        "                    top_margin))\n",
        "    # Normalize\n",
        "    img = np.array(img) / 255\n",
        "    mean = np.array([0.485, 0.456, 0.406])  # provided mean\n",
        "    std = np.array([0.229, 0.224, 0.225])  # provided std\n",
        "    img = (img - mean) / std\n",
        "\n",
        "    # Move color channels to first dimension as expected by PyTorch\n",
        "    img = img.transpose((2, 0, 1))\n",
        "\n",
        "    return img\n",
        "\n",
        "\n",
        "def imshow(image, ax=None, title=None):\n",
        "    if ax is None:\n",
        "        fig, ax = plt.subplots()\n",
        "    if title:\n",
        "        plt.title(title)\n",
        "    # PyTorch tensors assume the color channel is first\n",
        "    # but matplotlib assumes is the third dimension\n",
        "    image = image.transpose((1, 2, 0))\n",
        "\n",
        "    # Undo preprocessing\n",
        "    mean = np.array([0.485, 0.456, 0.406])\n",
        "    std = np.array([0.229, 0.224, 0.225])\n",
        "    image = std * image + mean\n",
        "\n",
        "    # Image needs to be clipped between 0 and 1\n",
        "    image = np.clip(image, 0, 1)\n",
        "\n",
        "    ax.imshow(image)\n",
        "\n",
        "    return ax"
      ],
      "execution_count": 0,
      "outputs": []
    },
    {
      "metadata": {
        "id": "XQ7pwcx-6nyz",
        "colab_type": "code",
        "colab": {}
      },
      "cell_type": "code",
      "source": [
        "import os\n",
        "%matplotlib inline\n",
        "\n",
        "import matplotlib\n",
        "import numpy as np\n",
        "import matplotlib.pyplot as plt\n",
        "image_path = os.path.join(\"flower_data/valid\", '28/image_05265.jpg')\n",
        "cat_to_name = Train.get_cat_name()\n",
        "plot_solution(image_path, model,cat_to_name)"
      ],
      "execution_count": 0,
      "outputs": []
    }
  ]
}